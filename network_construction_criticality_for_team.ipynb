{
 "cells": [
  {
   "cell_type": "code",
   "execution_count": 1,
   "metadata": {
    "collapsed": false
   },
   "outputs": [
    {
     "name": "stdout",
     "output_type": "stream",
     "text": [
      "Populating the interactive namespace from numpy and matplotlib\n"
     ]
    }
   ],
   "source": [
    "import networkx as nx\n",
    "import pandas as pd\n",
    "import numpy as np\n",
    "import geopandas as gpd\n",
    "from operator import itemgetter\n",
    "import matplotlib.pyplot as plt\n",
    "%pylab inline\n",
    "import itertools\n",
    "import os\n",
    "import csv"
   ]
  },
  {
   "cell_type": "markdown",
   "metadata": {},
   "source": [
    "## STRUCTURE\n",
    "\n",
    "- set sub nodes ( by line at each station )\n",
    "- set master nodes ( by station )\n",
    "- link of sub nodes by train\n",
    "- link of sub nodes by transfer\n",
    "- link of sub nodes and master nodes by waiting time"
   ]
  },
  {
   "cell_type": "markdown",
   "metadata": {},
   "source": [
    "### set sub nodes"
   ]
  },
  {
   "cell_type": "code",
   "execution_count": 3,
   "metadata": {
    "collapsed": false
   },
   "outputs": [],
   "source": [
    "#Get the station data -\n",
    "ndata = pd.read_csv(\"sub_node\")"
   ]
  },
  {
   "cell_type": "code",
   "execution_count": 4,
   "metadata": {
    "collapsed": false
   },
   "outputs": [],
   "source": [
    "#initialize the graph\n",
    "#G.clear()\n",
    "G = nx.MultiDiGraph(name='NYC Subway Network')"
   ]
  },
  {
   "cell_type": "code",
   "execution_count": 5,
   "metadata": {
    "collapsed": false
   },
   "outputs": [],
   "source": [
    "#add sub nodes and attributes\n",
    "for i in range(0,len(ndata)):\n",
    "    G.add_node(ndata.node_id[i],\n",
    "               name = ndata.stop_name[i],\n",
    "               line = ndata['train'][i],\n",
    "               lat = ndata.stop_lat[i],\n",
    "               lng = ndata.stop_lon[i],\n",
    "               geo = (ndata.stop_lon[i],ndata.stop_lat[i]),\n",
    "               stop_id = ndata.stop_id[i],\n",
    "               master_node='No',\n",
    "               master_node_id = ndata.master_node_id[i]\n",
    "              )"
   ]
  },
  {
   "cell_type": "code",
   "execution_count": 6,
   "metadata": {
    "collapsed": false
   },
   "outputs": [
    {
     "data": {
      "text/plain": [
       "[('625_4',\n",
       "  {'geo': (-73.951070000000001, 40.785671999999998),\n",
       "   'lat': 40.785671999999998,\n",
       "   'line': '4',\n",
       "   'lng': -73.951070000000001,\n",
       "   'master_node': 'No',\n",
       "   'master_node_id': '96 St_1',\n",
       "   'name': '96 St',\n",
       "   'stop_id': '625'}),\n",
       " ('D25_Q',\n",
       "  {'geo': (-73.972367000000006, 40.677050000000001),\n",
       "   'lat': 40.677050000000001,\n",
       "   'line': 'Q',\n",
       "   'lng': -73.972367000000006,\n",
       "   'master_node': 'No',\n",
       "   'master_node_id': '7 Av_1',\n",
       "   'name': '7 Av',\n",
       "   'stop_id': 'D25'}),\n",
       " ('625_6',\n",
       "  {'geo': (-73.951070000000001, 40.785671999999998),\n",
       "   'lat': 40.785671999999998,\n",
       "   'line': '6',\n",
       "   'lng': -73.951070000000001,\n",
       "   'master_node': 'No',\n",
       "   'master_node_id': '96 St_1',\n",
       "   'name': '96 St',\n",
       "   'stop_id': '625'})]"
      ]
     },
     "execution_count": 6,
     "metadata": {},
     "output_type": "execute_result"
    }
   ],
   "source": [
    "#show the nodes in G\n",
    "G.nodes(data=True)[:3]"
   ]
  },
  {
   "cell_type": "markdown",
   "metadata": {},
   "source": [
    "### set master nodes"
   ]
  },
  {
   "cell_type": "code",
   "execution_count": 7,
   "metadata": {
    "collapsed": false
   },
   "outputs": [],
   "source": [
    "#get the master node data and attributes\n",
    "mdata = pd.read_csv(\"master_node\")"
   ]
  },
  {
   "cell_type": "code",
   "execution_count": 8,
   "metadata": {
    "collapsed": false
   },
   "outputs": [
    {
     "data": {
      "text/html": [
       "<div>\n",
       "<style>\n",
       "    .dataframe thead tr:only-child th {\n",
       "        text-align: right;\n",
       "    }\n",
       "\n",
       "    .dataframe thead th {\n",
       "        text-align: left;\n",
       "    }\n",
       "\n",
       "    .dataframe tbody tr th {\n",
       "        vertical-align: top;\n",
       "    }\n",
       "</style>\n",
       "<table border=\"1\" class=\"dataframe\">\n",
       "  <thead>\n",
       "    <tr style=\"text-align: right;\">\n",
       "      <th></th>\n",
       "      <th>Unnamed: 0</th>\n",
       "      <th>master_node_id</th>\n",
       "      <th>stop_name</th>\n",
       "      <th>stop_lat</th>\n",
       "      <th>stop_lon</th>\n",
       "      <th>stop_id</th>\n",
       "    </tr>\n",
       "  </thead>\n",
       "  <tbody>\n",
       "    <tr>\n",
       "      <th>0</th>\n",
       "      <td>0</td>\n",
       "      <td>1 Av_0</td>\n",
       "      <td>1 Av</td>\n",
       "      <td>40.730953</td>\n",
       "      <td>-73.981628</td>\n",
       "      <td>L06</td>\n",
       "    </tr>\n",
       "    <tr>\n",
       "      <th>1</th>\n",
       "      <td>1</td>\n",
       "      <td>103 St - Corona Plaza_0</td>\n",
       "      <td>103 St - Corona Plaza</td>\n",
       "      <td>40.749865</td>\n",
       "      <td>-73.862700</td>\n",
       "      <td>706</td>\n",
       "    </tr>\n",
       "    <tr>\n",
       "      <th>2</th>\n",
       "      <td>2</td>\n",
       "      <td>103 St_0</td>\n",
       "      <td>103 St</td>\n",
       "      <td>40.799446</td>\n",
       "      <td>-73.968379</td>\n",
       "      <td>119</td>\n",
       "    </tr>\n",
       "    <tr>\n",
       "      <th>3</th>\n",
       "      <td>3</td>\n",
       "      <td>103 St_1</td>\n",
       "      <td>103 St</td>\n",
       "      <td>40.790600</td>\n",
       "      <td>-73.947478</td>\n",
       "      <td>624</td>\n",
       "    </tr>\n",
       "    <tr>\n",
       "      <th>4</th>\n",
       "      <td>4</td>\n",
       "      <td>103 St_2</td>\n",
       "      <td>103 St</td>\n",
       "      <td>40.796092</td>\n",
       "      <td>-73.961454</td>\n",
       "      <td>A18</td>\n",
       "    </tr>\n",
       "  </tbody>\n",
       "</table>\n",
       "</div>"
      ],
      "text/plain": [
       "   Unnamed: 0           master_node_id              stop_name   stop_lat  \\\n",
       "0           0                   1 Av_0                   1 Av  40.730953   \n",
       "1           1  103 St - Corona Plaza_0  103 St - Corona Plaza  40.749865   \n",
       "2           2                 103 St_0                 103 St  40.799446   \n",
       "3           3                 103 St_1                 103 St  40.790600   \n",
       "4           4                 103 St_2                 103 St  40.796092   \n",
       "\n",
       "    stop_lon stop_id  \n",
       "0 -73.981628     L06  \n",
       "1 -73.862700     706  \n",
       "2 -73.968379     119  \n",
       "3 -73.947478     624  \n",
       "4 -73.961454     A18  "
      ]
     },
     "execution_count": 8,
     "metadata": {},
     "output_type": "execute_result"
    }
   ],
   "source": [
    "mdata.head()"
   ]
  },
  {
   "cell_type": "code",
   "execution_count": 9,
   "metadata": {
    "collapsed": false
   },
   "outputs": [],
   "source": [
    "#add nodes and attributes\n",
    "for i in range(0,len(mdata)):\n",
    "    G.add_node(mdata.master_node_id[i],\n",
    "               name = mdata.stop_name[i],\n",
    "               master_node='Yes',\n",
    "               stop_id = mdata.stop_id[i]\n",
    "              )"
   ]
  },
  {
   "cell_type": "code",
   "execution_count": 10,
   "metadata": {
    "collapsed": false
   },
   "outputs": [
    {
     "data": {
      "text/plain": [
       "[('138_5',\n",
       "  {'geo': (-74.012187999999995, 40.711835000000001),\n",
       "   'lat': 40.711835000000001,\n",
       "   'line': '5',\n",
       "   'lng': -74.012187999999995,\n",
       "   'master_node': 'No',\n",
       "   'master_node_id': 'Cortlandt St_0',\n",
       "   'name': 'Cortlandt St',\n",
       "   'stop_id': '138'}),\n",
       " ('Richmond Valley_0',\n",
       "  {'master_node': 'Yes', 'name': 'Richmond Valley', 'stop_id': 'S13'})]"
      ]
     },
     "execution_count": 10,
     "metadata": {},
     "output_type": "execute_result"
    }
   ],
   "source": [
    "G.nodes(data=True)[6:8]"
   ]
  },
  {
   "cell_type": "markdown",
   "metadata": {},
   "source": [
    "## link of sub nodes by train"
   ]
  },
  {
   "cell_type": "code",
   "execution_count": 11,
   "metadata": {
    "collapsed": true
   },
   "outputs": [],
   "source": [
    "## get edge data\n",
    "edata = pd.read_csv('duration_7-10am_weekday')"
   ]
  },
  {
   "cell_type": "code",
   "execution_count": 12,
   "metadata": {
    "collapsed": false
   },
   "outputs": [
    {
     "data": {
      "text/html": [
       "<div>\n",
       "<style>\n",
       "    .dataframe thead tr:only-child th {\n",
       "        text-align: right;\n",
       "    }\n",
       "\n",
       "    .dataframe thead th {\n",
       "        text-align: left;\n",
       "    }\n",
       "\n",
       "    .dataframe tbody tr th {\n",
       "        vertical-align: top;\n",
       "    }\n",
       "</style>\n",
       "<table border=\"1\" class=\"dataframe\">\n",
       "  <thead>\n",
       "    <tr style=\"text-align: right;\">\n",
       "      <th></th>\n",
       "      <th>Unnamed: 0</th>\n",
       "      <th>from_stop_id</th>\n",
       "      <th>to_stop_id</th>\n",
       "      <th>train</th>\n",
       "      <th>duration</th>\n",
       "      <th>from_stop_name</th>\n",
       "      <th>from_stop_lat</th>\n",
       "      <th>from_stop_lon</th>\n",
       "      <th>to_stop_name</th>\n",
       "      <th>to_stop_lat</th>\n",
       "      <th>to_stop_lon</th>\n",
       "      <th>from_node</th>\n",
       "      <th>to_node</th>\n",
       "    </tr>\n",
       "  </thead>\n",
       "  <tbody>\n",
       "    <tr>\n",
       "      <th>0</th>\n",
       "      <td>0</td>\n",
       "      <td>101S</td>\n",
       "      <td>103S</td>\n",
       "      <td>1</td>\n",
       "      <td>90.0</td>\n",
       "      <td>Van Cortlandt Park - 242 St</td>\n",
       "      <td>40.889248</td>\n",
       "      <td>-73.898583</td>\n",
       "      <td>238 St</td>\n",
       "      <td>40.884667</td>\n",
       "      <td>-73.900870</td>\n",
       "      <td>101_1</td>\n",
       "      <td>103_1</td>\n",
       "    </tr>\n",
       "    <tr>\n",
       "      <th>1</th>\n",
       "      <td>1</td>\n",
       "      <td>103N</td>\n",
       "      <td>101N</td>\n",
       "      <td>1</td>\n",
       "      <td>90.0</td>\n",
       "      <td>238 St</td>\n",
       "      <td>40.884667</td>\n",
       "      <td>-73.900870</td>\n",
       "      <td>Van Cortlandt Park - 242 St</td>\n",
       "      <td>40.889248</td>\n",
       "      <td>-73.898583</td>\n",
       "      <td>103_1</td>\n",
       "      <td>101_1</td>\n",
       "    </tr>\n",
       "    <tr>\n",
       "      <th>2</th>\n",
       "      <td>2</td>\n",
       "      <td>103S</td>\n",
       "      <td>104S</td>\n",
       "      <td>1</td>\n",
       "      <td>90.0</td>\n",
       "      <td>238 St</td>\n",
       "      <td>40.884667</td>\n",
       "      <td>-73.900870</td>\n",
       "      <td>231 St</td>\n",
       "      <td>40.878856</td>\n",
       "      <td>-73.904834</td>\n",
       "      <td>103_1</td>\n",
       "      <td>104_1</td>\n",
       "    </tr>\n",
       "  </tbody>\n",
       "</table>\n",
       "</div>"
      ],
      "text/plain": [
       "   Unnamed: 0 from_stop_id to_stop_id train  duration  \\\n",
       "0           0         101S       103S     1      90.0   \n",
       "1           1         103N       101N     1      90.0   \n",
       "2           2         103S       104S     1      90.0   \n",
       "\n",
       "                from_stop_name  from_stop_lat  from_stop_lon  \\\n",
       "0  Van Cortlandt Park - 242 St      40.889248     -73.898583   \n",
       "1                       238 St      40.884667     -73.900870   \n",
       "2                       238 St      40.884667     -73.900870   \n",
       "\n",
       "                  to_stop_name  to_stop_lat  to_stop_lon from_node to_node  \n",
       "0                       238 St    40.884667   -73.900870     101_1   103_1  \n",
       "1  Van Cortlandt Park - 242 St    40.889248   -73.898583     103_1   101_1  \n",
       "2                       231 St    40.878856   -73.904834     103_1   104_1  "
      ]
     },
     "execution_count": 12,
     "metadata": {},
     "output_type": "execute_result"
    }
   ],
   "source": [
    "edata.head(3)"
   ]
  },
  {
   "cell_type": "code",
   "execution_count": 13,
   "metadata": {
    "collapsed": false
   },
   "outputs": [],
   "source": [
    "# #ADD THE EDGES and weighted - method 1\n",
    "for i in range(0,len(edata.from_node)):\n",
    "    G.add_edge(edata.from_node[i],edata.to_node[i], \n",
    "               weight = edata.duration[i],\n",
    "               ## attributes\n",
    "               train = edata.train[i],\n",
    "               edge_type = 'train')\n",
    "# # add weighted edges  - method 2\n",
    "# e= zip(edata.from_node_id,edata.to_node_id,edata.duration)\n",
    "# G.add_weighted_edges_from(e,train=edata.train)"
   ]
  },
  {
   "cell_type": "code",
   "execution_count": 14,
   "metadata": {
    "collapsed": false
   },
   "outputs": [
    {
     "data": {
      "text/plain": [
       "[('136_1', '137_1', {'edge_type': 'train', 'train': '1', 'weight': 80.0}),\n",
       " ('136_1', '135_1', {'edge_type': 'train', 'train': '1', 'weight': 60.0}),\n",
       " ('138_1', '139_1', {'edge_type': 'train', 'train': '1', 'weight': 90.0})]"
      ]
     },
     "execution_count": 14,
     "metadata": {},
     "output_type": "execute_result"
    }
   ],
   "source": [
    "G.edges(data= True)[:3]"
   ]
  },
  {
   "cell_type": "code",
   "execution_count": null,
   "metadata": {
    "collapsed": true
   },
   "outputs": [],
   "source": []
  },
  {
   "cell_type": "code",
   "execution_count": null,
   "metadata": {
    "collapsed": true
   },
   "outputs": [],
   "source": []
  },
  {
   "cell_type": "markdown",
   "metadata": {},
   "source": [
    "### link of sub nodes by transfer"
   ]
  },
  {
   "cell_type": "code",
   "execution_count": 15,
   "metadata": {
    "collapsed": false
   },
   "outputs": [
    {
     "data": {
      "text/html": [
       "<div>\n",
       "<style>\n",
       "    .dataframe thead tr:only-child th {\n",
       "        text-align: right;\n",
       "    }\n",
       "\n",
       "    .dataframe thead th {\n",
       "        text-align: left;\n",
       "    }\n",
       "\n",
       "    .dataframe tbody tr th {\n",
       "        vertical-align: top;\n",
       "    }\n",
       "</style>\n",
       "<table border=\"1\" class=\"dataframe\">\n",
       "  <thead>\n",
       "    <tr style=\"text-align: right;\">\n",
       "      <th></th>\n",
       "      <th>Unnamed: 0</th>\n",
       "      <th>from_stop_id</th>\n",
       "      <th>to_stop_id</th>\n",
       "      <th>min_transfer_time</th>\n",
       "      <th>from_stop</th>\n",
       "      <th>to_stop</th>\n",
       "      <th>from_train</th>\n",
       "      <th>to_train</th>\n",
       "      <th>from_node_id</th>\n",
       "      <th>to_node_id</th>\n",
       "    </tr>\n",
       "  </thead>\n",
       "  <tbody>\n",
       "    <tr>\n",
       "      <th>0</th>\n",
       "      <td>0</td>\n",
       "      <td>101</td>\n",
       "      <td>101</td>\n",
       "      <td>180</td>\n",
       "      <td>Van Cortlandt Park - 242 St</td>\n",
       "      <td>Van Cortlandt Park - 242 St</td>\n",
       "      <td>1</td>\n",
       "      <td>1</td>\n",
       "      <td>101_1</td>\n",
       "      <td>101_1</td>\n",
       "    </tr>\n",
       "    <tr>\n",
       "      <th>1</th>\n",
       "      <td>1</td>\n",
       "      <td>103</td>\n",
       "      <td>103</td>\n",
       "      <td>180</td>\n",
       "      <td>238 St</td>\n",
       "      <td>238 St</td>\n",
       "      <td>1</td>\n",
       "      <td>1</td>\n",
       "      <td>103_1</td>\n",
       "      <td>103_1</td>\n",
       "    </tr>\n",
       "    <tr>\n",
       "      <th>2</th>\n",
       "      <td>2</td>\n",
       "      <td>104</td>\n",
       "      <td>104</td>\n",
       "      <td>180</td>\n",
       "      <td>231 St</td>\n",
       "      <td>231 St</td>\n",
       "      <td>1</td>\n",
       "      <td>1</td>\n",
       "      <td>104_1</td>\n",
       "      <td>104_1</td>\n",
       "    </tr>\n",
       "  </tbody>\n",
       "</table>\n",
       "</div>"
      ],
      "text/plain": [
       "   Unnamed: 0 from_stop_id to_stop_id  min_transfer_time  \\\n",
       "0           0          101        101                180   \n",
       "1           1          103        103                180   \n",
       "2           2          104        104                180   \n",
       "\n",
       "                     from_stop                      to_stop from_train  \\\n",
       "0  Van Cortlandt Park - 242 St  Van Cortlandt Park - 242 St          1   \n",
       "1                       238 St                       238 St          1   \n",
       "2                       231 St                       231 St          1   \n",
       "\n",
       "  to_train from_node_id to_node_id  \n",
       "0        1        101_1      101_1  \n",
       "1        1        103_1      103_1  \n",
       "2        1        104_1      104_1  "
      ]
     },
     "execution_count": 15,
     "metadata": {},
     "output_type": "execute_result"
    }
   ],
   "source": [
    "#ADD TRANSFER WITHOUT SWIPE EDGES\n",
    "tdata = pd.read_csv(\"transfer\")\n",
    "tdata.head(3)"
   ]
  },
  {
   "cell_type": "code",
   "execution_count": 16,
   "metadata": {
    "collapsed": false
   },
   "outputs": [],
   "source": [
    "## adding transfer\n",
    "for i in range(len(tdata)):\n",
    "    G.add_edge(tdata.from_node_id[i],tdata.to_node_id[i],\n",
    "               weight = tdata.min_transfer_time[i],\n",
    "               ## attributes\n",
    "               from_train = tdata.from_train[i],\n",
    "               to_train = tdata.to_train[i],\n",
    "               edge_type = 'transfer')\n",
    "    \n",
    "# ## method 2- add self loop\n",
    "# e2= zip(tdata.from_stop_id,tdata.to_stop_id,tdata.min_transfer_time)\n",
    "# G.add_weighted_edges_from(e)"
   ]
  },
  {
   "cell_type": "code",
   "execution_count": 17,
   "metadata": {
    "collapsed": false
   },
   "outputs": [
    {
     "data": {
      "text/plain": [
       "[('136_1',\n",
       "  '136_2',\n",
       "  {'edge_type': 'transfer',\n",
       "   'from_train': '1',\n",
       "   'to_train': '2',\n",
       "   'weight': 180}),\n",
       " ('136_1', '137_1', {'edge_type': 'train', 'train': '1', 'weight': 80.0})]"
      ]
     },
     "execution_count": 17,
     "metadata": {},
     "output_type": "execute_result"
    }
   ],
   "source": [
    "G.edges(data= True)[3:5]"
   ]
  },
  {
   "cell_type": "markdown",
   "metadata": {},
   "source": [
    "### link of sub nodes and master nodes by waiting time"
   ]
  },
  {
   "cell_type": "code",
   "execution_count": 18,
   "metadata": {
    "collapsed": false
   },
   "outputs": [
    {
     "data": {
      "text/html": [
       "<div>\n",
       "<style>\n",
       "    .dataframe thead tr:only-child th {\n",
       "        text-align: right;\n",
       "    }\n",
       "\n",
       "    .dataframe thead th {\n",
       "        text-align: left;\n",
       "    }\n",
       "\n",
       "    .dataframe tbody tr th {\n",
       "        vertical-align: top;\n",
       "    }\n",
       "</style>\n",
       "<table border=\"1\" class=\"dataframe\">\n",
       "  <thead>\n",
       "    <tr style=\"text-align: right;\">\n",
       "      <th></th>\n",
       "      <th>Unnamed: 0</th>\n",
       "      <th>stop_id</th>\n",
       "      <th>train</th>\n",
       "      <th>stop_name</th>\n",
       "      <th>stop_lat</th>\n",
       "      <th>stop_lon</th>\n",
       "      <th>node_id</th>\n",
       "      <th>master_node_id</th>\n",
       "      <th>train_num</th>\n",
       "      <th>interval</th>\n",
       "      <th>waiting</th>\n",
       "    </tr>\n",
       "  </thead>\n",
       "  <tbody>\n",
       "    <tr>\n",
       "      <th>0</th>\n",
       "      <td>0</td>\n",
       "      <td>101</td>\n",
       "      <td>1</td>\n",
       "      <td>Van Cortlandt Park - 242 St</td>\n",
       "      <td>40.889248</td>\n",
       "      <td>-73.898583</td>\n",
       "      <td>101_1</td>\n",
       "      <td>Van Cortlandt Park - 242 St_0</td>\n",
       "      <td>29.0</td>\n",
       "      <td>372.413793</td>\n",
       "      <td>186.206897</td>\n",
       "    </tr>\n",
       "    <tr>\n",
       "      <th>1</th>\n",
       "      <td>1</td>\n",
       "      <td>103</td>\n",
       "      <td>1</td>\n",
       "      <td>238 St</td>\n",
       "      <td>40.884667</td>\n",
       "      <td>-73.900870</td>\n",
       "      <td>103_1</td>\n",
       "      <td>238 St_0</td>\n",
       "      <td>33.0</td>\n",
       "      <td>327.272727</td>\n",
       "      <td>163.636364</td>\n",
       "    </tr>\n",
       "    <tr>\n",
       "      <th>2</th>\n",
       "      <td>2</td>\n",
       "      <td>104</td>\n",
       "      <td>1</td>\n",
       "      <td>231 St</td>\n",
       "      <td>40.878856</td>\n",
       "      <td>-73.904834</td>\n",
       "      <td>104_1</td>\n",
       "      <td>231 St_0</td>\n",
       "      <td>33.0</td>\n",
       "      <td>327.272727</td>\n",
       "      <td>163.636364</td>\n",
       "    </tr>\n",
       "  </tbody>\n",
       "</table>\n",
       "</div>"
      ],
      "text/plain": [
       "   Unnamed: 0 stop_id train                    stop_name   stop_lat  \\\n",
       "0           0     101     1  Van Cortlandt Park - 242 St  40.889248   \n",
       "1           1     103     1                       238 St  40.884667   \n",
       "2           2     104     1                       231 St  40.878856   \n",
       "\n",
       "    stop_lon node_id                 master_node_id  train_num    interval  \\\n",
       "0 -73.898583   101_1  Van Cortlandt Park - 242 St_0       29.0  372.413793   \n",
       "1 -73.900870   103_1                       238 St_0       33.0  327.272727   \n",
       "2 -73.904834   104_1                       231 St_0       33.0  327.272727   \n",
       "\n",
       "      waiting  \n",
       "0  186.206897  \n",
       "1  163.636364  \n",
       "2  163.636364  "
      ]
     },
     "execution_count": 18,
     "metadata": {},
     "output_type": "execute_result"
    }
   ],
   "source": [
    "# add waiting time\n",
    "wdata = pd.read_csv(\"waiting\")\n",
    "wdata.head(3)"
   ]
  },
  {
   "cell_type": "code",
   "execution_count": 19,
   "metadata": {
    "collapsed": false
   },
   "outputs": [],
   "source": [
    "## adding waiting\n",
    "for i in range(len(wdata)):\n",
    "    G.add_edge(wdata.master_node_id[i],wdata.node_id[i],\n",
    "               weight = wdata.waiting[i],\n",
    "               ## attributes\n",
    "               train = wdata.train[i],\n",
    "               stop_id = wdata.stop_id[i],\n",
    "               edge_type = 'waiting')\n",
    "    \n",
    "# ## method 2- add self loop\n",
    "# e2= zip(tdata.from_stop_id,tdata.to_stop_id,tdata.min_transfer_time)\n",
    "# G.add_weighted_edges_from(e)"
   ]
  },
  {
   "cell_type": "code",
   "execution_count": 20,
   "metadata": {
    "collapsed": false
   },
   "outputs": [],
   "source": [
    "## adding exit\n",
    "for i in range(len(wdata)):\n",
    "    G.add_edge(wdata.node_id[i],wdata.master_node_id[i],\n",
    "               weight = 0,\n",
    "               ## attributes\n",
    "               train = wdata.train[i],\n",
    "               stop_id = wdata.stop_id[i],\n",
    "               edge_type = 'exit')\n",
    "    "
   ]
  },
  {
   "cell_type": "code",
   "execution_count": null,
   "metadata": {
    "collapsed": true
   },
   "outputs": [],
   "source": []
  },
  {
   "cell_type": "markdown",
   "metadata": {},
   "source": [
    "## Network Info"
   ]
  },
  {
   "cell_type": "code",
   "execution_count": 21,
   "metadata": {
    "collapsed": false
   },
   "outputs": [
    {
     "name": "stdout",
     "output_type": "stream",
     "text": [
      "Name: NYC Subway Network\n",
      "Type: MultiDiGraph\n",
      "Number of nodes: 1378\n",
      "Number of edges: 5749\n",
      "Average in degree:   4.1720\n",
      "Average out degree:   4.1720\n"
     ]
    }
   ],
   "source": [
    "print nx.info(G)"
   ]
  },
  {
   "cell_type": "code",
   "execution_count": 22,
   "metadata": {
    "collapsed": false
   },
   "outputs": [
    {
     "name": "stdout",
     "output_type": "stream",
     "text": [
      "number of master nodes: 465\n",
      "number of sub nodes: 913\n"
     ]
    }
   ],
   "source": [
    "master = filter(lambda (n,attr):attr['master_node']=='Yes',G.nodes(data=True))\n",
    "sub = filter(lambda (n,attr):attr['master_node']=='No',G.nodes(data=True))\n",
    "print 'number of master nodes:', len(master)\n",
    "print 'number of sub nodes:', len(sub)"
   ]
  },
  {
   "cell_type": "code",
   "execution_count": 23,
   "metadata": {
    "collapsed": false
   },
   "outputs": [],
   "source": [
    "nyc = gpd.read_file('../data/shapefile/nyc_borough_boundry_17b/nybb.shp').to_crs(epsg=4326)"
   ]
  },
  {
   "cell_type": "code",
   "execution_count": 24,
   "metadata": {
    "collapsed": false
   },
   "outputs": [],
   "source": [
    "## filter out edges by train and transfer\n",
    "edges=[]\n",
    "for (n1,n2,attr) in G.edges(data=True):\n",
    "    if attr['edge_type'] in ['transfer','train']:\n",
    "        edges.append((n1,n2))"
   ]
  },
  {
   "cell_type": "code",
   "execution_count": 25,
   "metadata": {
    "collapsed": false,
    "scrolled": true
   },
   "outputs": [
    {
     "data": {
      "text/plain": [
       "[('136_2', '136_2'),\n",
       " ('136_2', '136_1'),\n",
       " ('136_2', '136_5'),\n",
       " ('136_1', '136_2')]"
      ]
     },
     "execution_count": 25,
     "metadata": {},
     "output_type": "execute_result"
    }
   ],
   "source": [
    "edges[:4]"
   ]
  },
  {
   "cell_type": "code",
   "execution_count": 26,
   "metadata": {
    "collapsed": false
   },
   "outputs": [
    {
     "data": {
      "image/png": "[encoded data removed]",
      "text/plain": [
       "<matplotlib.figure.Figure at 0x111d6bcd0>"
      ]
     },
     "metadata": {},
     "output_type": "display_data"
    }
   ],
   "source": [
    "## only plot sub nodes, and edges between sub nodes\n",
    "plt.figure(figsize=(10,10))\n",
    "ax= plt.subplot()\n",
    "nyc.plot(ax=ax,color= 'grey',alpha=0.2)\n",
    "\n",
    "## filter out sub nodes\n",
    "sub = filter(lambda (n,attr):attr['master_node']=='No',G.nodes(data=True))\n",
    "\n",
    "## filter out edges only by transfer and train\n",
    "edges=[]\n",
    "for (n1,n2,attr) in G.edges(data=True):\n",
    "    if attr['edge_type'] in ['transfer','train']:\n",
    "        edges.append((n1,n2))\n",
    "\n",
    "location = nx.get_node_attributes(G,'geo')\n",
    "plt.axis(\"off\")\n",
    "nx.draw_networkx(G,\n",
    "                 pos = location,\n",
    "                 nodelist= map(lambda x:x[0],sub),\n",
    "                 edgelist = edges,\n",
    "                 with_labels =False,\n",
    "                 node_size = 10,\n",
    "                 style = 'dotted',\n",
    "                 node_color= 'C2',\n",
    "                 edge_color= 'C1')"
   ]
  },
  {
   "cell_type": "markdown",
   "metadata": {},
   "source": [
    "## Centrality"
   ]
  },
  {
   "cell_type": "code",
   "execution_count": 23,
   "metadata": {
    "collapsed": false
   },
   "outputs": [
    {
     "data": {
      "text/plain": [
       "[('R31_N', 0.2531768988857659),\n",
       " ('Q01_N', 0.2395409996234279),\n",
       " ('R20_N', 0.23746081028835145),\n",
       " ('629_4', 0.14109034999004647),\n",
       " ('629_5', 0.13271034969466536),\n",
       " ('631_4', 0.1256745309016625),\n",
       " ('635_4', 0.1256217660366159),\n",
       " ('A46_A', 0.12414676918611825),\n",
       " ('A51_A', 0.12174139260721849),\n",
       " ('631_5', 0.12062206246907635)]"
      ]
     },
     "execution_count": 23,
     "metadata": {},
     "output_type": "execute_result"
    }
   ],
   "source": [
    "## top 10 betweenness centrallity nodes\n",
    "sorted(nx.betweenness_centrality(G).items(),key=lambda x: x[1],reverse=True)[:10]"
   ]
  },
  {
   "cell_type": "code",
   "execution_count": 24,
   "metadata": {
    "collapsed": false
   },
   "outputs": [
    {
     "name": "stdout",
     "output_type": "stream",
     "text": [
      "[('R31_N', '59 St'), ('Q01_N', 'Grand Central - 42 St'), ('R20_N', '14 St - Union Sq'), ('629_4', '59 St'), ('629_5', 'Grand Central - 42 St'), ('631_4', 'Nostrand Av'), ('635_4', 'Broadway Jct'), ('A46_A', 'Canal St'), ('A51_A', '14 St - Union Sq'), ('631_5', 'Atlantic Av - Barclays Ctr')]\n"
     ]
    }
   ],
   "source": [
    "## top 10 betweenness centrallity nodes\n",
    "important_nodes = sorted(nx.betweenness_centrality(G).items(),key=lambda x: x[1],reverse=True)[:10]\n",
    "stop_id = map(lambda x: x[0],important_nodes)\n",
    "stop_name = ndata[ndata['node_id'].isin(stop_id)]['stop_name'].values\n",
    "print zip(stop_id,stop_name)"
   ]
  },
  {
   "cell_type": "code",
   "execution_count": 31,
   "metadata": {
    "collapsed": false
   },
   "outputs": [],
   "source": [
    "def most_important(G, centrality='betweenness',length=10):\n",
    "    \"\"\"\n",
    "    G is network graph\n",
    "    centrality could be: betweenness, degree ,closeness\n",
    "    length = 10 is to select top 10 nodes of highest centrality \n",
    "    \"\"\"\n",
    "    if centrality == 'betweenness':\n",
    "        important_nodes = sorted(nx.betweenness_centrality(G).items(),key=lambda x: x[1],reverse=True)[:length]\n",
    "    if centrality == 'degree':\n",
    "        important_nodes = sorted(nx.degree_centrality(G).items(),key=lambda x: x[1],reverse=True)[:length]\n",
    "    if centrality == 'closeness':\n",
    "        important_nodes = sorted(nx.closeness_centrality(G).items(),key=lambda x: x[1],reverse=True)[:length]\n",
    "    \n",
    "    stop_id = map(lambda x: x[0],important_nodes)\n",
    "    stop_name=[]\n",
    "    for i in stop_id:\n",
    "        stop_name.append(ndata[ndata['node_id']==i]['stop_name'].values[0])\n",
    "        \n",
    "    ## build up the new network, with only import nodes\n",
    "    G_important= nx.MultiDiGraph(name='important nodes in NYC Subway Network')\n",
    "    for i in range(0,length):\n",
    "        G_important.add_node(stop_id[i],\n",
    "               name = ndata[ndata['node_id']==stop_id[i]]['stop_name'].values,\n",
    "               line = ndata[ndata['node_id']==stop_id[i]]['train'].values,\n",
    "               lat = ndata[ndata['node_id']==stop_id[i]]['stop_lat'].values[0],\n",
    "               lng = ndata[ndata['node_id']==stop_id[i]]['stop_lon'].values[0],\n",
    "               geo = (ndata[ndata['node_id']==stop_id[i]]['stop_lon'].values[0],\n",
    "                      ndata[ndata['node_id']==stop_id[i]]['stop_lat'].values[0])\n",
    "              )\n",
    "    # plot the important nodes out\n",
    "    \n",
    "    ## base map of nyc\n",
    "    plt.figure(figsize=(10,10))\n",
    "    ax= plt.subplot()\n",
    "    nyc.plot(ax=ax,color= 'grey',alpha=0.2)\n",
    "    \n",
    "    # NETWORK\n",
    "    ## filter out sub nodes\n",
    "    sub = filter(lambda (n,attr):attr['master_node']=='No',G.nodes(data=True))\n",
    "\n",
    "    ## filter out edges only by transfer and train\n",
    "    edges=[]\n",
    "    for (n1,n2,attr) in G.edges(data=True):\n",
    "        if attr['edge_type'] in ['transfer','train']:\n",
    "            edges.append((n1,n2))\n",
    "\n",
    "    location = nx.get_node_attributes(G,'geo')\n",
    "    plt.axis(\"off\")\n",
    "    nx.draw_networkx(G,\n",
    "                 pos = location,\n",
    "                 nodelist= map(lambda x:x[0],sub),\n",
    "                 edgelist = edges,\n",
    "                 with_labels =False,\n",
    "                 node_size = 10,\n",
    "                 style = 'dotted',\n",
    "                 node_color= 'C2',\n",
    "                 edge_color= 'C1')\n",
    "    \n",
    "    ## the important nodes\n",
    "    location_I = nx.get_node_attributes(G_important,'geo')\n",
    "    nx.draw_networkx(G_important,\n",
    "                 pos = location_I,\n",
    "                 with_labels =False,\n",
    "                 node_size = 40,\n",
    "                 style = 'dotted',\n",
    "                 node_color= 'C3',\n",
    "                 edge_color= 'C1',\n",
    "                 alpha=0.8)\n",
    "    \n",
    "    return zip(range(1,length+1),stop_name,stop_id)"
   ]
  },
  {
   "cell_type": "code",
   "execution_count": 32,
   "metadata": {
    "collapsed": false
   },
   "outputs": [
    {
     "data": {
      "text/plain": [
       "[(1, 'Atlantic Av - Barclays Ctr', 'R31_N'),\n",
       " (2, 'Canal St', 'Q01_N'),\n",
       " (3, '14 St - Union Sq', 'R20_N'),\n",
       " (4, '59 St', '629_4'),\n",
       " (5, '59 St', '629_5')]"
      ]
     },
     "execution_count": 32,
     "metadata": {},
     "output_type": "execute_result"
    },
    {
     "data": {
      "image/png": "[encoded data removed]",
      "text/plain": [
       "<matplotlib.figure.Figure at 0x1111a2890>"
      ]
     },
     "metadata": {},
     "output_type": "display_data"
    }
   ],
   "source": [
    "most_important(G,'betweenness',5)"
   ]
  },
  {
   "cell_type": "code",
   "execution_count": null,
   "metadata": {
    "collapsed": false
   },
   "outputs": [],
   "source": [
    "most_important(G,'closeness',5)"
   ]
  },
  {
   "cell_type": "code",
   "execution_count": null,
   "metadata": {
    "collapsed": false
   },
   "outputs": [],
   "source": [
    "most_important(G,'degree',5)"
   ]
  },
  {
   "cell_type": "code",
   "execution_count": null,
   "metadata": {
    "collapsed": true
   },
   "outputs": [],
   "source": []
  },
  {
   "cell_type": "markdown",
   "metadata": {},
   "source": [
    "## Dijkstra-- Shortest Path"
   ]
  },
  {
   "cell_type": "code",
   "execution_count": 23,
   "metadata": {
    "collapsed": false
   },
   "outputs": [],
   "source": [
    "master_nodes = map(lambda x: x[0], master)"
   ]
  },
  {
   "cell_type": "code",
   "execution_count": 22,
   "metadata": {
    "collapsed": false
   },
   "outputs": [],
   "source": [
    "from_master=[]\n",
    "to_master = []\n",
    "for i,j in itertools.permutations(master_nodes,2):\n",
    "    from_master.append(i)\n",
    "    to_master.append(j)"
   ]
  },
  {
   "cell_type": "code",
   "execution_count": 24,
   "metadata": {
    "collapsed": false
   },
   "outputs": [],
   "source": [
    "whole_network = pd.DataFrame(zip(from_master,to_master),columns=['from_master','to_master'])"
   ]
  },
  {
   "cell_type": "code",
   "execution_count": 25,
   "metadata": {
    "collapsed": true
   },
   "outputs": [],
   "source": [
    "whole_network['shortest_path']= None\n",
    "whole_network['duration']= None"
   ]
  },
  {
   "cell_type": "code",
   "execution_count": null,
   "metadata": {
    "collapsed": false
   },
   "outputs": [],
   "source": [
    "nopath=[]\n",
    "#for i in range(10):\n",
    "for i in range(len(whole_network)):\n",
    "    from_master_id = whole_network.loc[i,'from_master']\n",
    "    to_master_id = whole_network.loc[i,'to_master']\n",
    "    try:\n",
    "        shortest_path = ','.join(nx.shortest_path(G,from_master_id,to_master_id,weight= 'weight'))\n",
    "        duration = nx.shortest_path_length(G,from_master_id,to_master_id,weight='weight')\n",
    "        whole_network.loc[i,'shortest_path']= shortest_path\n",
    "        whole_network.loc[i,'duration']= duration\n",
    "        \n",
    "    except:\n",
    "        nopath.append((from_master_id,to_master_id))"
   ]
  },
  {
   "cell_type": "code",
   "execution_count": null,
   "metadata": {
    "collapsed": false
   },
   "outputs": [],
   "source": [
    "len(master_nodes)*(len(master_nodes)-1)"
   ]
  },
  {
   "cell_type": "code",
   "execution_count": 35,
   "metadata": {
    "collapsed": false
   },
   "outputs": [],
   "source": [
    "whole_network.to_csv('whole_network')"
   ]
  },
  {
   "cell_type": "markdown",
   "metadata": {},
   "source": [
    "## REMOVE NODES FROM NETWORK"
   ]
  },
  {
   "cell_type": "code",
   "execution_count": 23,
   "metadata": {
    "collapsed": true
   },
   "outputs": [],
   "source": [
    "whole_network=pd.read_csv('whole_network',index_col=0)"
   ]
  },
  {
   "cell_type": "code",
   "execution_count": 24,
   "metadata": {
    "collapsed": true
   },
   "outputs": [],
   "source": [
    "whole_network = whole_network.dropna().reset_index(drop= True)"
   ]
  },
  {
   "cell_type": "code",
   "execution_count": 25,
   "metadata": {
    "collapsed": false
   },
   "outputs": [
    {
     "data": {
      "text/html": [
       "<div>\n",
       "<style>\n",
       "    .dataframe thead tr:only-child th {\n",
       "        text-align: right;\n",
       "    }\n",
       "\n",
       "    .dataframe thead th {\n",
       "        text-align: left;\n",
       "    }\n",
       "\n",
       "    .dataframe tbody tr th {\n",
       "        vertical-align: top;\n",
       "    }\n",
       "</style>\n",
       "<table border=\"1\" class=\"dataframe\">\n",
       "  <thead>\n",
       "    <tr style=\"text-align: right;\">\n",
       "      <th></th>\n",
       "      <th>from_master</th>\n",
       "      <th>to_master</th>\n",
       "      <th>shortest_path</th>\n",
       "      <th>duration</th>\n",
       "    </tr>\n",
       "  </thead>\n",
       "  <tbody>\n",
       "    <tr>\n",
       "      <th>0</th>\n",
       "      <td>Grant Av_0</td>\n",
       "      <td>Atlantic Av - Barclays Ctr_0</td>\n",
       "      <td>Grant Av_0,A57_A,A55_A,A51_A,A48_A,A46_A,A42_A...</td>\n",
       "      <td>1935.622120</td>\n",
       "    </tr>\n",
       "    <tr>\n",
       "      <th>1</th>\n",
       "      <td>Grant Av_0</td>\n",
       "      <td>169 St_0</td>\n",
       "      <td>Grant Av_0,A57_A,A55_A,A51_A,J27_J,J24_J,J23_J...</td>\n",
       "      <td>3410.687055</td>\n",
       "    </tr>\n",
       "    <tr>\n",
       "      <th>2</th>\n",
       "      <td>Grant Av_0</td>\n",
       "      <td>Neptune Av_0</td>\n",
       "      <td>Grant Av_0,A57_A,A55_A,A51_A,A48_A,A48_C,A47_C...</td>\n",
       "      <td>3397.050691</td>\n",
       "    </tr>\n",
       "    <tr>\n",
       "      <th>3</th>\n",
       "      <td>Grant Av_0</td>\n",
       "      <td>Jamaica - 179 St_0</td>\n",
       "      <td>Grant Av_0,A57_A,A55_A,A51_A,J27_J,J24_J,J23_J...</td>\n",
       "      <td>3635.687055</td>\n",
       "    </tr>\n",
       "    <tr>\n",
       "      <th>4</th>\n",
       "      <td>Grant Av_0</td>\n",
       "      <td>Bedford Av_0</td>\n",
       "      <td>Grant Av_0,A57_A,A55_A,A51_A,Broadway Jct_0,L2...</td>\n",
       "      <td>2002.050691</td>\n",
       "    </tr>\n",
       "  </tbody>\n",
       "</table>\n",
       "</div>"
      ],
      "text/plain": [
       "  from_master                     to_master  \\\n",
       "0  Grant Av_0  Atlantic Av - Barclays Ctr_0   \n",
       "1  Grant Av_0                      169 St_0   \n",
       "2  Grant Av_0                  Neptune Av_0   \n",
       "3  Grant Av_0            Jamaica - 179 St_0   \n",
       "4  Grant Av_0                  Bedford Av_0   \n",
       "\n",
       "                                       shortest_path     duration  \n",
       "0  Grant Av_0,A57_A,A55_A,A51_A,A48_A,A46_A,A42_A...  1935.622120  \n",
       "1  Grant Av_0,A57_A,A55_A,A51_A,J27_J,J24_J,J23_J...  3410.687055  \n",
       "2  Grant Av_0,A57_A,A55_A,A51_A,A48_A,A48_C,A47_C...  3397.050691  \n",
       "3  Grant Av_0,A57_A,A55_A,A51_A,J27_J,J24_J,J23_J...  3635.687055  \n",
       "4  Grant Av_0,A57_A,A55_A,A51_A,Broadway Jct_0,L2...  2002.050691  "
      ]
     },
     "execution_count": 25,
     "metadata": {},
     "output_type": "execute_result"
    }
   ],
   "source": [
    "whole_network.head()"
   ]
  },
  {
   "cell_type": "code",
   "execution_count": 24,
   "metadata": {
    "collapsed": true
   },
   "outputs": [],
   "source": [
    "def find_sub_nodes(master_node_id):\n",
    "    \"\"\"\n",
    "    master_node_id =[...]\n",
    "    if master node is removed, find related master node\n",
    "    should pass a list of master nodes to this function\n",
    "    \"\"\"\n",
    "    \n",
    "    \n",
    "    removed_sub_nodes=[]\n",
    "    for (n,attr) in G.nodes(data = True):\n",
    "        try:\n",
    "            if attr['master_node_id'] in master_node_id:\n",
    "                removed_sub_nodes.append(n)\n",
    "        except KeyError:\n",
    "            pass\n",
    "    return set(removed_sub_nodes)"
   ]
  },
  {
   "cell_type": "code",
   "execution_count": 25,
   "metadata": {
    "collapsed": true
   },
   "outputs": [],
   "source": [
    "def find_affected_od_index(master_node_id):\n",
    "    \"\"\"\n",
    "    find affected o-d pair given a list of a master_node_id\n",
    "    \"\"\"\n",
    "    removed_sub_nodes = find_sub_nodes(master_node_id)\n",
    "    affected_od_index =[]\n",
    "    for i in range(len(whole_network)):\n",
    "        if len(removed_sub_nodes & set(whole_network.loc[i,'shortest_path'].split(','))) == 0:\n",
    "            pass\n",
    "        else:\n",
    "            affected_od_index.append(i)\n",
    "    return affected_od_index"
   ]
  },
  {
   "cell_type": "code",
   "execution_count": 26,
   "metadata": {
    "collapsed": true
   },
   "outputs": [],
   "source": [
    "def calculate_duration_2(removed_master_node):\n",
    "    \n",
    "    removed_sub_nodes = find_sub_nodes([removed_master_node])\n",
    "    \n",
    "    G_0 = G.copy()\n",
    "    G_0.remove_nodes_from(removed_sub_nodes)\n",
    "    dict_duration  = nx.all_pairs_dijkstra_path_length(G_0)\n",
    "    df = pd.DataFrame.from_dict(dict_duration)\n",
    "    df.index.name='to_master_id'\n",
    "    \n",
    "    ### some error raises ,eg: 'Jamaica Center - Parsons/Archer_0' cannot save to csv\n",
    "    ### so change / into -\n",
    "    removed_master_node = removed_master_node.replace('/','-')\n",
    "    df.loc[master_nodes,master_nodes].to_csv('remove-one-node/'+removed_master_node)\n",
    "    return dict_duration\n"
   ]
  },
  {
   "cell_type": "code",
   "execution_count": 30,
   "metadata": {
    "collapsed": false
   },
   "outputs": [
    {
     "name": "stdout",
     "output_type": "stream",
     "text": [
      "0:00:30.230374\n"
     ]
    }
   ],
   "source": [
    "t1= datetime.datetime.now()\n",
    "removed_master_node= 'Grant Av_0'\n",
    "calculate_duration_2(removed_master_node)\n",
    "t2 = datetime.datetime.now()-t1\n",
    "print t2"
   ]
  },
  {
   "cell_type": "code",
   "execution_count": 44,
   "metadata": {
    "collapsed": false
   },
   "outputs": [
    {
     "data": {
      "text/plain": [
       "'Jamaica Center - Parsons/Archer_0'"
      ]
     },
     "execution_count": 44,
     "metadata": {},
     "output_type": "execute_result"
    }
   ],
   "source": [
    "## error raise here\n",
    "master_nodes[141]"
   ]
  },
  {
   "cell_type": "code",
   "execution_count": 32,
   "metadata": {
    "collapsed": false,
    "scrolled": true
   },
   "outputs": [
    {
     "data": {
      "text/plain": [
       "357"
      ]
     },
     "execution_count": 32,
     "metadata": {},
     "output_type": "execute_result"
    }
   ],
   "source": [
    "len(os.listdir('remove-one-node'))"
   ]
  },
  {
   "cell_type": "code",
   "execution_count": 29,
   "metadata": {
    "collapsed": false
   },
   "outputs": [
    {
     "data": {
      "text/plain": [
       "'Jamaica Center - Parsons/Archer_0'"
      ]
     },
     "execution_count": 29,
     "metadata": {},
     "output_type": "execute_result"
    }
   ],
   "source": [
    "master_nodes[141]"
   ]
  },
  {
   "cell_type": "code",
   "execution_count": 36,
   "metadata": {
    "collapsed": false
   },
   "outputs": [
    {
     "name": "stdout",
     "output_type": "stream",
     "text": [
      "109 Brighton Beach_0\n"
     ]
    }
   ],
   "source": [
    "for i,j in enumerate(master_nodes[1:]):\n",
    "    j = j.replace('/','-')\n",
    "    if j in os.listdir('remove-one-node')[1:]:\n",
    "#         pass\n",
    "#     else:\n",
    "        print i,j\n",
    "        break"
   ]
  },
  {
   "cell_type": "code",
   "execution_count": null,
   "metadata": {
    "collapsed": true
   },
   "outputs": [],
   "source": [
    "for i in range(1,110):\n",
    "    removed_master_node= master_nodes[i]\n",
    "    calculate_duration_2(removed_master_node)"
   ]
  },
  {
   "cell_type": "code",
   "execution_count": 220,
   "metadata": {
    "collapsed": false
   },
   "outputs": [
    {
     "data": {
      "text/plain": [
       "466"
      ]
     },
     "execution_count": 220,
     "metadata": {},
     "output_type": "execute_result"
    }
   ],
   "source": [
    "len(os.listdir('remove-one-node'))"
   ]
  },
  {
   "cell_type": "code",
   "execution_count": 52,
   "metadata": {
    "collapsed": true
   },
   "outputs": [],
   "source": [
    "## calculate whole network shortest path length\n",
    "dict_duration = nx.all_pairs_dijkstra_path_length(G,weight='weight')\n",
    "df = pd.DataFrame.from_dict(dict_duration)\n",
    "df.index.name='to_master_id'"
   ]
  },
  {
   "cell_type": "code",
   "execution_count": 55,
   "metadata": {
    "collapsed": false
   },
   "outputs": [],
   "source": [
    "df.loc[master_nodes,master_nodes].to_csv('whole_network_duration')"
   ]
  },
  {
   "cell_type": "code",
   "execution_count": 57,
   "metadata": {
    "collapsed": false
   },
   "outputs": [
    {
     "data": {
      "text/html": [
       "<div>\n",
       "<style>\n",
       "    .dataframe thead tr:only-child th {\n",
       "        text-align: right;\n",
       "    }\n",
       "\n",
       "    .dataframe thead th {\n",
       "        text-align: left;\n",
       "    }\n",
       "\n",
       "    .dataframe tbody tr th {\n",
       "        vertical-align: top;\n",
       "    }\n",
       "</style>\n",
       "<table border=\"1\" class=\"dataframe\">\n",
       "  <thead>\n",
       "    <tr style=\"text-align: right;\">\n",
       "      <th></th>\n",
       "      <th>Grant Av_0</th>\n",
       "      <th>Atlantic Av - Barclays Ctr_0</th>\n",
       "      <th>Richmond Valley_0</th>\n",
       "      <th>169 St_0</th>\n",
       "      <th>Neptune Av_0</th>\n",
       "      <th>Jamaica - 179 St_0</th>\n",
       "      <th>Bedford Av_0</th>\n",
       "      <th>63 Dr - Rego Park_0</th>\n",
       "      <th>Junction Blvd_0</th>\n",
       "      <th>40 St_0</th>\n",
       "      <th>...</th>\n",
       "      <th>Beach 105 St_0</th>\n",
       "      <th>Morris Park_0</th>\n",
       "      <th>Allerton Av_0</th>\n",
       "      <th>5 Av/59 St_0</th>\n",
       "      <th>Aqueduct - N Conduit Av_0</th>\n",
       "      <th>Old Town_0</th>\n",
       "      <th>Houston St_0</th>\n",
       "      <th>Hunters Point Av_0</th>\n",
       "      <th>39 Av_0</th>\n",
       "      <th>Mets - Willets Point_0</th>\n",
       "    </tr>\n",
       "    <tr>\n",
       "      <th>to_master_id</th>\n",
       "      <th></th>\n",
       "      <th></th>\n",
       "      <th></th>\n",
       "      <th></th>\n",
       "      <th></th>\n",
       "      <th></th>\n",
       "      <th></th>\n",
       "      <th></th>\n",
       "      <th></th>\n",
       "      <th></th>\n",
       "      <th></th>\n",
       "      <th></th>\n",
       "      <th></th>\n",
       "      <th></th>\n",
       "      <th></th>\n",
       "      <th></th>\n",
       "      <th></th>\n",
       "      <th></th>\n",
       "      <th></th>\n",
       "      <th></th>\n",
       "      <th></th>\n",
       "    </tr>\n",
       "  </thead>\n",
       "  <tbody>\n",
       "    <tr>\n",
       "      <th>Grant Av_0</th>\n",
       "      <td>0.00000</td>\n",
       "      <td>1651.764706</td>\n",
       "      <td>NaN</td>\n",
       "      <td>2835.872710</td>\n",
       "      <td>3262.5</td>\n",
       "      <td>2945.685544</td>\n",
       "      <td>1696.140089</td>\n",
       "      <td>2821.831789</td>\n",
       "      <td>3111.692037</td>\n",
       "      <td>2795.483760</td>\n",
       "      <td>...</td>\n",
       "      <td>2212.500000</td>\n",
       "      <td>4773.001521</td>\n",
       "      <td>5073.586887</td>\n",
       "      <td>2820.566802</td>\n",
       "      <td>880.887097</td>\n",
       "      <td>NaN</td>\n",
       "      <td>2318.571429</td>\n",
       "      <td>2563.105518</td>\n",
       "      <td>2751.258041</td>\n",
       "      <td>3323.381297</td>\n",
       "    </tr>\n",
       "    <tr>\n",
       "      <th>Atlantic Av - Barclays Ctr_0</th>\n",
       "      <td>1935.62212</td>\n",
       "      <td>0.000000</td>\n",
       "      <td>NaN</td>\n",
       "      <td>3413.823529</td>\n",
       "      <td>2040.0</td>\n",
       "      <td>3523.636364</td>\n",
       "      <td>1489.090909</td>\n",
       "      <td>2992.567222</td>\n",
       "      <td>2507.142857</td>\n",
       "      <td>2190.934579</td>\n",
       "      <td>...</td>\n",
       "      <td>3973.928571</td>\n",
       "      <td>3714.372003</td>\n",
       "      <td>4014.957369</td>\n",
       "      <td>1568.461538</td>\n",
       "      <td>2642.315668</td>\n",
       "      <td>NaN</td>\n",
       "      <td>1448.571429</td>\n",
       "      <td>1739.611399</td>\n",
       "      <td>2146.708861</td>\n",
       "      <td>2718.832117</td>\n",
       "    </tr>\n",
       "  </tbody>\n",
       "</table>\n",
       "<p>2 rows × 465 columns</p>\n",
       "</div>"
      ],
      "text/plain": [
       "                              Grant Av_0  Atlantic Av - Barclays Ctr_0  \\\n",
       "to_master_id                                                             \n",
       "Grant Av_0                       0.00000                   1651.764706   \n",
       "Atlantic Av - Barclays Ctr_0  1935.62212                      0.000000   \n",
       "\n",
       "                              Richmond Valley_0     169 St_0  Neptune Av_0  \\\n",
       "to_master_id                                                                 \n",
       "Grant Av_0                                  NaN  2835.872710        3262.5   \n",
       "Atlantic Av - Barclays Ctr_0                NaN  3413.823529        2040.0   \n",
       "\n",
       "                              Jamaica - 179 St_0  Bedford Av_0  \\\n",
       "to_master_id                                                     \n",
       "Grant Av_0                           2945.685544   1696.140089   \n",
       "Atlantic Av - Barclays Ctr_0         3523.636364   1489.090909   \n",
       "\n",
       "                              63 Dr - Rego Park_0  Junction Blvd_0  \\\n",
       "to_master_id                                                         \n",
       "Grant Av_0                            2821.831789      3111.692037   \n",
       "Atlantic Av - Barclays Ctr_0          2992.567222      2507.142857   \n",
       "\n",
       "                                  40 St_0           ...            \\\n",
       "to_master_id                                        ...             \n",
       "Grant Av_0                    2795.483760           ...             \n",
       "Atlantic Av - Barclays Ctr_0  2190.934579           ...             \n",
       "\n",
       "                              Beach 105 St_0  Morris Park_0  Allerton Av_0  \\\n",
       "to_master_id                                                                 \n",
       "Grant Av_0                       2212.500000    4773.001521    5073.586887   \n",
       "Atlantic Av - Barclays Ctr_0     3973.928571    3714.372003    4014.957369   \n",
       "\n",
       "                              5 Av/59 St_0  Aqueduct - N Conduit Av_0  \\\n",
       "to_master_id                                                            \n",
       "Grant Av_0                     2820.566802                 880.887097   \n",
       "Atlantic Av - Barclays Ctr_0   1568.461538                2642.315668   \n",
       "\n",
       "                              Old Town_0  Houston St_0  Hunters Point Av_0  \\\n",
       "to_master_id                                                                 \n",
       "Grant Av_0                           NaN   2318.571429         2563.105518   \n",
       "Atlantic Av - Barclays Ctr_0         NaN   1448.571429         1739.611399   \n",
       "\n",
       "                                  39 Av_0  Mets - Willets Point_0  \n",
       "to_master_id                                                       \n",
       "Grant Av_0                    2751.258041             3323.381297  \n",
       "Atlantic Av - Barclays Ctr_0  2146.708861             2718.832117  \n",
       "\n",
       "[2 rows x 465 columns]"
      ]
     },
     "execution_count": 57,
     "metadata": {},
     "output_type": "execute_result"
    }
   ],
   "source": [
    "df.loc[master_nodes,master_nodes].head(2)"
   ]
  },
  {
   "cell_type": "markdown",
   "metadata": {},
   "source": [
    "## CALCULATE INFLUENCE OF REMOVING ONE NODE"
   ]
  },
  {
   "cell_type": "code",
   "execution_count": 171,
   "metadata": {
    "collapsed": false
   },
   "outputs": [],
   "source": [
    "odpair=[]\n",
    "for i in itertools.product(whole_network_duration[0,1:],repeat=2):\n",
    "    odpair.append(i)"
   ]
  },
  {
   "cell_type": "code",
   "execution_count": 181,
   "metadata": {
    "collapsed": false
   },
   "outputs": [
    {
     "data": {
      "text/plain": [
       "[('Grant Av_0', 'Grant Av_0'),\n",
       " ('Grant Av_0', 'Atlantic Av - Barclays Ctr_0'),\n",
       " ('Grant Av_0', 'Richmond Valley_0'),\n",
       " ('Grant Av_0', '169 St_0'),\n",
       " ('Grant Av_0', 'Neptune Av_0')]"
      ]
     },
     "execution_count": 181,
     "metadata": {},
     "output_type": "execute_result"
    }
   ],
   "source": [
    "## x[0] is to_master_id, x[1] is from_master_id\n",
    "odpair[:5]"
   ]
  },
  {
   "cell_type": "code",
   "execution_count": 145,
   "metadata": {
    "collapsed": false
   },
   "outputs": [],
   "source": [
    "## for the first column of the whole difference df\n",
    "whole_network_duration = np.array(list(csv.reader(open(\"whole_network_duration\", \"rb\"), delimiter=\",\")))\n",
    "df=np.array(list(csv.reader(open(\"remove-one-node/\"+master_nodes[110], \"rb\"), delimiter=\",\")))\n",
    "if (whole_network_duration[:,0] == df[:,0]).all() & (whole_network_duration[0,:] == df[0,:]).all() :\n",
    "    df_0= whole_network_duration[1:,1:]\n",
    "    df_0[df_0=='']=np.nan\n",
    "    df_0 = df_0.astype('float')\n",
    "    \n",
    "    df = df[1:,1:]\n",
    "    df[df=='']=np.nan\n",
    "    df = df.astype('float')\n",
    "    difference=(df-df_0).flatten()\n",
    "    df_diff = pd.DataFrame.from_dict({master_nodes[110]:dict(zip(odpair,difference))})"
   ]
  },
  {
   "cell_type": "code",
   "execution_count": 234,
   "metadata": {
    "collapsed": false
   },
   "outputs": [],
   "source": [
    "## for whole difference df\n",
    "for i in range(465):\n",
    "    file_name = master_nodes[i].replace('/','-')\n",
    "    df=np.array(list(csv.reader(open(\"remove-one-node/\"+file_name, \"rb\"), delimiter=\",\")))\n",
    "    if (whole_network_duration[:,0] == df[:,0]).all() & (whole_network_duration[0,:] == df[0,:]).all() :\n",
    "        df_0= whole_network_duration[1:,1:]\n",
    "        df_0[df_0=='']=np.nan\n",
    "        df_0 = df_0.astype('float')\n",
    "    \n",
    "        df = df[1:,1:]\n",
    "        df[df=='']=np.nan\n",
    "        df = df.astype('float')\n",
    "        difference=(df-df_0).flatten()\n",
    "        df_diff_1 = pd.DataFrame.from_dict({master_nodes[i]:dict(zip(odpair,difference))})\n",
    "        df_diff = df_diff.join(df_diff_1)"
   ]
  },
  {
   "cell_type": "code",
   "execution_count": 227,
   "metadata": {
    "collapsed": false
   },
   "outputs": [
    {
     "data": {
      "text/html": [
       "<div>\n",
       "<style>\n",
       "    .dataframe thead tr:only-child th {\n",
       "        text-align: right;\n",
       "    }\n",
       "\n",
       "    .dataframe thead th {\n",
       "        text-align: left;\n",
       "    }\n",
       "\n",
       "    .dataframe tbody tr th {\n",
       "        vertical-align: top;\n",
       "    }\n",
       "</style>\n",
       "<table border=\"1\" class=\"dataframe\">\n",
       "  <thead>\n",
       "    <tr style=\"text-align: right;\">\n",
       "      <th></th>\n",
       "      <th></th>\n",
       "      <th>Brighton Beach_0</th>\n",
       "      <th>Canal St_1</th>\n",
       "      <th>Canal St_0</th>\n",
       "      <th>Canal St_2</th>\n",
       "      <th>Intervale Av_0</th>\n",
       "      <th>65 St_0</th>\n",
       "      <th>Parkside Av_0</th>\n",
       "      <th>Broad Channel_0</th>\n",
       "      <th>34 St - Penn Station_1</th>\n",
       "      <th>34 St - Penn Station_0</th>\n",
       "      <th>...</th>\n",
       "      <th>Beach 105 St_0</th>\n",
       "      <th>Morris Park_0</th>\n",
       "      <th>Allerton Av_0</th>\n",
       "      <th>5 Av/59 St_0</th>\n",
       "      <th>Aqueduct - N Conduit Av_0</th>\n",
       "      <th>Old Town_0</th>\n",
       "      <th>Houston St_0</th>\n",
       "      <th>Hunters Point Av_0</th>\n",
       "      <th>39 Av_0</th>\n",
       "      <th>Mets - Willets Point_0</th>\n",
       "    </tr>\n",
       "  </thead>\n",
       "  <tbody>\n",
       "    <tr>\n",
       "      <th rowspan=\"5\" valign=\"top\">1 Av_0</th>\n",
       "      <th>1 Av_0</th>\n",
       "      <td>0.0</td>\n",
       "      <td>0.0</td>\n",
       "      <td>0.0</td>\n",
       "      <td>0.0</td>\n",
       "      <td>0.0</td>\n",
       "      <td>0.0</td>\n",
       "      <td>0.0</td>\n",
       "      <td>0.0</td>\n",
       "      <td>0.000000</td>\n",
       "      <td>0.000000</td>\n",
       "      <td>...</td>\n",
       "      <td>0.0</td>\n",
       "      <td>0.0</td>\n",
       "      <td>0.0</td>\n",
       "      <td>0.0</td>\n",
       "      <td>0.0</td>\n",
       "      <td>0.0</td>\n",
       "      <td>0.0</td>\n",
       "      <td>0.000000</td>\n",
       "      <td>0.0</td>\n",
       "      <td>0.0</td>\n",
       "    </tr>\n",
       "    <tr>\n",
       "      <th>103 St - Corona Plaza_0</th>\n",
       "      <td>0.0</td>\n",
       "      <td>0.0</td>\n",
       "      <td>0.0</td>\n",
       "      <td>0.0</td>\n",
       "      <td>0.0</td>\n",
       "      <td>0.0</td>\n",
       "      <td>0.0</td>\n",
       "      <td>0.0</td>\n",
       "      <td>0.000000</td>\n",
       "      <td>0.000000</td>\n",
       "      <td>...</td>\n",
       "      <td>0.0</td>\n",
       "      <td>0.0</td>\n",
       "      <td>0.0</td>\n",
       "      <td>0.0</td>\n",
       "      <td>0.0</td>\n",
       "      <td>0.0</td>\n",
       "      <td>0.0</td>\n",
       "      <td>9.065421</td>\n",
       "      <td>0.0</td>\n",
       "      <td>0.0</td>\n",
       "    </tr>\n",
       "    <tr>\n",
       "      <th>103 St_0</th>\n",
       "      <td>0.0</td>\n",
       "      <td>0.0</td>\n",
       "      <td>0.0</td>\n",
       "      <td>0.0</td>\n",
       "      <td>0.0</td>\n",
       "      <td>0.0</td>\n",
       "      <td>0.0</td>\n",
       "      <td>0.0</td>\n",
       "      <td>0.000000</td>\n",
       "      <td>25.120482</td>\n",
       "      <td>...</td>\n",
       "      <td>0.0</td>\n",
       "      <td>0.0</td>\n",
       "      <td>0.0</td>\n",
       "      <td>0.0</td>\n",
       "      <td>0.0</td>\n",
       "      <td>0.0</td>\n",
       "      <td>0.0</td>\n",
       "      <td>0.000000</td>\n",
       "      <td>0.0</td>\n",
       "      <td>0.0</td>\n",
       "    </tr>\n",
       "    <tr>\n",
       "      <th>103 St_1</th>\n",
       "      <td>0.0</td>\n",
       "      <td>0.0</td>\n",
       "      <td>0.0</td>\n",
       "      <td>0.0</td>\n",
       "      <td>0.0</td>\n",
       "      <td>0.0</td>\n",
       "      <td>0.0</td>\n",
       "      <td>0.0</td>\n",
       "      <td>0.000000</td>\n",
       "      <td>0.000000</td>\n",
       "      <td>...</td>\n",
       "      <td>0.0</td>\n",
       "      <td>0.0</td>\n",
       "      <td>0.0</td>\n",
       "      <td>0.0</td>\n",
       "      <td>0.0</td>\n",
       "      <td>0.0</td>\n",
       "      <td>0.0</td>\n",
       "      <td>0.000000</td>\n",
       "      <td>0.0</td>\n",
       "      <td>0.0</td>\n",
       "    </tr>\n",
       "    <tr>\n",
       "      <th>103 St_2</th>\n",
       "      <td>0.0</td>\n",
       "      <td>0.0</td>\n",
       "      <td>0.0</td>\n",
       "      <td>0.0</td>\n",
       "      <td>0.0</td>\n",
       "      <td>0.0</td>\n",
       "      <td>0.0</td>\n",
       "      <td>0.0</td>\n",
       "      <td>235.120482</td>\n",
       "      <td>0.000000</td>\n",
       "      <td>...</td>\n",
       "      <td>0.0</td>\n",
       "      <td>0.0</td>\n",
       "      <td>0.0</td>\n",
       "      <td>0.0</td>\n",
       "      <td>0.0</td>\n",
       "      <td>0.0</td>\n",
       "      <td>0.0</td>\n",
       "      <td>0.000000</td>\n",
       "      <td>0.0</td>\n",
       "      <td>0.0</td>\n",
       "    </tr>\n",
       "  </tbody>\n",
       "</table>\n",
       "<p>5 rows × 355 columns</p>\n",
       "</div>"
      ],
      "text/plain": [
       "                                Brighton Beach_0  Canal St_1  Canal St_0  \\\n",
       "1 Av_0 1 Av_0                                0.0         0.0         0.0   \n",
       "       103 St - Corona Plaza_0               0.0         0.0         0.0   \n",
       "       103 St_0                              0.0         0.0         0.0   \n",
       "       103 St_1                              0.0         0.0         0.0   \n",
       "       103 St_2                              0.0         0.0         0.0   \n",
       "\n",
       "                                Canal St_2  Intervale Av_0  65 St_0  \\\n",
       "1 Av_0 1 Av_0                          0.0             0.0      0.0   \n",
       "       103 St - Corona Plaza_0         0.0             0.0      0.0   \n",
       "       103 St_0                        0.0             0.0      0.0   \n",
       "       103 St_1                        0.0             0.0      0.0   \n",
       "       103 St_2                        0.0             0.0      0.0   \n",
       "\n",
       "                                Parkside Av_0  Broad Channel_0  \\\n",
       "1 Av_0 1 Av_0                             0.0              0.0   \n",
       "       103 St - Corona Plaza_0            0.0              0.0   \n",
       "       103 St_0                           0.0              0.0   \n",
       "       103 St_1                           0.0              0.0   \n",
       "       103 St_2                           0.0              0.0   \n",
       "\n",
       "                                34 St - Penn Station_1  \\\n",
       "1 Av_0 1 Av_0                                 0.000000   \n",
       "       103 St - Corona Plaza_0                0.000000   \n",
       "       103 St_0                               0.000000   \n",
       "       103 St_1                               0.000000   \n",
       "       103 St_2                             235.120482   \n",
       "\n",
       "                                34 St - Penn Station_0  \\\n",
       "1 Av_0 1 Av_0                                 0.000000   \n",
       "       103 St - Corona Plaza_0                0.000000   \n",
       "       103 St_0                              25.120482   \n",
       "       103 St_1                               0.000000   \n",
       "       103 St_2                               0.000000   \n",
       "\n",
       "                                         ...            Beach 105 St_0  \\\n",
       "1 Av_0 1 Av_0                            ...                       0.0   \n",
       "       103 St - Corona Plaza_0           ...                       0.0   \n",
       "       103 St_0                          ...                       0.0   \n",
       "       103 St_1                          ...                       0.0   \n",
       "       103 St_2                          ...                       0.0   \n",
       "\n",
       "                                Morris Park_0  Allerton Av_0  5 Av/59 St_0  \\\n",
       "1 Av_0 1 Av_0                             0.0            0.0           0.0   \n",
       "       103 St - Corona Plaza_0            0.0            0.0           0.0   \n",
       "       103 St_0                           0.0            0.0           0.0   \n",
       "       103 St_1                           0.0            0.0           0.0   \n",
       "       103 St_2                           0.0            0.0           0.0   \n",
       "\n",
       "                                Aqueduct - N Conduit Av_0  Old Town_0  \\\n",
       "1 Av_0 1 Av_0                                         0.0         0.0   \n",
       "       103 St - Corona Plaza_0                        0.0         0.0   \n",
       "       103 St_0                                       0.0         0.0   \n",
       "       103 St_1                                       0.0         0.0   \n",
       "       103 St_2                                       0.0         0.0   \n",
       "\n",
       "                                Houston St_0  Hunters Point Av_0  39 Av_0  \\\n",
       "1 Av_0 1 Av_0                            0.0            0.000000      0.0   \n",
       "       103 St - Corona Plaza_0           0.0            9.065421      0.0   \n",
       "       103 St_0                          0.0            0.000000      0.0   \n",
       "       103 St_1                          0.0            0.000000      0.0   \n",
       "       103 St_2                          0.0            0.000000      0.0   \n",
       "\n",
       "                                Mets - Willets Point_0  \n",
       "1 Av_0 1 Av_0                                      0.0  \n",
       "       103 St - Corona Plaza_0                     0.0  \n",
       "       103 St_0                                    0.0  \n",
       "       103 St_1                                    0.0  \n",
       "       103 St_2                                    0.0  \n",
       "\n",
       "[5 rows x 355 columns]"
      ]
     },
     "execution_count": 227,
     "metadata": {},
     "output_type": "execute_result"
    }
   ],
   "source": [
    "df_diff.head()"
   ]
  },
  {
   "cell_type": "code",
   "execution_count": 260,
   "metadata": {
    "collapsed": false
   },
   "outputs": [
    {
     "data": {
      "text/plain": [
       "467"
      ]
     },
     "execution_count": 260,
     "metadata": {},
     "output_type": "execute_result"
    }
   ],
   "source": [
    "len(df_diff.columns) "
   ]
  },
  {
   "cell_type": "code",
   "execution_count": 243,
   "metadata": {
    "collapsed": false
   },
   "outputs": [],
   "source": [
    "pd.read_csv('remove_one_node_duration',\n",
    "            compression='gzip').rename(columns= {'Unnamed: 0':'to_master_id',\n",
    "                                                'Unnamed: 1':'from_master_id'}).to_csv('remove_one_node_duration.csv.gz',\n",
    "                                                                                       compression='gzip')"
   ]
  },
  {
   "cell_type": "code",
   "execution_count": 248,
   "metadata": {
    "collapsed": false
   },
   "outputs": [],
   "source": [
    "df_diff = pd.read_csv('remove_one_node_duration.csv.gz',compression='gzip',index_col=0)"
   ]
  },
  {
   "cell_type": "code",
   "execution_count": 250,
   "metadata": {
    "collapsed": false
   },
   "outputs": [],
   "source": [
    "df_diff = df_diff[df_diff['from_master_id']!= df_diff['to_master_id']]"
   ]
  },
  {
   "cell_type": "code",
   "execution_count": 256,
   "metadata": {
    "collapsed": true
   },
   "outputs": [],
   "source": [
    "df_diff.to_csv('remove_one_node_duration')"
   ]
  },
  {
   "cell_type": "code",
   "execution_count": 257,
   "metadata": {
    "collapsed": false
   },
   "outputs": [],
   "source": [
    "df_diff.to_csv('remove_one_node_duration.csv.gz',compression='gzip')"
   ]
  },
  {
   "cell_type": "code",
   "execution_count": 258,
   "metadata": {
    "collapsed": false,
    "scrolled": true
   },
   "outputs": [
    {
     "data": {
      "text/plain": [
       "392126776"
      ]
     },
     "execution_count": 258,
     "metadata": {},
     "output_type": "execute_result"
    }
   ],
   "source": [
    "os.stat('remove_one_node_duration').st_size"
   ]
  },
  {
   "cell_type": "code",
   "execution_count": 259,
   "metadata": {
    "collapsed": false,
    "scrolled": true
   },
   "outputs": [
    {
     "data": {
      "text/plain": [
       "10054819"
      ]
     },
     "execution_count": 259,
     "metadata": {},
     "output_type": "execute_result"
    }
   ],
   "source": [
    "os.stat('remove_one_node_duration.csv.gz').st_size"
   ]
  },
  {
   "cell_type": "code",
   "execution_count": null,
   "metadata": {
    "collapsed": true
   },
   "outputs": [],
   "source": []
  },
  {
   "cell_type": "markdown",
   "metadata": {},
   "source": [
    "## remove 2 nodes in the network , calculate the duration"
   ]
  },
  {
   "cell_type": "code",
   "execution_count": 27,
   "metadata": {
    "collapsed": true
   },
   "outputs": [],
   "source": [
    "def calculate_duration_remove2nodes(removed_master_node):\n",
    "    \"\"\"\n",
    "    removed_master_node = [...]\n",
    "    a list of master nodes to be removed\n",
    "    this function is to calculate shortest path length of new network without multi-nodes\n",
    "    \"\"\"\n",
    "    removed_sub_nodes = find_sub_nodes(removed_master_node)\n",
    "    \n",
    "    G_0 = G.copy()\n",
    "    G_0.remove_nodes_from(removed_sub_nodes)\n",
    "    dict_duration  = nx.all_pairs_dijkstra_path_length(G_0)\n",
    "    df = pd.DataFrame.from_dict(dict_duration)\n",
    "    df.index.name='to_master_id'\n",
    "    \n",
    "    ### some error raises ,eg: 'Jamaica Center - Parsons/Archer_0' cannot save to csv\n",
    "    ### so change / into -\n",
    "    filename = ','.join(removed_master_node)\n",
    "    filename = filename.replace('/','-')\n",
    "    df.loc[master_nodes,master_nodes].to_csv('remove-two-node/'+filename)\n",
    "    return dict_duration\n"
   ]
  },
  {
   "cell_type": "code",
   "execution_count": 170,
   "metadata": {
    "collapsed": false
   },
   "outputs": [
    {
     "name": "stdout",
     "output_type": "stream",
     "text": [
      "0:00:31.622143\n"
     ]
    }
   ],
   "source": [
    "t1= datetime.datetime.now()\n",
    "removed_master_node= ['Canal St_0','Times Sq - 42 St_0']\n",
    "calculate_duration_remove2nodes(removed_master_node)\n",
    "t2 = datetime.datetime.now()-t1\n",
    "print t2"
   ]
  },
  {
   "cell_type": "markdown",
   "metadata": {},
   "source": [
    "## Get the removed pair"
   ]
  },
  {
   "cell_type": "code",
   "execution_count": 63,
   "metadata": {
    "collapsed": true
   },
   "outputs": [],
   "source": [
    "bwt_centrality = nx.betweenness_centrality(G,weight ='weight')"
   ]
  },
  {
   "cell_type": "code",
   "execution_count": 91,
   "metadata": {
    "collapsed": false
   },
   "outputs": [
    {
     "data": {
      "text/plain": [
       "[('Grant Av_0', 0.0),\n",
       " ('Atlantic Av - Barclays Ctr_0', 0.0),\n",
       " ('136_2', 0.0),\n",
       " ('136_1', 0.006137891203785147)]"
      ]
     },
     "execution_count": 91,
     "metadata": {},
     "output_type": "execute_result"
    }
   ],
   "source": [
    "bwt_centrality.items()[:4]"
   ]
  },
  {
   "cell_type": "markdown",
   "metadata": {},
   "source": [
    "#### As master node are only connected to the sub-nodes in the station, so no shortest path go through it. Then master nodes' betweenness centrality are all 0."
   ]
  },
  {
   "cell_type": "code",
   "execution_count": 36,
   "metadata": {
    "collapsed": false
   },
   "outputs": [],
   "source": [
    "degree = nx.degree(G)"
   ]
  },
  {
   "cell_type": "code",
   "execution_count": 37,
   "metadata": {
    "collapsed": true
   },
   "outputs": [],
   "source": [
    "degree_0=degree.copy()"
   ]
  },
  {
   "cell_type": "code",
   "execution_count": 38,
   "metadata": {
    "collapsed": false
   },
   "outputs": [],
   "source": [
    "degree = filter(lambda (x,y): x in master_nodes,\n",
    "       sorted(degree.iteritems(), key=lambda (k,v): (v,k),reverse =True))"
   ]
  },
  {
   "cell_type": "code",
   "execution_count": 39,
   "metadata": {
    "collapsed": true
   },
   "outputs": [],
   "source": [
    "removed_pair_1 = []\n",
    "for pair in itertools.combinations(map(lambda x:x[0], degree[:50]),2):\n",
    "    #pair = tuple([x.replace('/','-') for x in pair])\n",
    "    removed_pair_1.append(pair)"
   ]
  },
  {
   "cell_type": "code",
   "execution_count": 40,
   "metadata": {
    "collapsed": false
   },
   "outputs": [],
   "source": [
    "highest_degree_master = map(lambda x:x[0], degree[:100])\n",
    "removed_pair_2 = []\n",
    "for pair in itertools.combinations(highest_degree_master,2):\n",
    "    #pair = tuple([x.replace('/','-') for x in pair])\n",
    "    removed_pair_2.append(pair)"
   ]
  },
  {
   "cell_type": "code",
   "execution_count": 41,
   "metadata": {
    "collapsed": false
   },
   "outputs": [],
   "source": [
    "removed_pair = filter( lambda x: x not in removed_pair_1, removed_pair_2)"
   ]
  },
  {
   "cell_type": "code",
   "execution_count": 43,
   "metadata": {
    "collapsed": false
   },
   "outputs": [
    {
     "data": {
      "text/plain": [
       "[('Atlantic Av - Barclays Ctr_0', '42 St - Port Authority Bus Terminal_0'),\n",
       " ('Atlantic Av - Barclays Ctr_0', '36 St_0')]"
      ]
     },
     "execution_count": 43,
     "metadata": {},
     "output_type": "execute_result"
    }
   ],
   "source": [
    "removed_pair[:2]"
   ]
  },
  {
   "cell_type": "code",
   "execution_count": null,
   "metadata": {
    "collapsed": true
   },
   "outputs": [],
   "source": [
    "for removed_master_node in removed_pair:\n",
    "    calculate_duration_remove2nodes(removed_master_node)"
   ]
  },
  {
   "cell_type": "code",
   "execution_count": 87,
   "metadata": {
    "collapsed": false
   },
   "outputs": [
    {
     "data": {
      "text/plain": [
       "2350"
      ]
     },
     "execution_count": 87,
     "metadata": {},
     "output_type": "execute_result"
    }
   ],
   "source": [
    "len(os.listdir('remove-two-node/'))"
   ]
  },
  {
   "cell_type": "code",
   "execution_count": null,
   "metadata": {
    "collapsed": true
   },
   "outputs": [],
   "source": []
  },
  {
   "cell_type": "markdown",
   "metadata": {
    "collapsed": true
   },
   "source": [
    "## CRITICAL"
   ]
  },
  {
   "cell_type": "code",
   "execution_count": 28,
   "metadata": {
    "collapsed": false
   },
   "outputs": [],
   "source": [
    "delay = pd.read_csv('delay_one_node_removal',index_col=0)\n",
    "critical_nodes =delay.head(50)['station'].values"
   ]
  },
  {
   "cell_type": "code",
   "execution_count": 29,
   "metadata": {
    "collapsed": false
   },
   "outputs": [],
   "source": [
    "critical_pairs=[]\n",
    "for i in itertools.combinations([x.replace('/','-') for x in critical_nodes],2):\n",
    "    critical_pairs.append(i)"
   ]
  },
  {
   "cell_type": "code",
   "execution_count": 30,
   "metadata": {
    "collapsed": false
   },
   "outputs": [
    {
     "data": {
      "text/plain": [
       "1225"
      ]
     },
     "execution_count": 30,
     "metadata": {},
     "output_type": "execute_result"
    }
   ],
   "source": [
    "len(critical_pairs)"
   ]
  },
  {
   "cell_type": "code",
   "execution_count": 31,
   "metadata": {
    "collapsed": false
   },
   "outputs": [
    {
     "data": {
      "text/plain": [
       "['Lexington Av/63 St_0', '5 Av/53 St_0']"
      ]
     },
     "execution_count": 31,
     "metadata": {},
     "output_type": "execute_result"
    }
   ],
   "source": [
    "filter (lambda x :'/' in x, critical_nodes)"
   ]
  },
  {
   "cell_type": "code",
   "execution_count": 32,
   "metadata": {
    "collapsed": false
   },
   "outputs": [],
   "source": [
    "removed_pair = map(lambda x: (x[0].replace('Lexington Av-63 St_0','Lexington Av/63 St_0'),\n",
    "               x[1].replace('Lexington Av-63 St_0','Lexington Av/63 St_0')), critical_pairs)"
   ]
  },
  {
   "cell_type": "code",
   "execution_count": 33,
   "metadata": {
    "collapsed": false
   },
   "outputs": [],
   "source": [
    "removed_pair = map(lambda x: (x[0].replace('5 Av-53 St_0','5 Av/53 St_0'),\n",
    "               x[1].replace('5 Av-53 St_0','5 Av/53 St_0')), removed_pair)"
   ]
  },
  {
   "cell_type": "code",
   "execution_count": 34,
   "metadata": {
    "collapsed": false
   },
   "outputs": [
    {
     "data": {
      "text/plain": [
       "[('Jackson Hts - Roosevelt Av_0', '149 St - Grand Concourse_0'),\n",
       " ('Jackson Hts - Roosevelt Av_0', '125 St_2'),\n",
       " ('Jackson Hts - Roosevelt Av_0', 'Broadway Jct_0')]"
      ]
     },
     "execution_count": 34,
     "metadata": {},
     "output_type": "execute_result"
    }
   ],
   "source": [
    "removed_pair[:3]"
   ]
  },
  {
   "cell_type": "code",
   "execution_count": null,
   "metadata": {
    "collapsed": false
   },
   "outputs": [],
   "source": [
    "for removed_master_node in removed_pair[515:]:\n",
    "    calculate_duration_remove2nodes(removed_master_node)"
   ]
  },
  {
   "cell_type": "code",
   "execution_count": 37,
   "metadata": {
    "collapsed": false
   },
   "outputs": [
    {
     "data": {
      "text/plain": [
       "1225"
      ]
     },
     "execution_count": 37,
     "metadata": {},
     "output_type": "execute_result"
    }
   ],
   "source": [
    "len(os.listdir('remove-two-node'))"
   ]
  },
  {
   "cell_type": "markdown",
   "metadata": {},
   "source": [
    "## duration difference of removing 2 node"
   ]
  },
  {
   "cell_type": "code",
   "execution_count": 45,
   "metadata": {
    "collapsed": false
   },
   "outputs": [
    {
     "data": {
      "text/html": [
       "<div>\n",
       "<style>\n",
       "    .dataframe thead tr:only-child th {\n",
       "        text-align: right;\n",
       "    }\n",
       "\n",
       "    .dataframe thead th {\n",
       "        text-align: left;\n",
       "    }\n",
       "\n",
       "    .dataframe tbody tr th {\n",
       "        vertical-align: top;\n",
       "    }\n",
       "</style>\n",
       "<table border=\"1\" class=\"dataframe\">\n",
       "  <thead>\n",
       "    <tr style=\"text-align: right;\">\n",
       "      <th></th>\n",
       "      <th>to_master_id</th>\n",
       "      <th>Grant Av_0</th>\n",
       "      <th>Atlantic Av - Barclays Ctr_0</th>\n",
       "      <th>Richmond Valley_0</th>\n",
       "      <th>169 St_0</th>\n",
       "      <th>Neptune Av_0</th>\n",
       "      <th>Jamaica - 179 St_0</th>\n",
       "      <th>Bedford Av_0</th>\n",
       "      <th>63 Dr - Rego Park_0</th>\n",
       "      <th>Junction Blvd_0</th>\n",
       "      <th>...</th>\n",
       "      <th>Beach 105 St_0</th>\n",
       "      <th>Morris Park_0</th>\n",
       "      <th>Allerton Av_0</th>\n",
       "      <th>5 Av/59 St_0</th>\n",
       "      <th>Aqueduct - N Conduit Av_0</th>\n",
       "      <th>Old Town_0</th>\n",
       "      <th>Houston St_0</th>\n",
       "      <th>Hunters Point Av_0</th>\n",
       "      <th>39 Av_0</th>\n",
       "      <th>Mets - Willets Point_0</th>\n",
       "    </tr>\n",
       "  </thead>\n",
       "  <tbody>\n",
       "    <tr>\n",
       "      <th>0</th>\n",
       "      <td>Grant Av_0</td>\n",
       "      <td>0.000000</td>\n",
       "      <td>1651.764706</td>\n",
       "      <td>NaN</td>\n",
       "      <td>2835.872710</td>\n",
       "      <td>3262.5</td>\n",
       "      <td>2945.685544</td>\n",
       "      <td>1696.140089</td>\n",
       "      <td>2821.831789</td>\n",
       "      <td>3111.692037</td>\n",
       "      <td>...</td>\n",
       "      <td>2212.500000</td>\n",
       "      <td>4773.001521</td>\n",
       "      <td>5073.586887</td>\n",
       "      <td>2820.566802</td>\n",
       "      <td>880.887097</td>\n",
       "      <td>NaN</td>\n",
       "      <td>2318.571429</td>\n",
       "      <td>2563.105518</td>\n",
       "      <td>2751.258041</td>\n",
       "      <td>3323.381297</td>\n",
       "    </tr>\n",
       "    <tr>\n",
       "      <th>1</th>\n",
       "      <td>Atlantic Av - Barclays Ctr_0</td>\n",
       "      <td>1935.622120</td>\n",
       "      <td>0.000000</td>\n",
       "      <td>NaN</td>\n",
       "      <td>3413.823529</td>\n",
       "      <td>2040.0</td>\n",
       "      <td>3523.636364</td>\n",
       "      <td>1489.090909</td>\n",
       "      <td>2992.567222</td>\n",
       "      <td>2507.142857</td>\n",
       "      <td>...</td>\n",
       "      <td>3973.928571</td>\n",
       "      <td>3714.372003</td>\n",
       "      <td>4014.957369</td>\n",
       "      <td>1568.461538</td>\n",
       "      <td>2642.315668</td>\n",
       "      <td>NaN</td>\n",
       "      <td>1448.571429</td>\n",
       "      <td>1739.611399</td>\n",
       "      <td>2146.708861</td>\n",
       "      <td>2718.832117</td>\n",
       "    </tr>\n",
       "    <tr>\n",
       "      <th>2</th>\n",
       "      <td>Richmond Valley_0</td>\n",
       "      <td>NaN</td>\n",
       "      <td>NaN</td>\n",
       "      <td>0.0</td>\n",
       "      <td>NaN</td>\n",
       "      <td>NaN</td>\n",
       "      <td>NaN</td>\n",
       "      <td>NaN</td>\n",
       "      <td>NaN</td>\n",
       "      <td>NaN</td>\n",
       "      <td>...</td>\n",
       "      <td>NaN</td>\n",
       "      <td>NaN</td>\n",
       "      <td>NaN</td>\n",
       "      <td>NaN</td>\n",
       "      <td>NaN</td>\n",
       "      <td>2068.421053</td>\n",
       "      <td>NaN</td>\n",
       "      <td>NaN</td>\n",
       "      <td>NaN</td>\n",
       "      <td>NaN</td>\n",
       "    </tr>\n",
       "    <tr>\n",
       "      <th>3</th>\n",
       "      <td>169 St_0</td>\n",
       "      <td>3410.687055</td>\n",
       "      <td>3341.000000</td>\n",
       "      <td>NaN</td>\n",
       "      <td>0.000000</td>\n",
       "      <td>5161.5</td>\n",
       "      <td>268.636364</td>\n",
       "      <td>2458.090909</td>\n",
       "      <td>1044.782609</td>\n",
       "      <td>1497.142857</td>\n",
       "      <td>...</td>\n",
       "      <td>5448.993506</td>\n",
       "      <td>4296.751521</td>\n",
       "      <td>4597.336887</td>\n",
       "      <td>2067.461538</td>\n",
       "      <td>4117.380603</td>\n",
       "      <td>NaN</td>\n",
       "      <td>2803.304587</td>\n",
       "      <td>1795.056338</td>\n",
       "      <td>1983.208861</td>\n",
       "      <td>1708.832117</td>\n",
       "    </tr>\n",
       "    <tr>\n",
       "      <th>4</th>\n",
       "      <td>Neptune Av_0</td>\n",
       "      <td>3397.050691</td>\n",
       "      <td>2111.162791</td>\n",
       "      <td>NaN</td>\n",
       "      <td>5205.872710</td>\n",
       "      <td>0.0</td>\n",
       "      <td>5315.685544</td>\n",
       "      <td>3139.090909</td>\n",
       "      <td>4846.400491</td>\n",
       "      <td>4194.642857</td>\n",
       "      <td>...</td>\n",
       "      <td>5435.357143</td>\n",
       "      <td>5634.372003</td>\n",
       "      <td>5934.957369</td>\n",
       "      <td>3488.461538</td>\n",
       "      <td>4103.744240</td>\n",
       "      <td>NaN</td>\n",
       "      <td>3413.571429</td>\n",
       "      <td>3646.056338</td>\n",
       "      <td>3834.208861</td>\n",
       "      <td>4406.332117</td>\n",
       "    </tr>\n",
       "  </tbody>\n",
       "</table>\n",
       "<p>5 rows × 466 columns</p>\n",
       "</div>"
      ],
      "text/plain": [
       "                   to_master_id   Grant Av_0  Atlantic Av - Barclays Ctr_0  \\\n",
       "0                    Grant Av_0     0.000000                   1651.764706   \n",
       "1  Atlantic Av - Barclays Ctr_0  1935.622120                      0.000000   \n",
       "2             Richmond Valley_0          NaN                           NaN   \n",
       "3                      169 St_0  3410.687055                   3341.000000   \n",
       "4                  Neptune Av_0  3397.050691                   2111.162791   \n",
       "\n",
       "   Richmond Valley_0     169 St_0  Neptune Av_0  Jamaica - 179 St_0  \\\n",
       "0                NaN  2835.872710        3262.5         2945.685544   \n",
       "1                NaN  3413.823529        2040.0         3523.636364   \n",
       "2                0.0          NaN           NaN                 NaN   \n",
       "3                NaN     0.000000        5161.5          268.636364   \n",
       "4                NaN  5205.872710           0.0         5315.685544   \n",
       "\n",
       "   Bedford Av_0  63 Dr - Rego Park_0  Junction Blvd_0           ...            \\\n",
       "0   1696.140089          2821.831789      3111.692037           ...             \n",
       "1   1489.090909          2992.567222      2507.142857           ...             \n",
       "2           NaN                  NaN              NaN           ...             \n",
       "3   2458.090909          1044.782609      1497.142857           ...             \n",
       "4   3139.090909          4846.400491      4194.642857           ...             \n",
       "\n",
       "   Beach 105 St_0  Morris Park_0  Allerton Av_0  5 Av/59 St_0  \\\n",
       "0     2212.500000    4773.001521    5073.586887   2820.566802   \n",
       "1     3973.928571    3714.372003    4014.957369   1568.461538   \n",
       "2             NaN            NaN            NaN           NaN   \n",
       "3     5448.993506    4296.751521    4597.336887   2067.461538   \n",
       "4     5435.357143    5634.372003    5934.957369   3488.461538   \n",
       "\n",
       "   Aqueduct - N Conduit Av_0   Old Town_0  Houston St_0  Hunters Point Av_0  \\\n",
       "0                 880.887097          NaN   2318.571429         2563.105518   \n",
       "1                2642.315668          NaN   1448.571429         1739.611399   \n",
       "2                        NaN  2068.421053           NaN                 NaN   \n",
       "3                4117.380603          NaN   2803.304587         1795.056338   \n",
       "4                4103.744240          NaN   3413.571429         3646.056338   \n",
       "\n",
       "       39 Av_0  Mets - Willets Point_0  \n",
       "0  2751.258041             3323.381297  \n",
       "1  2146.708861             2718.832117  \n",
       "2          NaN                     NaN  \n",
       "3  1983.208861             1708.832117  \n",
       "4  3834.208861             4406.332117  \n",
       "\n",
       "[5 rows x 466 columns]"
      ]
     },
     "execution_count": 45,
     "metadata": {},
     "output_type": "execute_result"
    }
   ],
   "source": [
    "pd.read_csv('whole_network_duration').head()"
   ]
  },
  {
   "cell_type": "code",
   "execution_count": 43,
   "metadata": {
    "collapsed": true
   },
   "outputs": [],
   "source": [
    "whole_network_duration = np.array(list(csv.reader(open(\"whole_network_duration\", \"rb\"),\n",
    "                                                  delimiter=\",\")))"
   ]
  },
  {
   "cell_type": "code",
   "execution_count": 44,
   "metadata": {
    "collapsed": false
   },
   "outputs": [],
   "source": [
    "odpair=[]\n",
    "for i in itertools.product(whole_network_duration[0,1:],repeat=2):\n",
    "    odpair.append(i)"
   ]
  },
  {
   "cell_type": "code",
   "execution_count": 46,
   "metadata": {
    "collapsed": false
   },
   "outputs": [
    {
     "data": {
      "text/plain": [
       "[('Grant Av_0', 'Grant Av_0'),\n",
       " ('Grant Av_0', 'Atlantic Av - Barclays Ctr_0'),\n",
       " ('Grant Av_0', 'Richmond Valley_0'),\n",
       " ('Grant Av_0', '169 St_0'),\n",
       " ('Grant Av_0', 'Neptune Av_0')]"
      ]
     },
     "execution_count": 46,
     "metadata": {},
     "output_type": "execute_result"
    }
   ],
   "source": [
    "## x[0] is to_master_id, x[1] is from_master_id\n",
    "odpair[:5]"
   ]
  },
  {
   "cell_type": "code",
   "execution_count": 47,
   "metadata": {
    "collapsed": true
   },
   "outputs": [],
   "source": [
    "df_diff=pd.DataFrame()"
   ]
  },
  {
   "cell_type": "code",
   "execution_count": 48,
   "metadata": {
    "collapsed": false
   },
   "outputs": [],
   "source": [
    "for file_name in os.listdir('remove-two-node')[:1]:\n",
    "    df=np.array(list(csv.reader(open(\"remove-two-node/\"+file_name, \"rb\"), delimiter=\",\")))\n",
    "    if (whole_network_duration[:,0] == df[:,0]).all() & (whole_network_duration[0,:] == df[0,:]).all() :\n",
    "        df_0= whole_network_duration[1:,1:]\n",
    "        df_0[df_0=='']=np.nan\n",
    "        df_0 = df_0.astype('float')\n",
    "    \n",
    "        df = df[1:,1:]\n",
    "        df[df=='']=np.nan\n",
    "        df = df.astype('float')\n",
    "        difference=(df-df_0).flatten()\n",
    "        df_diff= pd.DataFrame.from_dict({file_name:dict(zip(odpair,difference))})\n",
    "        #df_diff = df_diff.join(df_diff_1)"
   ]
  },
  {
   "cell_type": "code",
   "execution_count": 163,
   "metadata": {
    "collapsed": false
   },
   "outputs": [
    {
     "data": {
      "text/plain": [
       "'Pennsylvania Av_0,DeKalb Av_0'"
      ]
     },
     "execution_count": 163,
     "metadata": {},
     "output_type": "execute_result"
    }
   ],
   "source": [
    "file_name"
   ]
  },
  {
   "cell_type": "code",
   "execution_count": 49,
   "metadata": {
    "collapsed": false
   },
   "outputs": [],
   "source": [
    "for file_name in os.listdir('remove-two-node')[1:]:\n",
    "    df=np.array(list(csv.reader(open(\"remove-two-node/\"+file_name, \"rb\"), delimiter=\",\")))\n",
    "    if (whole_network_duration[:,0] == df[:,0]).all() & (whole_network_duration[0,:] == df[0,:]).all() :\n",
    "        df_0= whole_network_duration[1:,1:]\n",
    "        df_0[df_0=='']=np.nan\n",
    "        df_0 = df_0.astype('float')\n",
    "    \n",
    "        df = df[1:,1:]\n",
    "        df[df=='']=np.nan\n",
    "        df = df.astype('float')\n",
    "        difference=(df-df_0).flatten()\n",
    "        df_diff_1 = pd.DataFrame.from_dict({file_name:dict(zip(odpair,difference))})\n",
    "        df_diff = df_diff.join(df_diff_1)"
   ]
  },
  {
   "cell_type": "code",
   "execution_count": 50,
   "metadata": {
    "collapsed": false
   },
   "outputs": [
    {
     "data": {
      "text/plain": [
       "1225"
      ]
     },
     "execution_count": 50,
     "metadata": {},
     "output_type": "execute_result"
    }
   ],
   "source": [
    "len(df_diff.columns)"
   ]
  },
  {
   "cell_type": "code",
   "execution_count": 51,
   "metadata": {
    "collapsed": true
   },
   "outputs": [],
   "source": [
    "df_diff.to_csv('remove_two_nodes_duration.csv.gz',compression='gzip')"
   ]
  },
  {
   "cell_type": "code",
   "execution_count": 52,
   "metadata": {
    "collapsed": false
   },
   "outputs": [
    {
     "data": {
      "text/plain": [
       "37637938"
      ]
     },
     "execution_count": 52,
     "metadata": {},
     "output_type": "execute_result"
    }
   ],
   "source": [
    "os.stat('remove_two_nodes_duration.csv.gz').st_size"
   ]
  },
  {
   "cell_type": "code",
   "execution_count": 56,
   "metadata": {
    "collapsed": false
   },
   "outputs": [],
   "source": [
    "df_diff= df_diff.fillna(3600)"
   ]
  },
  {
   "cell_type": "code",
   "execution_count": 57,
   "metadata": {
    "collapsed": false
   },
   "outputs": [],
   "source": [
    "df_diff= df_diff.reset_index().rename(columns={'level_0':'to_master_id',\n",
    "                                     'level_1':'from_master_id'})"
   ]
  },
  {
   "cell_type": "code",
   "execution_count": 58,
   "metadata": {
    "collapsed": false
   },
   "outputs": [],
   "source": [
    "df_diff = df_diff[df_diff['from_master_id']!= df_diff['to_master_id']]"
   ]
  },
  {
   "cell_type": "code",
   "execution_count": 59,
   "metadata": {
    "collapsed": false
   },
   "outputs": [
    {
     "data": {
      "text/html": [
       "<div>\n",
       "<style>\n",
       "    .dataframe thead tr:only-child th {\n",
       "        text-align: right;\n",
       "    }\n",
       "\n",
       "    .dataframe thead th {\n",
       "        text-align: left;\n",
       "    }\n",
       "\n",
       "    .dataframe tbody tr th {\n",
       "        vertical-align: top;\n",
       "    }\n",
       "</style>\n",
       "<table border=\"1\" class=\"dataframe\">\n",
       "  <thead>\n",
       "    <tr style=\"text-align: right;\">\n",
       "      <th></th>\n",
       "      <th>to_master_id</th>\n",
       "      <th>from_master_id</th>\n",
       "      <th>Jackson Hts - Roosevelt Av_0,125 St_2</th>\n",
       "      <th>E 180 St_0,59 St - Columbus Circle_0</th>\n",
       "      <th>E 180 St_0,34 St - Penn Station_1</th>\n",
       "      <th>Jackson Hts - Roosevelt Av_0,3 Av - 149 St_0</th>\n",
       "      <th>E 180 St_0,Whitehall St_0</th>\n",
       "      <th>Jackson Hts - Roosevelt Av_0,3 Av - 138 St_0</th>\n",
       "      <th>80 St_0,86 St_1</th>\n",
       "      <th>Jackson Hts - Roosevelt Av_0,72 St_2</th>\n",
       "      <th>...</th>\n",
       "      <th>14 St - Union Sq_0,168 St - Washington Hts_0</th>\n",
       "      <th>Franklin Av_1,Broadway_1</th>\n",
       "      <th>42 St - Port Authority Bus Terminal_0,86 St_4</th>\n",
       "      <th>Franklin Av_1,Church Av_0</th>\n",
       "      <th>42 St - Port Authority Bus Terminal_0,E 180 St_0</th>\n",
       "      <th>42 St - Port Authority Bus Terminal_0,88 St_0</th>\n",
       "      <th>Franklin Av_1,Whitehall St_0</th>\n",
       "      <th>Atlantic Av - Barclays Ctr_0,30 Av_0</th>\n",
       "      <th>Franklin Av_1,88 St_0</th>\n",
       "      <th>36 St_0,Euclid Av_0</th>\n",
       "    </tr>\n",
       "  </thead>\n",
       "  <tbody>\n",
       "    <tr>\n",
       "      <th>1</th>\n",
       "      <td>1 Av_0</td>\n",
       "      <td>103 St - Corona Plaza_0</td>\n",
       "      <td>0.0</td>\n",
       "      <td>0.00000</td>\n",
       "      <td>0.000000</td>\n",
       "      <td>0.0</td>\n",
       "      <td>0.0</td>\n",
       "      <td>0.0</td>\n",
       "      <td>0.00000</td>\n",
       "      <td>0.0</td>\n",
       "      <td>...</td>\n",
       "      <td>116.565421</td>\n",
       "      <td>0.0</td>\n",
       "      <td>0.000000</td>\n",
       "      <td>0.0</td>\n",
       "      <td>0.000000</td>\n",
       "      <td>0.000000</td>\n",
       "      <td>0.0</td>\n",
       "      <td>0.0</td>\n",
       "      <td>0.0</td>\n",
       "      <td>0.0</td>\n",
       "    </tr>\n",
       "    <tr>\n",
       "      <th>2</th>\n",
       "      <td>1 Av_0</td>\n",
       "      <td>103 St_0</td>\n",
       "      <td>0.0</td>\n",
       "      <td>0.00000</td>\n",
       "      <td>0.000000</td>\n",
       "      <td>0.0</td>\n",
       "      <td>0.0</td>\n",
       "      <td>0.0</td>\n",
       "      <td>0.00000</td>\n",
       "      <td>0.0</td>\n",
       "      <td>...</td>\n",
       "      <td>0.000000</td>\n",
       "      <td>0.0</td>\n",
       "      <td>0.000000</td>\n",
       "      <td>0.0</td>\n",
       "      <td>0.000000</td>\n",
       "      <td>0.000000</td>\n",
       "      <td>0.0</td>\n",
       "      <td>0.0</td>\n",
       "      <td>0.0</td>\n",
       "      <td>0.0</td>\n",
       "    </tr>\n",
       "    <tr>\n",
       "      <th>3</th>\n",
       "      <td>1 Av_0</td>\n",
       "      <td>103 St_1</td>\n",
       "      <td>0.0</td>\n",
       "      <td>0.00000</td>\n",
       "      <td>0.000000</td>\n",
       "      <td>0.0</td>\n",
       "      <td>0.0</td>\n",
       "      <td>0.0</td>\n",
       "      <td>1242.30179</td>\n",
       "      <td>0.0</td>\n",
       "      <td>...</td>\n",
       "      <td>489.095745</td>\n",
       "      <td>0.0</td>\n",
       "      <td>0.000000</td>\n",
       "      <td>0.0</td>\n",
       "      <td>0.000000</td>\n",
       "      <td>0.000000</td>\n",
       "      <td>0.0</td>\n",
       "      <td>0.0</td>\n",
       "      <td>0.0</td>\n",
       "      <td>0.0</td>\n",
       "    </tr>\n",
       "    <tr>\n",
       "      <th>4</th>\n",
       "      <td>1 Av_0</td>\n",
       "      <td>103 St_2</td>\n",
       "      <td>0.0</td>\n",
       "      <td>1353.69403</td>\n",
       "      <td>235.120482</td>\n",
       "      <td>0.0</td>\n",
       "      <td>0.0</td>\n",
       "      <td>0.0</td>\n",
       "      <td>0.00000</td>\n",
       "      <td>0.0</td>\n",
       "      <td>...</td>\n",
       "      <td>0.000000</td>\n",
       "      <td>0.0</td>\n",
       "      <td>235.120482</td>\n",
       "      <td>0.0</td>\n",
       "      <td>235.120482</td>\n",
       "      <td>235.120482</td>\n",
       "      <td>0.0</td>\n",
       "      <td>0.0</td>\n",
       "      <td>0.0</td>\n",
       "      <td>0.0</td>\n",
       "    </tr>\n",
       "    <tr>\n",
       "      <th>5</th>\n",
       "      <td>1 Av_0</td>\n",
       "      <td>104 St_0</td>\n",
       "      <td>0.0</td>\n",
       "      <td>0.00000</td>\n",
       "      <td>0.000000</td>\n",
       "      <td>0.0</td>\n",
       "      <td>0.0</td>\n",
       "      <td>0.0</td>\n",
       "      <td>3600.00000</td>\n",
       "      <td>0.0</td>\n",
       "      <td>...</td>\n",
       "      <td>0.000000</td>\n",
       "      <td>0.0</td>\n",
       "      <td>0.000000</td>\n",
       "      <td>0.0</td>\n",
       "      <td>0.000000</td>\n",
       "      <td>3600.000000</td>\n",
       "      <td>0.0</td>\n",
       "      <td>0.0</td>\n",
       "      <td>3600.0</td>\n",
       "      <td>3600.0</td>\n",
       "    </tr>\n",
       "  </tbody>\n",
       "</table>\n",
       "<p>5 rows × 1227 columns</p>\n",
       "</div>"
      ],
      "text/plain": [
       "  to_master_id           from_master_id  \\\n",
       "1       1 Av_0  103 St - Corona Plaza_0   \n",
       "2       1 Av_0                 103 St_0   \n",
       "3       1 Av_0                 103 St_1   \n",
       "4       1 Av_0                 103 St_2   \n",
       "5       1 Av_0                 104 St_0   \n",
       "\n",
       "   Jackson Hts - Roosevelt Av_0,125 St_2  \\\n",
       "1                                    0.0   \n",
       "2                                    0.0   \n",
       "3                                    0.0   \n",
       "4                                    0.0   \n",
       "5                                    0.0   \n",
       "\n",
       "   E 180 St_0,59 St - Columbus Circle_0  E 180 St_0,34 St - Penn Station_1  \\\n",
       "1                               0.00000                           0.000000   \n",
       "2                               0.00000                           0.000000   \n",
       "3                               0.00000                           0.000000   \n",
       "4                            1353.69403                         235.120482   \n",
       "5                               0.00000                           0.000000   \n",
       "\n",
       "   Jackson Hts - Roosevelt Av_0,3 Av - 149 St_0  E 180 St_0,Whitehall St_0  \\\n",
       "1                                           0.0                        0.0   \n",
       "2                                           0.0                        0.0   \n",
       "3                                           0.0                        0.0   \n",
       "4                                           0.0                        0.0   \n",
       "5                                           0.0                        0.0   \n",
       "\n",
       "   Jackson Hts - Roosevelt Av_0,3 Av - 138 St_0  80 St_0,86 St_1  \\\n",
       "1                                           0.0          0.00000   \n",
       "2                                           0.0          0.00000   \n",
       "3                                           0.0       1242.30179   \n",
       "4                                           0.0          0.00000   \n",
       "5                                           0.0       3600.00000   \n",
       "\n",
       "   Jackson Hts - Roosevelt Av_0,72 St_2         ...           \\\n",
       "1                                   0.0         ...            \n",
       "2                                   0.0         ...            \n",
       "3                                   0.0         ...            \n",
       "4                                   0.0         ...            \n",
       "5                                   0.0         ...            \n",
       "\n",
       "   14 St - Union Sq_0,168 St - Washington Hts_0  Franklin Av_1,Broadway_1  \\\n",
       "1                                    116.565421                       0.0   \n",
       "2                                      0.000000                       0.0   \n",
       "3                                    489.095745                       0.0   \n",
       "4                                      0.000000                       0.0   \n",
       "5                                      0.000000                       0.0   \n",
       "\n",
       "   42 St - Port Authority Bus Terminal_0,86 St_4  Franklin Av_1,Church Av_0  \\\n",
       "1                                       0.000000                        0.0   \n",
       "2                                       0.000000                        0.0   \n",
       "3                                       0.000000                        0.0   \n",
       "4                                     235.120482                        0.0   \n",
       "5                                       0.000000                        0.0   \n",
       "\n",
       "   42 St - Port Authority Bus Terminal_0,E 180 St_0  \\\n",
       "1                                          0.000000   \n",
       "2                                          0.000000   \n",
       "3                                          0.000000   \n",
       "4                                        235.120482   \n",
       "5                                          0.000000   \n",
       "\n",
       "   42 St - Port Authority Bus Terminal_0,88 St_0  \\\n",
       "1                                       0.000000   \n",
       "2                                       0.000000   \n",
       "3                                       0.000000   \n",
       "4                                     235.120482   \n",
       "5                                    3600.000000   \n",
       "\n",
       "   Franklin Av_1,Whitehall St_0  Atlantic Av - Barclays Ctr_0,30 Av_0  \\\n",
       "1                           0.0                                   0.0   \n",
       "2                           0.0                                   0.0   \n",
       "3                           0.0                                   0.0   \n",
       "4                           0.0                                   0.0   \n",
       "5                           0.0                                   0.0   \n",
       "\n",
       "   Franklin Av_1,88 St_0  36 St_0,Euclid Av_0  \n",
       "1                    0.0                  0.0  \n",
       "2                    0.0                  0.0  \n",
       "3                    0.0                  0.0  \n",
       "4                    0.0                  0.0  \n",
       "5                 3600.0               3600.0  \n",
       "\n",
       "[5 rows x 1227 columns]"
      ]
     },
     "execution_count": 59,
     "metadata": {},
     "output_type": "execute_result"
    }
   ],
   "source": [
    "df_diff.head()"
   ]
  },
  {
   "cell_type": "code",
   "execution_count": 60,
   "metadata": {
    "collapsed": false
   },
   "outputs": [
    {
     "data": {
      "text/plain": [
       "215760"
      ]
     },
     "execution_count": 60,
     "metadata": {},
     "output_type": "execute_result"
    }
   ],
   "source": [
    "len(df_diff)"
   ]
  },
  {
   "cell_type": "markdown",
   "metadata": {},
   "source": [
    "## TWO NODES CRITICIALITY "
   ]
  },
  {
   "cell_type": "code",
   "execution_count": 61,
   "metadata": {
    "collapsed": true
   },
   "outputs": [],
   "source": [
    "demand_0 = pd.read_csv('demand.csv.gz',compression='gzip',index_col=0)"
   ]
  },
  {
   "cell_type": "code",
   "execution_count": 109,
   "metadata": {
    "collapsed": true
   },
   "outputs": [],
   "source": [
    "### if none, means not reachable for 1 hour\n",
    "df_diff = df_diff.fillna(3600)"
   ]
  },
  {
   "cell_type": "code",
   "execution_count": 62,
   "metadata": {
    "collapsed": false
   },
   "outputs": [],
   "source": [
    "df_diff_0 = df_diff.merge(demand_0,on = ['to_master_id','from_master_id'])"
   ]
  },
  {
   "cell_type": "code",
   "execution_count": 63,
   "metadata": {
    "collapsed": true
   },
   "outputs": [],
   "source": [
    "delay = {}\n",
    "for pair in df_diff_0.columns[2:-1]:\n",
    "    delay[pair]= sum(np.array(df_diff_0.loc[:,pair]) * np.array(df_diff_0.loc[:,'demand']))\n"
   ]
  },
  {
   "cell_type": "code",
   "execution_count": 64,
   "metadata": {
    "collapsed": false
   },
   "outputs": [
    {
     "data": {
      "text/html": [
       "<div>\n",
       "<style>\n",
       "    .dataframe thead tr:only-child th {\n",
       "        text-align: right;\n",
       "    }\n",
       "\n",
       "    .dataframe thead th {\n",
       "        text-align: left;\n",
       "    }\n",
       "\n",
       "    .dataframe tbody tr th {\n",
       "        vertical-align: top;\n",
       "    }\n",
       "</style>\n",
       "<table border=\"1\" class=\"dataframe\">\n",
       "  <thead>\n",
       "    <tr style=\"text-align: right;\">\n",
       "      <th></th>\n",
       "      <th>to_master_id</th>\n",
       "      <th>from_master_id</th>\n",
       "      <th>Jackson Hts - Roosevelt Av_0,125 St_2</th>\n",
       "      <th>E 180 St_0,59 St - Columbus Circle_0</th>\n",
       "      <th>E 180 St_0,34 St - Penn Station_1</th>\n",
       "      <th>Jackson Hts - Roosevelt Av_0,3 Av - 149 St_0</th>\n",
       "      <th>E 180 St_0,Whitehall St_0</th>\n",
       "      <th>Jackson Hts - Roosevelt Av_0,3 Av - 138 St_0</th>\n",
       "      <th>80 St_0,86 St_1</th>\n",
       "      <th>Jackson Hts - Roosevelt Av_0,72 St_2</th>\n",
       "      <th>...</th>\n",
       "      <th>Franklin Av_1,Broadway_1</th>\n",
       "      <th>42 St - Port Authority Bus Terminal_0,86 St_4</th>\n",
       "      <th>Franklin Av_1,Church Av_0</th>\n",
       "      <th>42 St - Port Authority Bus Terminal_0,E 180 St_0</th>\n",
       "      <th>42 St - Port Authority Bus Terminal_0,88 St_0</th>\n",
       "      <th>Franklin Av_1,Whitehall St_0</th>\n",
       "      <th>Atlantic Av - Barclays Ctr_0,30 Av_0</th>\n",
       "      <th>Franklin Av_1,88 St_0</th>\n",
       "      <th>36 St_0,Euclid Av_0</th>\n",
       "      <th>demand</th>\n",
       "    </tr>\n",
       "  </thead>\n",
       "  <tbody>\n",
       "    <tr>\n",
       "      <th>0</th>\n",
       "      <td>1 Av_0</td>\n",
       "      <td>103 St - Corona Plaza_0</td>\n",
       "      <td>0.0</td>\n",
       "      <td>0.00000</td>\n",
       "      <td>0.000000</td>\n",
       "      <td>0.0</td>\n",
       "      <td>0.0</td>\n",
       "      <td>0.0</td>\n",
       "      <td>0.00000</td>\n",
       "      <td>0.0</td>\n",
       "      <td>...</td>\n",
       "      <td>0.0</td>\n",
       "      <td>0.000000</td>\n",
       "      <td>0.0</td>\n",
       "      <td>0.000000</td>\n",
       "      <td>0.000000</td>\n",
       "      <td>0.0</td>\n",
       "      <td>0.0</td>\n",
       "      <td>0.0</td>\n",
       "      <td>0.0</td>\n",
       "      <td>70.0</td>\n",
       "    </tr>\n",
       "    <tr>\n",
       "      <th>1</th>\n",
       "      <td>1 Av_0</td>\n",
       "      <td>103 St_0</td>\n",
       "      <td>0.0</td>\n",
       "      <td>0.00000</td>\n",
       "      <td>0.000000</td>\n",
       "      <td>0.0</td>\n",
       "      <td>0.0</td>\n",
       "      <td>0.0</td>\n",
       "      <td>0.00000</td>\n",
       "      <td>0.0</td>\n",
       "      <td>...</td>\n",
       "      <td>0.0</td>\n",
       "      <td>0.000000</td>\n",
       "      <td>0.0</td>\n",
       "      <td>0.000000</td>\n",
       "      <td>0.000000</td>\n",
       "      <td>0.0</td>\n",
       "      <td>0.0</td>\n",
       "      <td>0.0</td>\n",
       "      <td>0.0</td>\n",
       "      <td>15.0</td>\n",
       "    </tr>\n",
       "    <tr>\n",
       "      <th>2</th>\n",
       "      <td>1 Av_0</td>\n",
       "      <td>103 St_1</td>\n",
       "      <td>0.0</td>\n",
       "      <td>0.00000</td>\n",
       "      <td>0.000000</td>\n",
       "      <td>0.0</td>\n",
       "      <td>0.0</td>\n",
       "      <td>0.0</td>\n",
       "      <td>1242.30179</td>\n",
       "      <td>0.0</td>\n",
       "      <td>...</td>\n",
       "      <td>0.0</td>\n",
       "      <td>0.000000</td>\n",
       "      <td>0.0</td>\n",
       "      <td>0.000000</td>\n",
       "      <td>0.000000</td>\n",
       "      <td>0.0</td>\n",
       "      <td>0.0</td>\n",
       "      <td>0.0</td>\n",
       "      <td>0.0</td>\n",
       "      <td>40.0</td>\n",
       "    </tr>\n",
       "    <tr>\n",
       "      <th>3</th>\n",
       "      <td>1 Av_0</td>\n",
       "      <td>103 St_2</td>\n",
       "      <td>0.0</td>\n",
       "      <td>1353.69403</td>\n",
       "      <td>235.120482</td>\n",
       "      <td>0.0</td>\n",
       "      <td>0.0</td>\n",
       "      <td>0.0</td>\n",
       "      <td>0.00000</td>\n",
       "      <td>0.0</td>\n",
       "      <td>...</td>\n",
       "      <td>0.0</td>\n",
       "      <td>235.120482</td>\n",
       "      <td>0.0</td>\n",
       "      <td>235.120482</td>\n",
       "      <td>235.120482</td>\n",
       "      <td>0.0</td>\n",
       "      <td>0.0</td>\n",
       "      <td>0.0</td>\n",
       "      <td>0.0</td>\n",
       "      <td>30.0</td>\n",
       "    </tr>\n",
       "    <tr>\n",
       "      <th>4</th>\n",
       "      <td>1 Av_0</td>\n",
       "      <td>104 St_0</td>\n",
       "      <td>0.0</td>\n",
       "      <td>0.00000</td>\n",
       "      <td>0.000000</td>\n",
       "      <td>0.0</td>\n",
       "      <td>0.0</td>\n",
       "      <td>0.0</td>\n",
       "      <td>3600.00000</td>\n",
       "      <td>0.0</td>\n",
       "      <td>...</td>\n",
       "      <td>0.0</td>\n",
       "      <td>0.000000</td>\n",
       "      <td>0.0</td>\n",
       "      <td>0.000000</td>\n",
       "      <td>3600.000000</td>\n",
       "      <td>0.0</td>\n",
       "      <td>0.0</td>\n",
       "      <td>3600.0</td>\n",
       "      <td>3600.0</td>\n",
       "      <td>0.0</td>\n",
       "    </tr>\n",
       "  </tbody>\n",
       "</table>\n",
       "<p>5 rows × 1228 columns</p>\n",
       "</div>"
      ],
      "text/plain": [
       "  to_master_id           from_master_id  \\\n",
       "0       1 Av_0  103 St - Corona Plaza_0   \n",
       "1       1 Av_0                 103 St_0   \n",
       "2       1 Av_0                 103 St_1   \n",
       "3       1 Av_0                 103 St_2   \n",
       "4       1 Av_0                 104 St_0   \n",
       "\n",
       "   Jackson Hts - Roosevelt Av_0,125 St_2  \\\n",
       "0                                    0.0   \n",
       "1                                    0.0   \n",
       "2                                    0.0   \n",
       "3                                    0.0   \n",
       "4                                    0.0   \n",
       "\n",
       "   E 180 St_0,59 St - Columbus Circle_0  E 180 St_0,34 St - Penn Station_1  \\\n",
       "0                               0.00000                           0.000000   \n",
       "1                               0.00000                           0.000000   \n",
       "2                               0.00000                           0.000000   \n",
       "3                            1353.69403                         235.120482   \n",
       "4                               0.00000                           0.000000   \n",
       "\n",
       "   Jackson Hts - Roosevelt Av_0,3 Av - 149 St_0  E 180 St_0,Whitehall St_0  \\\n",
       "0                                           0.0                        0.0   \n",
       "1                                           0.0                        0.0   \n",
       "2                                           0.0                        0.0   \n",
       "3                                           0.0                        0.0   \n",
       "4                                           0.0                        0.0   \n",
       "\n",
       "   Jackson Hts - Roosevelt Av_0,3 Av - 138 St_0  80 St_0,86 St_1  \\\n",
       "0                                           0.0          0.00000   \n",
       "1                                           0.0          0.00000   \n",
       "2                                           0.0       1242.30179   \n",
       "3                                           0.0          0.00000   \n",
       "4                                           0.0       3600.00000   \n",
       "\n",
       "   Jackson Hts - Roosevelt Av_0,72 St_2   ...    Franklin Av_1,Broadway_1  \\\n",
       "0                                   0.0   ...                         0.0   \n",
       "1                                   0.0   ...                         0.0   \n",
       "2                                   0.0   ...                         0.0   \n",
       "3                                   0.0   ...                         0.0   \n",
       "4                                   0.0   ...                         0.0   \n",
       "\n",
       "   42 St - Port Authority Bus Terminal_0,86 St_4  Franklin Av_1,Church Av_0  \\\n",
       "0                                       0.000000                        0.0   \n",
       "1                                       0.000000                        0.0   \n",
       "2                                       0.000000                        0.0   \n",
       "3                                     235.120482                        0.0   \n",
       "4                                       0.000000                        0.0   \n",
       "\n",
       "   42 St - Port Authority Bus Terminal_0,E 180 St_0  \\\n",
       "0                                          0.000000   \n",
       "1                                          0.000000   \n",
       "2                                          0.000000   \n",
       "3                                        235.120482   \n",
       "4                                          0.000000   \n",
       "\n",
       "   42 St - Port Authority Bus Terminal_0,88 St_0  \\\n",
       "0                                       0.000000   \n",
       "1                                       0.000000   \n",
       "2                                       0.000000   \n",
       "3                                     235.120482   \n",
       "4                                    3600.000000   \n",
       "\n",
       "   Franklin Av_1,Whitehall St_0  Atlantic Av - Barclays Ctr_0,30 Av_0  \\\n",
       "0                           0.0                                   0.0   \n",
       "1                           0.0                                   0.0   \n",
       "2                           0.0                                   0.0   \n",
       "3                           0.0                                   0.0   \n",
       "4                           0.0                                   0.0   \n",
       "\n",
       "   Franklin Av_1,88 St_0  36 St_0,Euclid Av_0  demand  \n",
       "0                    0.0                  0.0    70.0  \n",
       "1                    0.0                  0.0    15.0  \n",
       "2                    0.0                  0.0    40.0  \n",
       "3                    0.0                  0.0    30.0  \n",
       "4                 3600.0               3600.0     0.0  \n",
       "\n",
       "[5 rows x 1228 columns]"
      ]
     },
     "execution_count": 64,
     "metadata": {},
     "output_type": "execute_result"
    }
   ],
   "source": [
    "df_diff_0.iloc[:5]"
   ]
  },
  {
   "cell_type": "code",
   "execution_count": 66,
   "metadata": {
    "collapsed": true
   },
   "outputs": [],
   "source": [
    "delay = pd.DataFrame(sorted(delay.items(), key=lambda x: x[1],reverse=True),columns=['station','delay'])"
   ]
  },
  {
   "cell_type": "code",
   "execution_count": 68,
   "metadata": {
    "collapsed": false
   },
   "outputs": [],
   "source": [
    "delay.to_csv('delay_two_nodes_removal')"
   ]
  }
 ],
 "metadata": {
  "anaconda-cloud": {},
  "kernelspec": {
   "display_name": "JupyterKern",
   "language": "python",
   "name": "jupyterkern"
  },
  "language_info": {
   "codemirror_mode": {
    "name": "ipython",
    "version": 2
   },
   "file_extension": ".py",
   "mimetype": "text/x-python",
   "name": "python",
   "nbconvert_exporter": "python",
   "pygments_lexer": "ipython2",
   "version": "2.7.13"
  }
 },
 "nbformat": 4,
 "nbformat_minor": 1
}
