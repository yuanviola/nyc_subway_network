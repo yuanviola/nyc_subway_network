{
 "cells": [
  {
   "cell_type": "code",
   "execution_count": 1,
   "metadata": {
    "collapsed": false
   },
   "outputs": [],
   "source": [
    "import pandas as pd"
   ]
  },
  {
   "cell_type": "code",
   "execution_count": 15,
   "metadata": {
    "collapsed": false
   },
   "outputs": [],
   "source": [
    "two_nodes =pd.read_csv('duration_diff_two_nodes_removal_multiply_demand_agg.csv',index_col=0)"
   ]
  },
  {
   "cell_type": "code",
   "execution_count": 16,
   "metadata": {
    "collapsed": false
   },
   "outputs": [],
   "source": [
    "two_nodes['station_0'] = map(lambda x:x.split(',')[0],two_nodes['station'])"
   ]
  },
  {
   "cell_type": "code",
   "execution_count": 17,
   "metadata": {
    "collapsed": false
   },
   "outputs": [],
   "source": [
    "two_nodes['station_1'] = map(lambda x:x.split(',')[1],two_nodes['station'])"
   ]
  },
  {
   "cell_type": "code",
   "execution_count": 18,
   "metadata": {
    "collapsed": false
   },
   "outputs": [
    {
     "data": {
      "text/html": [
       "<div>\n",
       "<style>\n",
       "    .dataframe thead tr:only-child th {\n",
       "        text-align: right;\n",
       "    }\n",
       "\n",
       "    .dataframe thead th {\n",
       "        text-align: left;\n",
       "    }\n",
       "\n",
       "    .dataframe tbody tr th {\n",
       "        vertical-align: top;\n",
       "    }\n",
       "</style>\n",
       "<table border=\"1\" class=\"dataframe\">\n",
       "  <thead>\n",
       "    <tr style=\"text-align: right;\">\n",
       "      <th></th>\n",
       "      <th>station</th>\n",
       "      <th>delay</th>\n",
       "      <th>station_0</th>\n",
       "      <th>station_1</th>\n",
       "    </tr>\n",
       "  </thead>\n",
       "  <tbody>\n",
       "    <tr>\n",
       "      <th>0</th>\n",
       "      <td>Jackson Hts - Roosevelt Av_0,Broadway Jct_0</td>\n",
       "      <td>9.312560e+08</td>\n",
       "      <td>Jackson Hts - Roosevelt Av_0</td>\n",
       "      <td>Broadway Jct_0</td>\n",
       "    </tr>\n",
       "    <tr>\n",
       "      <th>1</th>\n",
       "      <td>Jackson Hts - Roosevelt Av_0,Queensboro Plaza_0</td>\n",
       "      <td>9.195693e+08</td>\n",
       "      <td>Jackson Hts - Roosevelt Av_0</td>\n",
       "      <td>Queensboro Plaza_0</td>\n",
       "    </tr>\n",
       "    <tr>\n",
       "      <th>2</th>\n",
       "      <td>Broadway Jct_0,Forest Hills - 71 Av_0</td>\n",
       "      <td>7.879241e+08</td>\n",
       "      <td>Broadway Jct_0</td>\n",
       "      <td>Forest Hills - 71 Av_0</td>\n",
       "    </tr>\n",
       "    <tr>\n",
       "      <th>3</th>\n",
       "      <td>Broadway Jct_0,Franklin Av_1</td>\n",
       "      <td>7.250019e+08</td>\n",
       "      <td>Broadway Jct_0</td>\n",
       "      <td>Franklin Av_1</td>\n",
       "    </tr>\n",
       "    <tr>\n",
       "      <th>4</th>\n",
       "      <td>Broadway Jct_0,Kew Gardens - Union Tpke_0</td>\n",
       "      <td>7.163132e+08</td>\n",
       "      <td>Broadway Jct_0</td>\n",
       "      <td>Kew Gardens - Union Tpke_0</td>\n",
       "    </tr>\n",
       "  </tbody>\n",
       "</table>\n",
       "</div>"
      ],
      "text/plain": [
       "                                           station         delay  \\\n",
       "0      Jackson Hts - Roosevelt Av_0,Broadway Jct_0  9.312560e+08   \n",
       "1  Jackson Hts - Roosevelt Av_0,Queensboro Plaza_0  9.195693e+08   \n",
       "2            Broadway Jct_0,Forest Hills - 71 Av_0  7.879241e+08   \n",
       "3                     Broadway Jct_0,Franklin Av_1  7.250019e+08   \n",
       "4        Broadway Jct_0,Kew Gardens - Union Tpke_0  7.163132e+08   \n",
       "\n",
       "                      station_0                   station_1  \n",
       "0  Jackson Hts - Roosevelt Av_0              Broadway Jct_0  \n",
       "1  Jackson Hts - Roosevelt Av_0          Queensboro Plaza_0  \n",
       "2                Broadway Jct_0      Forest Hills - 71 Av_0  \n",
       "3                Broadway Jct_0               Franklin Av_1  \n",
       "4                Broadway Jct_0  Kew Gardens - Union Tpke_0  "
      ]
     },
     "execution_count": 18,
     "metadata": {},
     "output_type": "execute_result"
    }
   ],
   "source": [
    "two_nodes.head()"
   ]
  },
  {
   "cell_type": "code",
   "execution_count": 19,
   "metadata": {
    "collapsed": false
   },
   "outputs": [],
   "source": [
    "one_node= pd.read_csv('delay_multiply_demand_one_node_removal.csv',index_col=0)"
   ]
  },
  {
   "cell_type": "code",
   "execution_count": 20,
   "metadata": {
    "collapsed": false
   },
   "outputs": [
    {
     "data": {
      "text/html": [
       "<div>\n",
       "<style>\n",
       "    .dataframe thead tr:only-child th {\n",
       "        text-align: right;\n",
       "    }\n",
       "\n",
       "    .dataframe thead th {\n",
       "        text-align: left;\n",
       "    }\n",
       "\n",
       "    .dataframe tbody tr th {\n",
       "        vertical-align: top;\n",
       "    }\n",
       "</style>\n",
       "<table border=\"1\" class=\"dataframe\">\n",
       "  <thead>\n",
       "    <tr style=\"text-align: right;\">\n",
       "      <th></th>\n",
       "      <th>station</th>\n",
       "      <th>delay</th>\n",
       "    </tr>\n",
       "  </thead>\n",
       "  <tbody>\n",
       "    <tr>\n",
       "      <th>0</th>\n",
       "      <td>Broadway Jct_0</td>\n",
       "      <td>3.264058e+08</td>\n",
       "    </tr>\n",
       "    <tr>\n",
       "      <th>1</th>\n",
       "      <td>Jackson Hts - Roosevelt Av_0</td>\n",
       "      <td>3.159173e+08</td>\n",
       "    </tr>\n",
       "    <tr>\n",
       "      <th>2</th>\n",
       "      <td>Kew Gardens - Union Tpke_0</td>\n",
       "      <td>2.788337e+08</td>\n",
       "    </tr>\n",
       "    <tr>\n",
       "      <th>3</th>\n",
       "      <td>Junction Blvd_0</td>\n",
       "      <td>2.696497e+08</td>\n",
       "    </tr>\n",
       "    <tr>\n",
       "      <th>4</th>\n",
       "      <td>149 St - Grand Concourse_0</td>\n",
       "      <td>2.644819e+08</td>\n",
       "    </tr>\n",
       "  </tbody>\n",
       "</table>\n",
       "</div>"
      ],
      "text/plain": [
       "                        station         delay\n",
       "0                Broadway Jct_0  3.264058e+08\n",
       "1  Jackson Hts - Roosevelt Av_0  3.159173e+08\n",
       "2    Kew Gardens - Union Tpke_0  2.788337e+08\n",
       "3               Junction Blvd_0  2.696497e+08\n",
       "4    149 St - Grand Concourse_0  2.644819e+08"
      ]
     },
     "execution_count": 20,
     "metadata": {},
     "output_type": "execute_result"
    }
   ],
   "source": [
    "one_node.head()"
   ]
  },
  {
   "cell_type": "code",
   "execution_count": 21,
   "metadata": {
    "collapsed": false
   },
   "outputs": [],
   "source": [
    "two_nodes= two_nodes.merge(one_node.rename(columns={'station':'station_0',\n",
    "                         'delay':'delay_0'}), on = 'station_0')"
   ]
  },
  {
   "cell_type": "code",
   "execution_count": 22,
   "metadata": {
    "collapsed": false
   },
   "outputs": [],
   "source": [
    "two_nodes= two_nodes.merge(one_node.rename(columns={'station':'station_1',\n",
    "                         'delay':'delay_1'}), on = 'station_1')"
   ]
  },
  {
   "cell_type": "code",
   "execution_count": 23,
   "metadata": {
    "collapsed": false
   },
   "outputs": [
    {
     "data": {
      "text/html": [
       "<div>\n",
       "<style>\n",
       "    .dataframe thead tr:only-child th {\n",
       "        text-align: right;\n",
       "    }\n",
       "\n",
       "    .dataframe thead th {\n",
       "        text-align: left;\n",
       "    }\n",
       "\n",
       "    .dataframe tbody tr th {\n",
       "        vertical-align: top;\n",
       "    }\n",
       "</style>\n",
       "<table border=\"1\" class=\"dataframe\">\n",
       "  <thead>\n",
       "    <tr style=\"text-align: right;\">\n",
       "      <th></th>\n",
       "      <th>station</th>\n",
       "      <th>delay</th>\n",
       "      <th>station_0</th>\n",
       "      <th>station_1</th>\n",
       "      <th>delay_0</th>\n",
       "      <th>delay_1</th>\n",
       "    </tr>\n",
       "  </thead>\n",
       "  <tbody>\n",
       "    <tr>\n",
       "      <th>0</th>\n",
       "      <td>Jackson Hts - Roosevelt Av_0,Broadway Jct_0</td>\n",
       "      <td>9.312560e+08</td>\n",
       "      <td>Jackson Hts - Roosevelt Av_0</td>\n",
       "      <td>Broadway Jct_0</td>\n",
       "      <td>3.159173e+08</td>\n",
       "      <td>3.264058e+08</td>\n",
       "    </tr>\n",
       "    <tr>\n",
       "      <th>1</th>\n",
       "      <td>149 St - Grand Concourse_0,Broadway Jct_0</td>\n",
       "      <td>5.894977e+08</td>\n",
       "      <td>149 St - Grand Concourse_0</td>\n",
       "      <td>Broadway Jct_0</td>\n",
       "      <td>2.644819e+08</td>\n",
       "      <td>3.264058e+08</td>\n",
       "    </tr>\n",
       "    <tr>\n",
       "      <th>2</th>\n",
       "      <td>125 St_2,Broadway Jct_0</td>\n",
       "      <td>5.794607e+08</td>\n",
       "      <td>125 St_2</td>\n",
       "      <td>Broadway Jct_0</td>\n",
       "      <td>2.562949e+08</td>\n",
       "      <td>3.264058e+08</td>\n",
       "    </tr>\n",
       "    <tr>\n",
       "      <th>3</th>\n",
       "      <td>Newkirk Plaza_0,Broadway Jct_0</td>\n",
       "      <td>4.464882e+08</td>\n",
       "      <td>Newkirk Plaza_0</td>\n",
       "      <td>Broadway Jct_0</td>\n",
       "      <td>1.237503e+08</td>\n",
       "      <td>3.264058e+08</td>\n",
       "    </tr>\n",
       "    <tr>\n",
       "      <th>4</th>\n",
       "      <td>Essex St_0,Broadway Jct_0</td>\n",
       "      <td>4.283320e+08</td>\n",
       "      <td>Essex St_0</td>\n",
       "      <td>Broadway Jct_0</td>\n",
       "      <td>3.881425e+07</td>\n",
       "      <td>3.264058e+08</td>\n",
       "    </tr>\n",
       "  </tbody>\n",
       "</table>\n",
       "</div>"
      ],
      "text/plain": [
       "                                       station         delay  \\\n",
       "0  Jackson Hts - Roosevelt Av_0,Broadway Jct_0  9.312560e+08   \n",
       "1    149 St - Grand Concourse_0,Broadway Jct_0  5.894977e+08   \n",
       "2                      125 St_2,Broadway Jct_0  5.794607e+08   \n",
       "3               Newkirk Plaza_0,Broadway Jct_0  4.464882e+08   \n",
       "4                    Essex St_0,Broadway Jct_0  4.283320e+08   \n",
       "\n",
       "                      station_0       station_1       delay_0       delay_1  \n",
       "0  Jackson Hts - Roosevelt Av_0  Broadway Jct_0  3.159173e+08  3.264058e+08  \n",
       "1    149 St - Grand Concourse_0  Broadway Jct_0  2.644819e+08  3.264058e+08  \n",
       "2                      125 St_2  Broadway Jct_0  2.562949e+08  3.264058e+08  \n",
       "3               Newkirk Plaza_0  Broadway Jct_0  1.237503e+08  3.264058e+08  \n",
       "4                    Essex St_0  Broadway Jct_0  3.881425e+07  3.264058e+08  "
      ]
     },
     "execution_count": 23,
     "metadata": {},
     "output_type": "execute_result"
    }
   ],
   "source": [
    "two_nodes.head()"
   ]
  },
  {
   "cell_type": "code",
   "execution_count": 24,
   "metadata": {
    "collapsed": false
   },
   "outputs": [],
   "source": [
    "two_nodes['sum'] = two_nodes['delay_0']+two_nodes['delay_1']"
   ]
  },
  {
   "cell_type": "code",
   "execution_count": 25,
   "metadata": {
    "collapsed": false
   },
   "outputs": [],
   "source": [
    "two_nodes['synergy'] = two_nodes['delay']-two_nodes['sum']"
   ]
  },
  {
   "cell_type": "code",
   "execution_count": 26,
   "metadata": {
    "collapsed": false
   },
   "outputs": [],
   "source": [
    "nodes= pd.read_csv('network_setup/master_node')\n",
    "nodes = nodes[['master_node_id','stop_lat','stop_lon']]"
   ]
  },
  {
   "cell_type": "code",
   "execution_count": 27,
   "metadata": {
    "collapsed": false
   },
   "outputs": [],
   "source": [
    "two_nodes= two_nodes.merge(nodes.rename(columns={'master_node_id':'station_0',\n",
    "                     'stop_lat':'station_0_lat',\n",
    "                     'stop_lon':'station_0_lon'}), on ='station_0')"
   ]
  },
  {
   "cell_type": "code",
   "execution_count": 28,
   "metadata": {
    "collapsed": false
   },
   "outputs": [],
   "source": [
    "two_nodes= two_nodes.merge(nodes.rename(columns={'master_node_id':'station_1',\n",
    "                     'stop_lat':'station_1_lat',\n",
    "                     'stop_lon':'station_1_lon'}), on ='station_1')"
   ]
  },
  {
   "cell_type": "code",
   "execution_count": 29,
   "metadata": {
    "collapsed": true
   },
   "outputs": [],
   "source": [
    "del two_nodes['station']"
   ]
  },
  {
   "cell_type": "code",
   "execution_count": 30,
   "metadata": {
    "collapsed": false
   },
   "outputs": [
    {
     "data": {
      "text/html": [
       "<div>\n",
       "<style>\n",
       "    .dataframe thead tr:only-child th {\n",
       "        text-align: right;\n",
       "    }\n",
       "\n",
       "    .dataframe thead th {\n",
       "        text-align: left;\n",
       "    }\n",
       "\n",
       "    .dataframe tbody tr th {\n",
       "        vertical-align: top;\n",
       "    }\n",
       "</style>\n",
       "<table border=\"1\" class=\"dataframe\">\n",
       "  <thead>\n",
       "    <tr style=\"text-align: right;\">\n",
       "      <th></th>\n",
       "      <th>delay</th>\n",
       "      <th>station_0</th>\n",
       "      <th>station_1</th>\n",
       "      <th>delay_0</th>\n",
       "      <th>delay_1</th>\n",
       "      <th>sum</th>\n",
       "      <th>synergy</th>\n",
       "      <th>station_0_lat</th>\n",
       "      <th>station_0_lon</th>\n",
       "      <th>station_1_lat</th>\n",
       "      <th>station_1_lon</th>\n",
       "    </tr>\n",
       "  </thead>\n",
       "  <tbody>\n",
       "    <tr>\n",
       "      <th>0</th>\n",
       "      <td>9.312560e+08</td>\n",
       "      <td>Jackson Hts - Roosevelt Av_0</td>\n",
       "      <td>Broadway Jct_0</td>\n",
       "      <td>3.159173e+08</td>\n",
       "      <td>3.264058e+08</td>\n",
       "      <td>6.423231e+08</td>\n",
       "      <td>2.889329e+08</td>\n",
       "      <td>40.746644</td>\n",
       "      <td>-73.891338</td>\n",
       "      <td>40.678904</td>\n",
       "      <td>-73.904579</td>\n",
       "    </tr>\n",
       "    <tr>\n",
       "      <th>1</th>\n",
       "      <td>5.894977e+08</td>\n",
       "      <td>149 St - Grand Concourse_0</td>\n",
       "      <td>Broadway Jct_0</td>\n",
       "      <td>2.644819e+08</td>\n",
       "      <td>3.264058e+08</td>\n",
       "      <td>5.908877e+08</td>\n",
       "      <td>-1.390047e+06</td>\n",
       "      <td>40.818398</td>\n",
       "      <td>-73.926929</td>\n",
       "      <td>40.678904</td>\n",
       "      <td>-73.904579</td>\n",
       "    </tr>\n",
       "    <tr>\n",
       "      <th>2</th>\n",
       "      <td>5.794607e+08</td>\n",
       "      <td>125 St_2</td>\n",
       "      <td>Broadway Jct_0</td>\n",
       "      <td>2.562949e+08</td>\n",
       "      <td>3.264058e+08</td>\n",
       "      <td>5.827007e+08</td>\n",
       "      <td>-3.240040e+06</td>\n",
       "      <td>40.804138</td>\n",
       "      <td>-73.937594</td>\n",
       "      <td>40.678904</td>\n",
       "      <td>-73.904579</td>\n",
       "    </tr>\n",
       "    <tr>\n",
       "      <th>3</th>\n",
       "      <td>4.464882e+08</td>\n",
       "      <td>Newkirk Plaza_0</td>\n",
       "      <td>Broadway Jct_0</td>\n",
       "      <td>1.237503e+08</td>\n",
       "      <td>3.264058e+08</td>\n",
       "      <td>4.501560e+08</td>\n",
       "      <td>-3.667820e+06</td>\n",
       "      <td>40.635082</td>\n",
       "      <td>-73.962793</td>\n",
       "      <td>40.678904</td>\n",
       "      <td>-73.904579</td>\n",
       "    </tr>\n",
       "    <tr>\n",
       "      <th>4</th>\n",
       "      <td>4.283320e+08</td>\n",
       "      <td>Essex St_0</td>\n",
       "      <td>Broadway Jct_0</td>\n",
       "      <td>3.881425e+07</td>\n",
       "      <td>3.264058e+08</td>\n",
       "      <td>3.652200e+08</td>\n",
       "      <td>6.311200e+07</td>\n",
       "      <td>40.718315</td>\n",
       "      <td>-73.987437</td>\n",
       "      <td>40.678904</td>\n",
       "      <td>-73.904579</td>\n",
       "    </tr>\n",
       "  </tbody>\n",
       "</table>\n",
       "</div>"
      ],
      "text/plain": [
       "          delay                     station_0       station_1       delay_0  \\\n",
       "0  9.312560e+08  Jackson Hts - Roosevelt Av_0  Broadway Jct_0  3.159173e+08   \n",
       "1  5.894977e+08    149 St - Grand Concourse_0  Broadway Jct_0  2.644819e+08   \n",
       "2  5.794607e+08                      125 St_2  Broadway Jct_0  2.562949e+08   \n",
       "3  4.464882e+08               Newkirk Plaza_0  Broadway Jct_0  1.237503e+08   \n",
       "4  4.283320e+08                    Essex St_0  Broadway Jct_0  3.881425e+07   \n",
       "\n",
       "        delay_1           sum       synergy  station_0_lat  station_0_lon  \\\n",
       "0  3.264058e+08  6.423231e+08  2.889329e+08      40.746644     -73.891338   \n",
       "1  3.264058e+08  5.908877e+08 -1.390047e+06      40.818398     -73.926929   \n",
       "2  3.264058e+08  5.827007e+08 -3.240040e+06      40.804138     -73.937594   \n",
       "3  3.264058e+08  4.501560e+08 -3.667820e+06      40.635082     -73.962793   \n",
       "4  3.264058e+08  3.652200e+08  6.311200e+07      40.718315     -73.987437   \n",
       "\n",
       "   station_1_lat  station_1_lon  \n",
       "0      40.678904     -73.904579  \n",
       "1      40.678904     -73.904579  \n",
       "2      40.678904     -73.904579  \n",
       "3      40.678904     -73.904579  \n",
       "4      40.678904     -73.904579  "
      ]
     },
     "execution_count": 30,
     "metadata": {},
     "output_type": "execute_result"
    }
   ],
   "source": [
    "two_nodes.head()"
   ]
  },
  {
   "cell_type": "code",
   "execution_count": 40,
   "metadata": {
    "collapsed": false
   },
   "outputs": [],
   "source": [
    "two_nodes['percent(%)'] = two_nodes['synergy']/two_nodes['sum']*100"
   ]
  },
  {
   "cell_type": "code",
   "execution_count": 42,
   "metadata": {
    "collapsed": false
   },
   "outputs": [],
   "source": [
    "two_nodes.to_csv('synergy_effect_agg.csv')"
   ]
  },
  {
   "cell_type": "code",
   "execution_count": 32,
   "metadata": {
    "collapsed": false
   },
   "outputs": [
    {
     "data": {
      "text/plain": [
       "723"
      ]
     },
     "execution_count": 32,
     "metadata": {},
     "output_type": "execute_result"
    }
   ],
   "source": [
    "len(two_nodes[two_nodes['synergy']>0])"
   ]
  },
  {
   "cell_type": "code",
   "execution_count": 33,
   "metadata": {
    "collapsed": false
   },
   "outputs": [
    {
     "data": {
      "text/plain": [
       "4842"
      ]
     },
     "execution_count": 33,
     "metadata": {},
     "output_type": "execute_result"
    }
   ],
   "source": [
    "len(two_nodes[two_nodes['synergy']<0])"
   ]
  },
  {
   "cell_type": "code",
   "execution_count": 35,
   "metadata": {
    "collapsed": false
   },
   "outputs": [
    {
     "data": {
      "text/plain": [
       "5565"
      ]
     },
     "execution_count": 35,
     "metadata": {},
     "output_type": "execute_result"
    }
   ],
   "source": [
    "len(two_nodes[two_nodes['synergy']>0])+len(two_nodes[two_nodes['synergy']<0])"
   ]
  },
  {
   "cell_type": "code",
   "execution_count": 36,
   "metadata": {
    "collapsed": false
   },
   "outputs": [
    {
     "data": {
      "text/html": [
       "<div>\n",
       "<style>\n",
       "    .dataframe thead tr:only-child th {\n",
       "        text-align: right;\n",
       "    }\n",
       "\n",
       "    .dataframe thead th {\n",
       "        text-align: left;\n",
       "    }\n",
       "\n",
       "    .dataframe tbody tr th {\n",
       "        vertical-align: top;\n",
       "    }\n",
       "</style>\n",
       "<table border=\"1\" class=\"dataframe\">\n",
       "  <thead>\n",
       "    <tr style=\"text-align: right;\">\n",
       "      <th></th>\n",
       "      <th>delay</th>\n",
       "      <th>station_0</th>\n",
       "      <th>station_1</th>\n",
       "      <th>delay_0</th>\n",
       "      <th>delay_1</th>\n",
       "      <th>sum</th>\n",
       "      <th>synergy</th>\n",
       "      <th>station_0_lat</th>\n",
       "      <th>station_0_lon</th>\n",
       "      <th>station_1_lat</th>\n",
       "      <th>station_1_lon</th>\n",
       "    </tr>\n",
       "  </thead>\n",
       "  <tbody>\n",
       "    <tr>\n",
       "      <th>7</th>\n",
       "      <td>9.195693e+08</td>\n",
       "      <td>Jackson Hts - Roosevelt Av_0</td>\n",
       "      <td>Queensboro Plaza_0</td>\n",
       "      <td>3.159173e+08</td>\n",
       "      <td>2.516352e+08</td>\n",
       "      <td>5.675525e+08</td>\n",
       "      <td>3.520168e+08</td>\n",
       "      <td>40.746644</td>\n",
       "      <td>-73.891338</td>\n",
       "      <td>40.750582</td>\n",
       "      <td>-73.940202</td>\n",
       "    </tr>\n",
       "    <tr>\n",
       "      <th>43</th>\n",
       "      <td>6.684791e+08</td>\n",
       "      <td>Jackson Hts - Roosevelt Av_0</td>\n",
       "      <td>Woodside - 61 St_0</td>\n",
       "      <td>3.159173e+08</td>\n",
       "      <td>4.785907e+07</td>\n",
       "      <td>3.637764e+08</td>\n",
       "      <td>3.047027e+08</td>\n",
       "      <td>40.746644</td>\n",
       "      <td>-73.891338</td>\n",
       "      <td>40.745630</td>\n",
       "      <td>-73.902984</td>\n",
       "    </tr>\n",
       "    <tr>\n",
       "      <th>0</th>\n",
       "      <td>9.312560e+08</td>\n",
       "      <td>Jackson Hts - Roosevelt Av_0</td>\n",
       "      <td>Broadway Jct_0</td>\n",
       "      <td>3.159173e+08</td>\n",
       "      <td>3.264058e+08</td>\n",
       "      <td>6.423231e+08</td>\n",
       "      <td>2.889329e+08</td>\n",
       "      <td>40.746644</td>\n",
       "      <td>-73.891338</td>\n",
       "      <td>40.678904</td>\n",
       "      <td>-73.904579</td>\n",
       "    </tr>\n",
       "    <tr>\n",
       "      <th>105</th>\n",
       "      <td>6.142437e+08</td>\n",
       "      <td>Jackson Hts - Roosevelt Av_0</td>\n",
       "      <td>Woodhaven Blvd_1</td>\n",
       "      <td>3.159173e+08</td>\n",
       "      <td>4.404562e+07</td>\n",
       "      <td>3.599629e+08</td>\n",
       "      <td>2.542808e+08</td>\n",
       "      <td>40.746644</td>\n",
       "      <td>-73.891338</td>\n",
       "      <td>40.693879</td>\n",
       "      <td>-73.851576</td>\n",
       "    </tr>\n",
       "    <tr>\n",
       "      <th>472</th>\n",
       "      <td>7.069143e+08</td>\n",
       "      <td>149 St - Grand Concourse_0</td>\n",
       "      <td>59 St_0</td>\n",
       "      <td>2.644819e+08</td>\n",
       "      <td>2.071495e+08</td>\n",
       "      <td>4.716314e+08</td>\n",
       "      <td>2.352829e+08</td>\n",
       "      <td>40.818398</td>\n",
       "      <td>-73.926929</td>\n",
       "      <td>40.762526</td>\n",
       "      <td>-73.967967</td>\n",
       "    </tr>\n",
       "    <tr>\n",
       "      <th>2208</th>\n",
       "      <td>5.310837e+08</td>\n",
       "      <td>Atlantic Av - Barclays Ctr_0</td>\n",
       "      <td>Jay St - MetroTech_0</td>\n",
       "      <td>2.023378e+08</td>\n",
       "      <td>9.706263e+07</td>\n",
       "      <td>2.994005e+08</td>\n",
       "      <td>2.316832e+08</td>\n",
       "      <td>40.684150</td>\n",
       "      <td>-73.977875</td>\n",
       "      <td>40.692275</td>\n",
       "      <td>-73.986782</td>\n",
       "    </tr>\n",
       "    <tr>\n",
       "      <th>4789</th>\n",
       "      <td>4.614425e+08</td>\n",
       "      <td>Atlantic Av - Barclays Ctr_0</td>\n",
       "      <td>9 St_0</td>\n",
       "      <td>2.023378e+08</td>\n",
       "      <td>3.341608e+07</td>\n",
       "      <td>2.357539e+08</td>\n",
       "      <td>2.256886e+08</td>\n",
       "      <td>40.684150</td>\n",
       "      <td>-73.977875</td>\n",
       "      <td>40.670847</td>\n",
       "      <td>-73.988302</td>\n",
       "    </tr>\n",
       "    <tr>\n",
       "      <th>2835</th>\n",
       "      <td>3.807927e+08</td>\n",
       "      <td>96 St_0</td>\n",
       "      <td>145 St_0</td>\n",
       "      <td>7.417157e+07</td>\n",
       "      <td>8.342372e+07</td>\n",
       "      <td>1.575953e+08</td>\n",
       "      <td>2.231974e+08</td>\n",
       "      <td>40.793919</td>\n",
       "      <td>-73.972323</td>\n",
       "      <td>40.824783</td>\n",
       "      <td>-73.944216</td>\n",
       "    </tr>\n",
       "    <tr>\n",
       "      <th>2643</th>\n",
       "      <td>7.879241e+08</td>\n",
       "      <td>Broadway Jct_0</td>\n",
       "      <td>Forest Hills - 71 Av_0</td>\n",
       "      <td>3.264058e+08</td>\n",
       "      <td>2.390053e+08</td>\n",
       "      <td>5.654110e+08</td>\n",
       "      <td>2.225131e+08</td>\n",
       "      <td>40.678904</td>\n",
       "      <td>-73.904579</td>\n",
       "      <td>40.721691</td>\n",
       "      <td>-73.844521</td>\n",
       "    </tr>\n",
       "    <tr>\n",
       "      <th>177</th>\n",
       "      <td>5.577406e+08</td>\n",
       "      <td>145 St_0</td>\n",
       "      <td>149 St - Grand Concourse_0</td>\n",
       "      <td>8.342372e+07</td>\n",
       "      <td>2.644819e+08</td>\n",
       "      <td>3.479056e+08</td>\n",
       "      <td>2.098349e+08</td>\n",
       "      <td>40.824783</td>\n",
       "      <td>-73.944216</td>\n",
       "      <td>40.818398</td>\n",
       "      <td>-73.926929</td>\n",
       "    </tr>\n",
       "    <tr>\n",
       "      <th>5276</th>\n",
       "      <td>4.296360e+08</td>\n",
       "      <td>Atlantic Av - Barclays Ctr_0</td>\n",
       "      <td>Prospect Av_1</td>\n",
       "      <td>2.023378e+08</td>\n",
       "      <td>2.001953e+07</td>\n",
       "      <td>2.223574e+08</td>\n",
       "      <td>2.072787e+08</td>\n",
       "      <td>40.684150</td>\n",
       "      <td>-73.977875</td>\n",
       "      <td>40.665414</td>\n",
       "      <td>-73.992872</td>\n",
       "    </tr>\n",
       "    <tr>\n",
       "      <th>5480</th>\n",
       "      <td>4.173446e+08</td>\n",
       "      <td>Atlantic Av - Barclays Ctr_0</td>\n",
       "      <td>25 St_0</td>\n",
       "      <td>2.023378e+08</td>\n",
       "      <td>1.171833e+07</td>\n",
       "      <td>2.140561e+08</td>\n",
       "      <td>2.032885e+08</td>\n",
       "      <td>40.684150</td>\n",
       "      <td>-73.977875</td>\n",
       "      <td>40.660397</td>\n",
       "      <td>-73.998091</td>\n",
       "    </tr>\n",
       "    <tr>\n",
       "      <th>427</th>\n",
       "      <td>7.250019e+08</td>\n",
       "      <td>Broadway Jct_0</td>\n",
       "      <td>Franklin Av_1</td>\n",
       "      <td>3.264058e+08</td>\n",
       "      <td>2.051341e+08</td>\n",
       "      <td>5.315399e+08</td>\n",
       "      <td>1.934620e+08</td>\n",
       "      <td>40.678904</td>\n",
       "      <td>-73.904579</td>\n",
       "      <td>40.670682</td>\n",
       "      <td>-73.958131</td>\n",
       "    </tr>\n",
       "    <tr>\n",
       "      <th>272</th>\n",
       "      <td>4.419674e+08</td>\n",
       "      <td>Coney Island - Stillwell Av_0</td>\n",
       "      <td>36 St_0</td>\n",
       "      <td>1.657747e+07</td>\n",
       "      <td>2.334202e+08</td>\n",
       "      <td>2.499977e+08</td>\n",
       "      <td>1.919697e+08</td>\n",
       "      <td>40.577422</td>\n",
       "      <td>-73.981233</td>\n",
       "      <td>40.655144</td>\n",
       "      <td>-74.003549</td>\n",
       "    </tr>\n",
       "    <tr>\n",
       "      <th>143</th>\n",
       "      <td>4.632926e+08</td>\n",
       "      <td>Forest Hills - 71 Av_0</td>\n",
       "      <td>Woodhaven Blvd_1</td>\n",
       "      <td>2.390053e+08</td>\n",
       "      <td>4.404562e+07</td>\n",
       "      <td>2.830509e+08</td>\n",
       "      <td>1.802417e+08</td>\n",
       "      <td>40.721691</td>\n",
       "      <td>-73.844521</td>\n",
       "      <td>40.693879</td>\n",
       "      <td>-73.851576</td>\n",
       "    </tr>\n",
       "    <tr>\n",
       "      <th>2754</th>\n",
       "      <td>4.581275e+08</td>\n",
       "      <td>Atlantic Av - Barclays Ctr_0</td>\n",
       "      <td>Hoyt - Schermerhorn Sts_0</td>\n",
       "      <td>2.023378e+08</td>\n",
       "      <td>8.153963e+07</td>\n",
       "      <td>2.838775e+08</td>\n",
       "      <td>1.742501e+08</td>\n",
       "      <td>40.684150</td>\n",
       "      <td>-73.977875</td>\n",
       "      <td>40.688484</td>\n",
       "      <td>-73.985001</td>\n",
       "    </tr>\n",
       "    <tr>\n",
       "      <th>1019</th>\n",
       "      <td>5.951419e+08</td>\n",
       "      <td>149 St - Grand Concourse_0</td>\n",
       "      <td>86 St_1</td>\n",
       "      <td>2.644819e+08</td>\n",
       "      <td>1.641723e+08</td>\n",
       "      <td>4.286542e+08</td>\n",
       "      <td>1.664877e+08</td>\n",
       "      <td>40.818398</td>\n",
       "      <td>-73.926929</td>\n",
       "      <td>40.779492</td>\n",
       "      <td>-73.955589</td>\n",
       "    </tr>\n",
       "    <tr>\n",
       "      <th>3840</th>\n",
       "      <td>5.429311e+08</td>\n",
       "      <td>Broadway Jct_0</td>\n",
       "      <td>Crown Hts - Utica Av_0</td>\n",
       "      <td>3.264058e+08</td>\n",
       "      <td>5.326904e+07</td>\n",
       "      <td>3.796748e+08</td>\n",
       "      <td>1.632563e+08</td>\n",
       "      <td>40.678904</td>\n",
       "      <td>-73.904579</td>\n",
       "      <td>40.668897</td>\n",
       "      <td>-73.932942</td>\n",
       "    </tr>\n",
       "    <tr>\n",
       "      <th>1500</th>\n",
       "      <td>5.118247e+08</td>\n",
       "      <td>Grand Central - 42 St_0</td>\n",
       "      <td>14 St - Union Sq_0</td>\n",
       "      <td>2.236301e+08</td>\n",
       "      <td>1.435619e+08</td>\n",
       "      <td>3.671921e+08</td>\n",
       "      <td>1.446326e+08</td>\n",
       "      <td>40.751707</td>\n",
       "      <td>-73.976687</td>\n",
       "      <td>40.735205</td>\n",
       "      <td>-73.990259</td>\n",
       "    </tr>\n",
       "    <tr>\n",
       "      <th>4242</th>\n",
       "      <td>5.114743e+08</td>\n",
       "      <td>Broadway Jct_0</td>\n",
       "      <td>Sutter Av - Rutland Rd_0</td>\n",
       "      <td>3.264058e+08</td>\n",
       "      <td>4.316090e+07</td>\n",
       "      <td>3.695667e+08</td>\n",
       "      <td>1.419076e+08</td>\n",
       "      <td>40.678904</td>\n",
       "      <td>-73.904579</td>\n",
       "      <td>40.664717</td>\n",
       "      <td>-73.922610</td>\n",
       "    </tr>\n",
       "  </tbody>\n",
       "</table>\n",
       "</div>"
      ],
      "text/plain": [
       "             delay                      station_0                   station_1  \\\n",
       "7     9.195693e+08   Jackson Hts - Roosevelt Av_0          Queensboro Plaza_0   \n",
       "43    6.684791e+08   Jackson Hts - Roosevelt Av_0          Woodside - 61 St_0   \n",
       "0     9.312560e+08   Jackson Hts - Roosevelt Av_0              Broadway Jct_0   \n",
       "105   6.142437e+08   Jackson Hts - Roosevelt Av_0            Woodhaven Blvd_1   \n",
       "472   7.069143e+08     149 St - Grand Concourse_0                     59 St_0   \n",
       "2208  5.310837e+08   Atlantic Av - Barclays Ctr_0        Jay St - MetroTech_0   \n",
       "4789  4.614425e+08   Atlantic Av - Barclays Ctr_0                      9 St_0   \n",
       "2835  3.807927e+08                        96 St_0                    145 St_0   \n",
       "2643  7.879241e+08                 Broadway Jct_0      Forest Hills - 71 Av_0   \n",
       "177   5.577406e+08                       145 St_0  149 St - Grand Concourse_0   \n",
       "5276  4.296360e+08   Atlantic Av - Barclays Ctr_0               Prospect Av_1   \n",
       "5480  4.173446e+08   Atlantic Av - Barclays Ctr_0                     25 St_0   \n",
       "427   7.250019e+08                 Broadway Jct_0               Franklin Av_1   \n",
       "272   4.419674e+08  Coney Island - Stillwell Av_0                     36 St_0   \n",
       "143   4.632926e+08         Forest Hills - 71 Av_0            Woodhaven Blvd_1   \n",
       "2754  4.581275e+08   Atlantic Av - Barclays Ctr_0   Hoyt - Schermerhorn Sts_0   \n",
       "1019  5.951419e+08     149 St - Grand Concourse_0                     86 St_1   \n",
       "3840  5.429311e+08                 Broadway Jct_0      Crown Hts - Utica Av_0   \n",
       "1500  5.118247e+08        Grand Central - 42 St_0          14 St - Union Sq_0   \n",
       "4242  5.114743e+08                 Broadway Jct_0    Sutter Av - Rutland Rd_0   \n",
       "\n",
       "           delay_0       delay_1           sum       synergy  station_0_lat  \\\n",
       "7     3.159173e+08  2.516352e+08  5.675525e+08  3.520168e+08      40.746644   \n",
       "43    3.159173e+08  4.785907e+07  3.637764e+08  3.047027e+08      40.746644   \n",
       "0     3.159173e+08  3.264058e+08  6.423231e+08  2.889329e+08      40.746644   \n",
       "105   3.159173e+08  4.404562e+07  3.599629e+08  2.542808e+08      40.746644   \n",
       "472   2.644819e+08  2.071495e+08  4.716314e+08  2.352829e+08      40.818398   \n",
       "2208  2.023378e+08  9.706263e+07  2.994005e+08  2.316832e+08      40.684150   \n",
       "4789  2.023378e+08  3.341608e+07  2.357539e+08  2.256886e+08      40.684150   \n",
       "2835  7.417157e+07  8.342372e+07  1.575953e+08  2.231974e+08      40.793919   \n",
       "2643  3.264058e+08  2.390053e+08  5.654110e+08  2.225131e+08      40.678904   \n",
       "177   8.342372e+07  2.644819e+08  3.479056e+08  2.098349e+08      40.824783   \n",
       "5276  2.023378e+08  2.001953e+07  2.223574e+08  2.072787e+08      40.684150   \n",
       "5480  2.023378e+08  1.171833e+07  2.140561e+08  2.032885e+08      40.684150   \n",
       "427   3.264058e+08  2.051341e+08  5.315399e+08  1.934620e+08      40.678904   \n",
       "272   1.657747e+07  2.334202e+08  2.499977e+08  1.919697e+08      40.577422   \n",
       "143   2.390053e+08  4.404562e+07  2.830509e+08  1.802417e+08      40.721691   \n",
       "2754  2.023378e+08  8.153963e+07  2.838775e+08  1.742501e+08      40.684150   \n",
       "1019  2.644819e+08  1.641723e+08  4.286542e+08  1.664877e+08      40.818398   \n",
       "3840  3.264058e+08  5.326904e+07  3.796748e+08  1.632563e+08      40.678904   \n",
       "1500  2.236301e+08  1.435619e+08  3.671921e+08  1.446326e+08      40.751707   \n",
       "4242  3.264058e+08  4.316090e+07  3.695667e+08  1.419076e+08      40.678904   \n",
       "\n",
       "      station_0_lon  station_1_lat  station_1_lon  \n",
       "7        -73.891338      40.750582     -73.940202  \n",
       "43       -73.891338      40.745630     -73.902984  \n",
       "0        -73.891338      40.678904     -73.904579  \n",
       "105      -73.891338      40.693879     -73.851576  \n",
       "472      -73.926929      40.762526     -73.967967  \n",
       "2208     -73.977875      40.692275     -73.986782  \n",
       "4789     -73.977875      40.670847     -73.988302  \n",
       "2835     -73.972323      40.824783     -73.944216  \n",
       "2643     -73.904579      40.721691     -73.844521  \n",
       "177      -73.944216      40.818398     -73.926929  \n",
       "5276     -73.977875      40.665414     -73.992872  \n",
       "5480     -73.977875      40.660397     -73.998091  \n",
       "427      -73.904579      40.670682     -73.958131  \n",
       "272      -73.981233      40.655144     -74.003549  \n",
       "143      -73.844521      40.693879     -73.851576  \n",
       "2754     -73.977875      40.688484     -73.985001  \n",
       "1019     -73.926929      40.779492     -73.955589  \n",
       "3840     -73.904579      40.668897     -73.932942  \n",
       "1500     -73.976687      40.735205     -73.990259  \n",
       "4242     -73.904579      40.664717     -73.922610  "
      ]
     },
     "execution_count": 36,
     "metadata": {},
     "output_type": "execute_result"
    }
   ],
   "source": [
    "two_nodes.sort_values('synergy',ascending=False)[:20]#.to_csv('synergy_effect.csv')"
   ]
  },
  {
   "cell_type": "code",
   "execution_count": null,
   "metadata": {
    "collapsed": true
   },
   "outputs": [],
   "source": []
  }
 ],
 "metadata": {
  "anaconda-cloud": {},
  "kernelspec": {
   "display_name": "JupyterKern",
   "language": "python",
   "name": "jupyterkern"
  },
  "language_info": {
   "codemirror_mode": {
    "name": "ipython",
    "version": 2
   },
   "file_extension": ".py",
   "mimetype": "text/x-python",
   "name": "python",
   "nbconvert_exporter": "python",
   "pygments_lexer": "ipython2",
   "version": "2.7.13"
  }
 },
 "nbformat": 4,
 "nbformat_minor": 2
}
