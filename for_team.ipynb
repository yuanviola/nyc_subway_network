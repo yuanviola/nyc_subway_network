{
 "cells": [
  {
   "cell_type": "code",
   "execution_count": 1,
   "metadata": {
    "collapsed": false
   },
   "outputs": [],
   "source": [
    "import networkx as nx\n",
    "import pandas as pd\n",
    "import numpy as np\n",
    "from operator import itemgetter\n",
    "import itertools\n",
    "import os\n",
    "import csv\n",
    "import datetime"
   ]
  },
  {
   "cell_type": "markdown",
   "metadata": {},
   "source": [
    "## STRUCTURE\n",
    "\n",
    "- set sub nodes ( by line at each station )\n",
    "- set master nodes ( by station )\n",
    "- link of sub nodes by train\n",
    "- link of sub nodes by transfer\n",
    "- link of sub nodes and master nodes by waiting time"
   ]
  },
  {
   "cell_type": "markdown",
   "metadata": {},
   "source": [
    "### set sub nodes"
   ]
  },
  {
   "cell_type": "code",
   "execution_count": 2,
   "metadata": {
    "collapsed": false
   },
   "outputs": [],
   "source": [
    "#Get the station data -\n",
    "ndata = pd.read_csv(\"network_setup/sub_node\")"
   ]
  },
  {
   "cell_type": "code",
   "execution_count": 3,
   "metadata": {
    "collapsed": false
   },
   "outputs": [],
   "source": [
    "#initialize the graph\n",
    "#G.clear()\n",
    "G = nx.MultiDiGraph(name='network_setup/NYC Subway Network')"
   ]
  },
  {
   "cell_type": "code",
   "execution_count": 4,
   "metadata": {
    "collapsed": false
   },
   "outputs": [],
   "source": [
    "#add sub nodes and attributes\n",
    "for i in range(0,len(ndata)):\n",
    "    G.add_node(ndata.node_id[i],\n",
    "               name = ndata.stop_name[i],\n",
    "               line = ndata['train'][i],\n",
    "               lat = ndata.stop_lat[i],\n",
    "               lng = ndata.stop_lon[i],\n",
    "               geo = (ndata.stop_lon[i],ndata.stop_lat[i]),\n",
    "               stop_id = ndata.stop_id[i],\n",
    "               master_node='No',\n",
    "               master_node_id = ndata.master_node_id[i]\n",
    "              )"
   ]
  },
  {
   "cell_type": "code",
   "execution_count": 5,
   "metadata": {
    "collapsed": false
   },
   "outputs": [
    {
     "data": {
      "text/plain": [
       "[('625_4',\n",
       "  {'geo': (-73.951070000000001, 40.785671999999998),\n",
       "   'lat': 40.785671999999998,\n",
       "   'line': '4',\n",
       "   'lng': -73.951070000000001,\n",
       "   'master_node': 'No',\n",
       "   'master_node_id': '96 St_1',\n",
       "   'name': '96 St',\n",
       "   'stop_id': '625'}),\n",
       " ('D25_Q',\n",
       "  {'geo': (-73.972367000000006, 40.677050000000001),\n",
       "   'lat': 40.677050000000001,\n",
       "   'line': 'Q',\n",
       "   'lng': -73.972367000000006,\n",
       "   'master_node': 'No',\n",
       "   'master_node_id': '7 Av_1',\n",
       "   'name': '7 Av',\n",
       "   'stop_id': 'D25'}),\n",
       " ('625_6',\n",
       "  {'geo': (-73.951070000000001, 40.785671999999998),\n",
       "   'lat': 40.785671999999998,\n",
       "   'line': '6',\n",
       "   'lng': -73.951070000000001,\n",
       "   'master_node': 'No',\n",
       "   'master_node_id': '96 St_1',\n",
       "   'name': '96 St',\n",
       "   'stop_id': '625'})]"
      ]
     },
     "execution_count": 5,
     "metadata": {},
     "output_type": "execute_result"
    }
   ],
   "source": [
    "#show the nodes in G\n",
    "G.nodes(data=True)[:3]"
   ]
  },
  {
   "cell_type": "markdown",
   "metadata": {},
   "source": [
    "### set master nodes"
   ]
  },
  {
   "cell_type": "code",
   "execution_count": 6,
   "metadata": {
    "collapsed": false
   },
   "outputs": [],
   "source": [
    "#get the master node data and attributes\n",
    "mdata = pd.read_csv(\"network_setup/master_node\")"
   ]
  },
  {
   "cell_type": "code",
   "execution_count": 7,
   "metadata": {
    "collapsed": false
   },
   "outputs": [
    {
     "data": {
      "text/html": [
       "<div>\n",
       "<style>\n",
       "    .dataframe thead tr:only-child th {\n",
       "        text-align: right;\n",
       "    }\n",
       "\n",
       "    .dataframe thead th {\n",
       "        text-align: left;\n",
       "    }\n",
       "\n",
       "    .dataframe tbody tr th {\n",
       "        vertical-align: top;\n",
       "    }\n",
       "</style>\n",
       "<table border=\"1\" class=\"dataframe\">\n",
       "  <thead>\n",
       "    <tr style=\"text-align: right;\">\n",
       "      <th></th>\n",
       "      <th>Unnamed: 0</th>\n",
       "      <th>master_node_id</th>\n",
       "      <th>stop_name</th>\n",
       "      <th>stop_lat</th>\n",
       "      <th>stop_lon</th>\n",
       "      <th>stop_id</th>\n",
       "    </tr>\n",
       "  </thead>\n",
       "  <tbody>\n",
       "    <tr>\n",
       "      <th>0</th>\n",
       "      <td>0</td>\n",
       "      <td>1 Av_0</td>\n",
       "      <td>1 Av</td>\n",
       "      <td>40.730953</td>\n",
       "      <td>-73.981628</td>\n",
       "      <td>L06</td>\n",
       "    </tr>\n",
       "    <tr>\n",
       "      <th>1</th>\n",
       "      <td>1</td>\n",
       "      <td>103 St - Corona Plaza_0</td>\n",
       "      <td>103 St - Corona Plaza</td>\n",
       "      <td>40.749865</td>\n",
       "      <td>-73.862700</td>\n",
       "      <td>706</td>\n",
       "    </tr>\n",
       "    <tr>\n",
       "      <th>2</th>\n",
       "      <td>2</td>\n",
       "      <td>103 St_0</td>\n",
       "      <td>103 St</td>\n",
       "      <td>40.799446</td>\n",
       "      <td>-73.968379</td>\n",
       "      <td>119</td>\n",
       "    </tr>\n",
       "    <tr>\n",
       "      <th>3</th>\n",
       "      <td>3</td>\n",
       "      <td>103 St_1</td>\n",
       "      <td>103 St</td>\n",
       "      <td>40.790600</td>\n",
       "      <td>-73.947478</td>\n",
       "      <td>624</td>\n",
       "    </tr>\n",
       "    <tr>\n",
       "      <th>4</th>\n",
       "      <td>4</td>\n",
       "      <td>103 St_2</td>\n",
       "      <td>103 St</td>\n",
       "      <td>40.796092</td>\n",
       "      <td>-73.961454</td>\n",
       "      <td>A18</td>\n",
       "    </tr>\n",
       "  </tbody>\n",
       "</table>\n",
       "</div>"
      ],
      "text/plain": [
       "   Unnamed: 0           master_node_id              stop_name   stop_lat  \\\n",
       "0           0                   1 Av_0                   1 Av  40.730953   \n",
       "1           1  103 St - Corona Plaza_0  103 St - Corona Plaza  40.749865   \n",
       "2           2                 103 St_0                 103 St  40.799446   \n",
       "3           3                 103 St_1                 103 St  40.790600   \n",
       "4           4                 103 St_2                 103 St  40.796092   \n",
       "\n",
       "    stop_lon stop_id  \n",
       "0 -73.981628     L06  \n",
       "1 -73.862700     706  \n",
       "2 -73.968379     119  \n",
       "3 -73.947478     624  \n",
       "4 -73.961454     A18  "
      ]
     },
     "execution_count": 7,
     "metadata": {},
     "output_type": "execute_result"
    }
   ],
   "source": [
    "mdata.head()"
   ]
  },
  {
   "cell_type": "code",
   "execution_count": 8,
   "metadata": {
    "collapsed": false
   },
   "outputs": [],
   "source": [
    "#add nodes and attributes\n",
    "for i in range(0,len(mdata)):\n",
    "    G.add_node(mdata.master_node_id[i],\n",
    "               name = mdata.stop_name[i],\n",
    "               master_node='Yes',\n",
    "               stop_id = mdata.stop_id[i]\n",
    "              )"
   ]
  },
  {
   "cell_type": "code",
   "execution_count": 9,
   "metadata": {
    "collapsed": false
   },
   "outputs": [
    {
     "data": {
      "text/plain": [
       "[('138_5',\n",
       "  {'geo': (-74.012187999999995, 40.711835000000001),\n",
       "   'lat': 40.711835000000001,\n",
       "   'line': '5',\n",
       "   'lng': -74.012187999999995,\n",
       "   'master_node': 'No',\n",
       "   'master_node_id': 'Cortlandt St_0',\n",
       "   'name': 'Cortlandt St',\n",
       "   'stop_id': '138'}),\n",
       " ('Richmond Valley_0',\n",
       "  {'master_node': 'Yes', 'name': 'Richmond Valley', 'stop_id': 'S13'})]"
      ]
     },
     "execution_count": 9,
     "metadata": {},
     "output_type": "execute_result"
    }
   ],
   "source": [
    "G.nodes(data=True)[6:8]"
   ]
  },
  {
   "cell_type": "markdown",
   "metadata": {},
   "source": [
    "## link of sub nodes by train"
   ]
  },
  {
   "cell_type": "code",
   "execution_count": 10,
   "metadata": {
    "collapsed": true
   },
   "outputs": [],
   "source": [
    "## get edge data\n",
    "edata = pd.read_csv('network_setup/duration_7-10am_weekday')"
   ]
  },
  {
   "cell_type": "code",
   "execution_count": 11,
   "metadata": {
    "collapsed": false
   },
   "outputs": [
    {
     "data": {
      "text/html": [
       "<div>\n",
       "<style>\n",
       "    .dataframe thead tr:only-child th {\n",
       "        text-align: right;\n",
       "    }\n",
       "\n",
       "    .dataframe thead th {\n",
       "        text-align: left;\n",
       "    }\n",
       "\n",
       "    .dataframe tbody tr th {\n",
       "        vertical-align: top;\n",
       "    }\n",
       "</style>\n",
       "<table border=\"1\" class=\"dataframe\">\n",
       "  <thead>\n",
       "    <tr style=\"text-align: right;\">\n",
       "      <th></th>\n",
       "      <th>Unnamed: 0</th>\n",
       "      <th>from_stop_id</th>\n",
       "      <th>to_stop_id</th>\n",
       "      <th>train</th>\n",
       "      <th>duration</th>\n",
       "      <th>from_stop_name</th>\n",
       "      <th>from_stop_lat</th>\n",
       "      <th>from_stop_lon</th>\n",
       "      <th>to_stop_name</th>\n",
       "      <th>to_stop_lat</th>\n",
       "      <th>to_stop_lon</th>\n",
       "      <th>from_node</th>\n",
       "      <th>to_node</th>\n",
       "    </tr>\n",
       "  </thead>\n",
       "  <tbody>\n",
       "    <tr>\n",
       "      <th>0</th>\n",
       "      <td>0</td>\n",
       "      <td>101S</td>\n",
       "      <td>103S</td>\n",
       "      <td>1</td>\n",
       "      <td>90.0</td>\n",
       "      <td>Van Cortlandt Park - 242 St</td>\n",
       "      <td>40.889248</td>\n",
       "      <td>-73.898583</td>\n",
       "      <td>238 St</td>\n",
       "      <td>40.884667</td>\n",
       "      <td>-73.900870</td>\n",
       "      <td>101_1</td>\n",
       "      <td>103_1</td>\n",
       "    </tr>\n",
       "    <tr>\n",
       "      <th>1</th>\n",
       "      <td>1</td>\n",
       "      <td>103N</td>\n",
       "      <td>101N</td>\n",
       "      <td>1</td>\n",
       "      <td>90.0</td>\n",
       "      <td>238 St</td>\n",
       "      <td>40.884667</td>\n",
       "      <td>-73.900870</td>\n",
       "      <td>Van Cortlandt Park - 242 St</td>\n",
       "      <td>40.889248</td>\n",
       "      <td>-73.898583</td>\n",
       "      <td>103_1</td>\n",
       "      <td>101_1</td>\n",
       "    </tr>\n",
       "    <tr>\n",
       "      <th>2</th>\n",
       "      <td>2</td>\n",
       "      <td>103S</td>\n",
       "      <td>104S</td>\n",
       "      <td>1</td>\n",
       "      <td>90.0</td>\n",
       "      <td>238 St</td>\n",
       "      <td>40.884667</td>\n",
       "      <td>-73.900870</td>\n",
       "      <td>231 St</td>\n",
       "      <td>40.878856</td>\n",
       "      <td>-73.904834</td>\n",
       "      <td>103_1</td>\n",
       "      <td>104_1</td>\n",
       "    </tr>\n",
       "  </tbody>\n",
       "</table>\n",
       "</div>"
      ],
      "text/plain": [
       "   Unnamed: 0 from_stop_id to_stop_id train  duration  \\\n",
       "0           0         101S       103S     1      90.0   \n",
       "1           1         103N       101N     1      90.0   \n",
       "2           2         103S       104S     1      90.0   \n",
       "\n",
       "                from_stop_name  from_stop_lat  from_stop_lon  \\\n",
       "0  Van Cortlandt Park - 242 St      40.889248     -73.898583   \n",
       "1                       238 St      40.884667     -73.900870   \n",
       "2                       238 St      40.884667     -73.900870   \n",
       "\n",
       "                  to_stop_name  to_stop_lat  to_stop_lon from_node to_node  \n",
       "0                       238 St    40.884667   -73.900870     101_1   103_1  \n",
       "1  Van Cortlandt Park - 242 St    40.889248   -73.898583     103_1   101_1  \n",
       "2                       231 St    40.878856   -73.904834     103_1   104_1  "
      ]
     },
     "execution_count": 11,
     "metadata": {},
     "output_type": "execute_result"
    }
   ],
   "source": [
    "edata.head(3)"
   ]
  },
  {
   "cell_type": "code",
   "execution_count": 12,
   "metadata": {
    "collapsed": false
   },
   "outputs": [],
   "source": [
    "# #ADD THE EDGES and weighted - method 1\n",
    "for i in range(0,len(edata.from_node)):\n",
    "    G.add_edge(edata.from_node[i],edata.to_node[i], \n",
    "               weight = edata.duration[i],\n",
    "               ## attributes\n",
    "               train = edata.train[i],\n",
    "               edge_type = 'train')\n",
    "# # add weighted edges  - method 2\n",
    "# e= zip(edata.from_node_id,edata.to_node_id,edata.duration)\n",
    "# G.add_weighted_edges_from(e,train=edata.train)"
   ]
  },
  {
   "cell_type": "code",
   "execution_count": 13,
   "metadata": {
    "collapsed": false
   },
   "outputs": [
    {
     "data": {
      "text/plain": [
       "[('136_1', '137_1', {'edge_type': 'train', 'train': '1', 'weight': 80.0}),\n",
       " ('136_1', '135_1', {'edge_type': 'train', 'train': '1', 'weight': 60.0}),\n",
       " ('138_1', '139_1', {'edge_type': 'train', 'train': '1', 'weight': 90.0})]"
      ]
     },
     "execution_count": 13,
     "metadata": {},
     "output_type": "execute_result"
    }
   ],
   "source": [
    "G.edges(data= True)[:3]"
   ]
  },
  {
   "cell_type": "markdown",
   "metadata": {},
   "source": [
    "### link of sub nodes by transfer"
   ]
  },
  {
   "cell_type": "code",
   "execution_count": 14,
   "metadata": {
    "collapsed": false
   },
   "outputs": [
    {
     "data": {
      "text/html": [
       "<div>\n",
       "<style>\n",
       "    .dataframe thead tr:only-child th {\n",
       "        text-align: right;\n",
       "    }\n",
       "\n",
       "    .dataframe thead th {\n",
       "        text-align: left;\n",
       "    }\n",
       "\n",
       "    .dataframe tbody tr th {\n",
       "        vertical-align: top;\n",
       "    }\n",
       "</style>\n",
       "<table border=\"1\" class=\"dataframe\">\n",
       "  <thead>\n",
       "    <tr style=\"text-align: right;\">\n",
       "      <th></th>\n",
       "      <th>Unnamed: 0</th>\n",
       "      <th>from_stop_id</th>\n",
       "      <th>to_stop_id</th>\n",
       "      <th>min_transfer_time</th>\n",
       "      <th>from_stop</th>\n",
       "      <th>to_stop</th>\n",
       "      <th>from_train</th>\n",
       "      <th>to_train</th>\n",
       "      <th>from_node_id</th>\n",
       "      <th>to_node_id</th>\n",
       "    </tr>\n",
       "  </thead>\n",
       "  <tbody>\n",
       "    <tr>\n",
       "      <th>0</th>\n",
       "      <td>0</td>\n",
       "      <td>101</td>\n",
       "      <td>101</td>\n",
       "      <td>180</td>\n",
       "      <td>Van Cortlandt Park - 242 St</td>\n",
       "      <td>Van Cortlandt Park - 242 St</td>\n",
       "      <td>1</td>\n",
       "      <td>1</td>\n",
       "      <td>101_1</td>\n",
       "      <td>101_1</td>\n",
       "    </tr>\n",
       "    <tr>\n",
       "      <th>1</th>\n",
       "      <td>1</td>\n",
       "      <td>103</td>\n",
       "      <td>103</td>\n",
       "      <td>180</td>\n",
       "      <td>238 St</td>\n",
       "      <td>238 St</td>\n",
       "      <td>1</td>\n",
       "      <td>1</td>\n",
       "      <td>103_1</td>\n",
       "      <td>103_1</td>\n",
       "    </tr>\n",
       "    <tr>\n",
       "      <th>2</th>\n",
       "      <td>2</td>\n",
       "      <td>104</td>\n",
       "      <td>104</td>\n",
       "      <td>180</td>\n",
       "      <td>231 St</td>\n",
       "      <td>231 St</td>\n",
       "      <td>1</td>\n",
       "      <td>1</td>\n",
       "      <td>104_1</td>\n",
       "      <td>104_1</td>\n",
       "    </tr>\n",
       "  </tbody>\n",
       "</table>\n",
       "</div>"
      ],
      "text/plain": [
       "   Unnamed: 0 from_stop_id to_stop_id  min_transfer_time  \\\n",
       "0           0          101        101                180   \n",
       "1           1          103        103                180   \n",
       "2           2          104        104                180   \n",
       "\n",
       "                     from_stop                      to_stop from_train  \\\n",
       "0  Van Cortlandt Park - 242 St  Van Cortlandt Park - 242 St          1   \n",
       "1                       238 St                       238 St          1   \n",
       "2                       231 St                       231 St          1   \n",
       "\n",
       "  to_train from_node_id to_node_id  \n",
       "0        1        101_1      101_1  \n",
       "1        1        103_1      103_1  \n",
       "2        1        104_1      104_1  "
      ]
     },
     "execution_count": 14,
     "metadata": {},
     "output_type": "execute_result"
    }
   ],
   "source": [
    "#ADD TRANSFER WITHOUT SWIPE EDGES\n",
    "tdata = pd.read_csv(\"network_setup/transfer\")\n",
    "tdata.head(3)"
   ]
  },
  {
   "cell_type": "code",
   "execution_count": 15,
   "metadata": {
    "collapsed": false
   },
   "outputs": [],
   "source": [
    "## adding transfer\n",
    "for i in range(len(tdata)):\n",
    "    G.add_edge(tdata.from_node_id[i],tdata.to_node_id[i],\n",
    "               weight = tdata.min_transfer_time[i],\n",
    "               ## attributes\n",
    "               from_train = tdata.from_train[i],\n",
    "               to_train = tdata.to_train[i],\n",
    "               edge_type = 'transfer')\n",
    "    \n",
    "# ## method 2- add self loop\n",
    "# e2= zip(tdata.from_stop_id,tdata.to_stop_id,tdata.min_transfer_time)\n",
    "# G.add_weighted_edges_from(e)"
   ]
  },
  {
   "cell_type": "code",
   "execution_count": 16,
   "metadata": {
    "collapsed": false
   },
   "outputs": [
    {
     "data": {
      "text/plain": [
       "[('136_1',\n",
       "  '136_2',\n",
       "  {'edge_type': 'transfer',\n",
       "   'from_train': '1',\n",
       "   'to_train': '2',\n",
       "   'weight': 180}),\n",
       " ('136_1', '137_1', {'edge_type': 'train', 'train': '1', 'weight': 80.0})]"
      ]
     },
     "execution_count": 16,
     "metadata": {},
     "output_type": "execute_result"
    }
   ],
   "source": [
    "G.edges(data= True)[3:5]"
   ]
  },
  {
   "cell_type": "markdown",
   "metadata": {},
   "source": [
    "### link of sub nodes and master nodes by waiting time"
   ]
  },
  {
   "cell_type": "code",
   "execution_count": 17,
   "metadata": {
    "collapsed": false
   },
   "outputs": [
    {
     "data": {
      "text/html": [
       "<div>\n",
       "<style>\n",
       "    .dataframe thead tr:only-child th {\n",
       "        text-align: right;\n",
       "    }\n",
       "\n",
       "    .dataframe thead th {\n",
       "        text-align: left;\n",
       "    }\n",
       "\n",
       "    .dataframe tbody tr th {\n",
       "        vertical-align: top;\n",
       "    }\n",
       "</style>\n",
       "<table border=\"1\" class=\"dataframe\">\n",
       "  <thead>\n",
       "    <tr style=\"text-align: right;\">\n",
       "      <th></th>\n",
       "      <th>Unnamed: 0</th>\n",
       "      <th>stop_id</th>\n",
       "      <th>train</th>\n",
       "      <th>stop_name</th>\n",
       "      <th>stop_lat</th>\n",
       "      <th>stop_lon</th>\n",
       "      <th>node_id</th>\n",
       "      <th>master_node_id</th>\n",
       "      <th>train_num</th>\n",
       "      <th>interval</th>\n",
       "      <th>waiting</th>\n",
       "    </tr>\n",
       "  </thead>\n",
       "  <tbody>\n",
       "    <tr>\n",
       "      <th>0</th>\n",
       "      <td>0</td>\n",
       "      <td>101</td>\n",
       "      <td>1</td>\n",
       "      <td>Van Cortlandt Park - 242 St</td>\n",
       "      <td>40.889248</td>\n",
       "      <td>-73.898583</td>\n",
       "      <td>101_1</td>\n",
       "      <td>Van Cortlandt Park - 242 St_0</td>\n",
       "      <td>29.0</td>\n",
       "      <td>372.413793</td>\n",
       "      <td>186.206897</td>\n",
       "    </tr>\n",
       "    <tr>\n",
       "      <th>1</th>\n",
       "      <td>1</td>\n",
       "      <td>103</td>\n",
       "      <td>1</td>\n",
       "      <td>238 St</td>\n",
       "      <td>40.884667</td>\n",
       "      <td>-73.900870</td>\n",
       "      <td>103_1</td>\n",
       "      <td>238 St_0</td>\n",
       "      <td>33.0</td>\n",
       "      <td>327.272727</td>\n",
       "      <td>163.636364</td>\n",
       "    </tr>\n",
       "    <tr>\n",
       "      <th>2</th>\n",
       "      <td>2</td>\n",
       "      <td>104</td>\n",
       "      <td>1</td>\n",
       "      <td>231 St</td>\n",
       "      <td>40.878856</td>\n",
       "      <td>-73.904834</td>\n",
       "      <td>104_1</td>\n",
       "      <td>231 St_0</td>\n",
       "      <td>33.0</td>\n",
       "      <td>327.272727</td>\n",
       "      <td>163.636364</td>\n",
       "    </tr>\n",
       "  </tbody>\n",
       "</table>\n",
       "</div>"
      ],
      "text/plain": [
       "   Unnamed: 0 stop_id train                    stop_name   stop_lat  \\\n",
       "0           0     101     1  Van Cortlandt Park - 242 St  40.889248   \n",
       "1           1     103     1                       238 St  40.884667   \n",
       "2           2     104     1                       231 St  40.878856   \n",
       "\n",
       "    stop_lon node_id                 master_node_id  train_num    interval  \\\n",
       "0 -73.898583   101_1  Van Cortlandt Park - 242 St_0       29.0  372.413793   \n",
       "1 -73.900870   103_1                       238 St_0       33.0  327.272727   \n",
       "2 -73.904834   104_1                       231 St_0       33.0  327.272727   \n",
       "\n",
       "      waiting  \n",
       "0  186.206897  \n",
       "1  163.636364  \n",
       "2  163.636364  "
      ]
     },
     "execution_count": 17,
     "metadata": {},
     "output_type": "execute_result"
    }
   ],
   "source": [
    "# add waiting time\n",
    "wdata = pd.read_csv(\"network_setup/waiting\")\n",
    "wdata.head(3)"
   ]
  },
  {
   "cell_type": "code",
   "execution_count": 18,
   "metadata": {
    "collapsed": false
   },
   "outputs": [],
   "source": [
    "## adding waiting\n",
    "for i in range(len(wdata)):\n",
    "    G.add_edge(wdata.master_node_id[i],wdata.node_id[i],\n",
    "               weight = wdata.waiting[i],\n",
    "               ## attributes\n",
    "               train = wdata.train[i],\n",
    "               stop_id = wdata.stop_id[i],\n",
    "               edge_type = 'waiting')\n",
    "    \n",
    "# ## method 2- add self loop\n",
    "# e2= zip(tdata.from_stop_id,tdata.to_stop_id,tdata.min_transfer_time)\n",
    "# G.add_weighted_edges_from(e)"
   ]
  },
  {
   "cell_type": "code",
   "execution_count": 19,
   "metadata": {
    "collapsed": false
   },
   "outputs": [],
   "source": [
    "## adding exit\n",
    "for i in range(len(wdata)):\n",
    "    G.add_edge(wdata.node_id[i],wdata.master_node_id[i],\n",
    "               weight = 0,\n",
    "               ## attributes\n",
    "               train = wdata.train[i],\n",
    "               stop_id = wdata.stop_id[i],\n",
    "               edge_type = 'exit')\n",
    "    "
   ]
  },
  {
   "cell_type": "code",
   "execution_count": null,
   "metadata": {
    "collapsed": true
   },
   "outputs": [],
   "source": []
  },
  {
   "cell_type": "markdown",
   "metadata": {},
   "source": [
    "## Network Info"
   ]
  },
  {
   "cell_type": "code",
   "execution_count": 20,
   "metadata": {
    "collapsed": false
   },
   "outputs": [
    {
     "name": "stdout",
     "output_type": "stream",
     "text": [
      "Name: network_setup/NYC Subway Network\n",
      "Type: MultiDiGraph\n",
      "Number of nodes: 1378\n",
      "Number of edges: 5749\n",
      "Average in degree:   4.1720\n",
      "Average out degree:   4.1720\n"
     ]
    }
   ],
   "source": [
    "print nx.info(G)"
   ]
  },
  {
   "cell_type": "code",
   "execution_count": 21,
   "metadata": {
    "collapsed": false
   },
   "outputs": [
    {
     "name": "stdout",
     "output_type": "stream",
     "text": [
      "number of master nodes: 465\n",
      "number of sub nodes: 913\n"
     ]
    }
   ],
   "source": [
    "master = filter(lambda (n,attr):attr['master_node']=='Yes',G.nodes(data=True))\n",
    "sub = filter(lambda (n,attr):attr['master_node']=='No',G.nodes(data=True))\n",
    "print 'number of master nodes:', len(master)\n",
    "print 'number of sub nodes:', len(sub)"
   ]
  },
  {
   "cell_type": "code",
   "execution_count": 22,
   "metadata": {
    "collapsed": false
   },
   "outputs": [],
   "source": [
    "master_nodes = map(lambda x: x[0], master)"
   ]
  },
  {
   "cell_type": "markdown",
   "metadata": {},
   "source": [
    "## Centrality"
   ]
  },
  {
   "cell_type": "code",
   "execution_count": 23,
   "metadata": {
    "collapsed": false
   },
   "outputs": [],
   "source": [
    "# #top 10 betweenness centrallity nodes\n",
    "# sorted(nx.betweenness_centrality(G).items(),key=lambda x: x[1],reverse=True)[:10]"
   ]
  },
  {
   "cell_type": "code",
   "execution_count": 24,
   "metadata": {
    "collapsed": false
   },
   "outputs": [],
   "source": [
    "# ## top 10 betweenness centrallity nodes\n",
    "# important_nodes = sorted(nx.betweenness_centrality(G).items(),key=lambda x: x[1],reverse=True)[:10]\n",
    "# stop_id = map(lambda x: x[0],important_nodes)\n",
    "# stop_name = ndata[ndata['node_id'].isin(stop_id)]['stop_name'].values\n",
    "# print zip(stop_id,stop_name)"
   ]
  },
  {
   "cell_type": "markdown",
   "metadata": {},
   "source": [
    "## REMOVE NODES FROM NETWORK"
   ]
  },
  {
   "cell_type": "code",
   "execution_count": 25,
   "metadata": {
    "collapsed": true
   },
   "outputs": [],
   "source": [
    "# di=nx.all_pairs_dijkstra_path_length(G,weight='weight')\n",
    "# df= pd.DataFrame.from_dict(di)\n",
    "# df= df.loc[master_nodes,master_nodes]\n",
    "# df.index.name='to_master_id'\n",
    "# df.to_csv('whole_network_duration')"
   ]
  },
  {
   "cell_type": "code",
   "execution_count": 26,
   "metadata": {
    "collapsed": false
   },
   "outputs": [],
   "source": [
    "# whole_network=pd.read_csv('whole_network_duration_shortest_path.csv',index_col=0)\n",
    "# whole_network = whole_network.dropna().reset_index(drop= True)\n",
    "# whole_network.head()"
   ]
  },
  {
   "cell_type": "code",
   "execution_count": 27,
   "metadata": {
    "collapsed": true
   },
   "outputs": [],
   "source": [
    "def find_sub_nodes(master_node_id):\n",
    "    \"\"\"\n",
    "    master_node_id =[...]\n",
    "    if master node is removed, find related master node\n",
    "    should pass a list of master nodes to this function\n",
    "    \"\"\"\n",
    "    \n",
    "    \n",
    "    removed_sub_nodes=[]\n",
    "    for (n,attr) in G.nodes(data = True):\n",
    "        try:\n",
    "            if attr['master_node_id'] in master_node_id:\n",
    "                removed_sub_nodes.append(n)\n",
    "        except KeyError:\n",
    "            pass\n",
    "    return set(removed_sub_nodes)"
   ]
  },
  {
   "cell_type": "code",
   "execution_count": 28,
   "metadata": {
    "collapsed": true
   },
   "outputs": [],
   "source": [
    "def find_affected_od_index(master_node_id):\n",
    "    \"\"\"\n",
    "    find affected o-d pair given a list of a master_node_id\n",
    "    \"\"\"\n",
    "    removed_sub_nodes = find_sub_nodes(master_node_id)\n",
    "    affected_od_index =[]\n",
    "    for i in range(len(whole_network)):\n",
    "        if len(removed_sub_nodes & set(whole_network.loc[i,'shortest_path'].split(','))) == 0:\n",
    "            pass\n",
    "        else:\n",
    "            affected_od_index.append(i)\n",
    "    return affected_od_index"
   ]
  },
  {
   "cell_type": "markdown",
   "metadata": {},
   "source": [
    "## remove 2 nodes in the network , calculate the duration"
   ]
  },
  {
   "cell_type": "code",
   "execution_count": 29,
   "metadata": {
    "collapsed": true
   },
   "outputs": [],
   "source": [
    "def calculate_duration_remove2nodes(removed_master_node):\n",
    "    \"\"\"\n",
    "    removed_master_node = [...]\n",
    "    a list of master nodes to be removed\n",
    "    this function is to calculate shortest path length of new network without multi-nodes\n",
    "    \"\"\"\n",
    "    removed_sub_nodes = find_sub_nodes(removed_master_node)\n",
    "    \n",
    "    G_0 = G.copy()\n",
    "    G_0.remove_nodes_from(removed_sub_nodes)\n",
    "    dict_duration  = nx.all_pairs_dijkstra_path_length(G_0)\n",
    "    df = pd.DataFrame.from_dict(dict_duration)\n",
    "    df.index.name='to_master_id'\n",
    "    \n",
    "    ### some error raises ,eg: 'Jamaica Center - Parsons/Archer_0' cannot save to csv\n",
    "    ### so change / into -\n",
    "    filename = ','.join(removed_master_node)\n",
    "    filename = filename.replace('/','-')\n",
    "    df.loc[master_nodes,master_nodes].to_csv('remove-two-node/'+filename)\n",
    "    return dict_duration\n"
   ]
  },
  {
   "cell_type": "code",
   "execution_count": 30,
   "metadata": {
    "collapsed": false
   },
   "outputs": [
    {
     "name": "stdout",
     "output_type": "stream",
     "text": [
      "0:00:29.847392\n"
     ]
    }
   ],
   "source": [
    "t1= datetime.datetime.now()\n",
    "removed_master_node= ['Canal St_0','Times Sq - 42 St_0']\n",
    "calculate_duration_remove2nodes(removed_master_node)\n",
    "t2 = datetime.datetime.now()-t1\n",
    "print t2"
   ]
  },
  {
   "cell_type": "markdown",
   "metadata": {},
   "source": [
    "# ! If you could see the time, then the setup is fine"
   ]
  },
  {
   "cell_type": "code",
   "execution_count": null,
   "metadata": {
    "collapsed": true
   },
   "outputs": [],
   "source": []
  },
  {
   "cell_type": "markdown",
   "metadata": {},
   "source": [
    "## Find important nodes"
   ]
  },
  {
   "cell_type": "markdown",
   "metadata": {},
   "source": [
    "#### Find the master nodes, who has more connections to other master nodes\n",
    "eg. Jay St master node is connected to High St by line A and line C, but it's just considered as 1 degree. Jay st is connected to York St by line F, then it is consider as another degree. So calculate how many master nodes each master node is connected to and rank them."
   ]
  },
  {
   "cell_type": "code",
   "execution_count": null,
   "metadata": {
    "collapsed": true
   },
   "outputs": [],
   "source": [
    "# ## this step filter out all the master nodes pairs, which are next station to each other\n",
    "# master_nodes_pair={}\n",
    "# for i in itertools.combinations(master_nodes,2):\n",
    "#     for path in nx.all_simple_paths(G, source=i[0], target=i[1],cutoff=3):\n",
    "#         if path:\n",
    "#             master_nodes_pair[i] = path"
   ]
  },
  {
   "cell_type": "code",
   "execution_count": null,
   "metadata": {
    "collapsed": true
   },
   "outputs": [],
   "source": [
    "# master_nodes_pair= master_nodes_pair.keys()\n",
    "# master_nodes_pair = list(np.array(master_nodes_pair).flatten())"
   ]
  },
  {
   "cell_type": "code",
   "execution_count": null,
   "metadata": {
    "collapsed": true
   },
   "outputs": [],
   "source": [
    "# occurence = {}\n",
    "# for i in set(master_nodes_pair):\n",
    "#     occurence[i] = master_nodes_pair.count(i)"
   ]
  },
  {
   "cell_type": "code",
   "execution_count": null,
   "metadata": {
    "collapsed": false
   },
   "outputs": [],
   "source": [
    "# master_nodes_connection = sorted(occurence.items(),key=lambda x:x[1],reverse=True)"
   ]
  },
  {
   "cell_type": "code",
   "execution_count": null,
   "metadata": {
    "collapsed": false
   },
   "outputs": [],
   "source": [
    "# master_nodes_connection[:10]"
   ]
  },
  {
   "cell_type": "code",
   "execution_count": null,
   "metadata": {
    "collapsed": false
   },
   "outputs": [],
   "source": [
    "# usually the station shall have at least two master nodes connected, -- previous stop and next stop\n",
    "# station has at least 3\n",
    "len(filter(lambda x:x[1]>=3, master_nodes_connection))"
   ]
  },
  {
   "cell_type": "code",
   "execution_count": null,
   "metadata": {
    "collapsed": false
   },
   "outputs": [],
   "source": [
    "# usually the station shall have at least two master nodes connected, -- previous stop and next stop\n",
    "# station has  at least 4\n",
    "len(filter(lambda x:x[1]>=4, master_nodes_connection))"
   ]
  },
  {
   "cell_type": "code",
   "execution_count": null,
   "metadata": {
    "collapsed": true
   },
   "outputs": [],
   "source": [
    "# #connection_4 is master nodes, which are connected to at least 4 other master nodes\n",
    "# connection_4=filter(lambda x:x[1]>=4, master_nodes_connection)"
   ]
  },
  {
   "cell_type": "code",
   "execution_count": null,
   "metadata": {
    "collapsed": false
   },
   "outputs": [],
   "source": [
    "# connection_4[:10]"
   ]
  },
  {
   "cell_type": "code",
   "execution_count": null,
   "metadata": {
    "collapsed": true
   },
   "outputs": [],
   "source": []
  },
  {
   "cell_type": "markdown",
   "metadata": {},
   "source": [
    "#### Find the master nodes, have more lines come to the station"
   ]
  },
  {
   "cell_type": "code",
   "execution_count": null,
   "metadata": {
    "collapsed": false
   },
   "outputs": [],
   "source": [
    "# degree = nx.degree(G)"
   ]
  },
  {
   "cell_type": "code",
   "execution_count": null,
   "metadata": {
    "collapsed": false
   },
   "outputs": [],
   "source": [
    "# degree = filter(lambda (x,y): x in master_nodes,\n",
    "       sorted(degree.iteritems(), key=lambda (k,v): (v,k),reverse =True))"
   ]
  },
  {
   "cell_type": "code",
   "execution_count": null,
   "metadata": {
    "collapsed": false
   },
   "outputs": [],
   "source": [
    "#  # if set threshold as at least 3 lines come to the station, we could get 61 stations.\n",
    "# len(filter(lambda x:x[1]>=6 ,degree))"
   ]
  },
  {
   "cell_type": "code",
   "execution_count": null,
   "metadata": {
    "collapsed": true
   },
   "outputs": [],
   "source": [
    "# degree_6 = filter(lambda x:x[1]>=6 ,degree)"
   ]
  },
  {
   "cell_type": "code",
   "execution_count": null,
   "metadata": {
    "collapsed": false
   },
   "outputs": [],
   "source": [
    "# degree_6[:10]"
   ]
  },
  {
   "cell_type": "code",
   "execution_count": null,
   "metadata": {
    "collapsed": false
   },
   "outputs": [],
   "source": [
    "# So if combining two definition of degree, will get 81 important stations\n",
    "# len(set(map(lambda x:x[0],connection_4)+map(lambda x:x[0],degree_6)))"
   ]
  },
  {
   "cell_type": "markdown",
   "metadata": {},
   "source": [
    "#### Find the master nodes, top 50 criticality in one-node removal results"
   ]
  },
  {
   "cell_type": "code",
   "execution_count": null,
   "metadata": {
    "collapsed": false
   },
   "outputs": [],
   "source": [
    "# delay = pd.read_csv('delay_one_node_removal.csv',index_col=0)\n",
    "# critical_nodes =delay.head(50)['station'].values"
   ]
  },
  {
   "cell_type": "code",
   "execution_count": null,
   "metadata": {
    "collapsed": false
   },
   "outputs": [],
   "source": [
    "# So if combining 3 concepts of important stations together ,will get 109 nodes\n",
    "# len(set(map(lambda x:x[0],connection_4)+map(lambda x:x[0],degree_6)+ list(critical_nodes)))"
   ]
  },
  {
   "cell_type": "code",
   "execution_count": null,
   "metadata": {
    "collapsed": false
   },
   "outputs": [],
   "source": [
    "# important_nodes = list(set(map(lambda x:x[0],connection_4)+map(lambda x:x[0],degree_6)+ list(critical_nodes)))"
   ]
  },
  {
   "cell_type": "markdown",
   "metadata": {},
   "source": [
    "## Get addtional pairs to run and split into 5 files"
   ]
  },
  {
   "cell_type": "code",
   "execution_count": null,
   "metadata": {
    "collapsed": true
   },
   "outputs": [],
   "source": [
    "# all_pairs=[]\n",
    "# for pair in itertools.combinations(important_nodes,2):\n",
    "#     all_pairs.append(pair)"
   ]
  },
  {
   "cell_type": "code",
   "execution_count": null,
   "metadata": {
    "collapsed": false
   },
   "outputs": [],
   "source": [
    "# len(all_pairs)"
   ]
  },
  {
   "cell_type": "code",
   "execution_count": null,
   "metadata": {
    "collapsed": true
   },
   "outputs": [],
   "source": [
    "# already_run_pairs=[]\n",
    "# for pair in itertools.combinations(critical_nodes,2):\n",
    "#     already_run_pairs.append(pair)"
   ]
  },
  {
   "cell_type": "code",
   "execution_count": null,
   "metadata": {
    "collapsed": false
   },
   "outputs": [],
   "source": [
    "# len(already_run_pairs)"
   ]
  },
  {
   "cell_type": "code",
   "execution_count": null,
   "metadata": {
    "collapsed": false
   },
   "outputs": [],
   "source": [
    "# need_run_pairs=[]\n",
    "# for x,y in all_pairs:\n",
    "#     if ((x,y) in already_run_pairs)or ((y,x) in already_run_pairs):\n",
    "#         pass\n",
    "#     else:\n",
    "#         need_run_pairs.append((x,y))"
   ]
  },
  {
   "cell_type": "code",
   "execution_count": null,
   "metadata": {
    "collapsed": false
   },
   "outputs": [],
   "source": [
    "## there are 4661 pairs needed to be run more\n",
    "# len(need_run_pairs)"
   ]
  },
  {
   "cell_type": "code",
   "execution_count": null,
   "metadata": {
    "collapsed": false
   },
   "outputs": [],
   "source": [
    "# pd.DataFrame(need_run_pairs[:930]).to_csv('pairs_0')"
   ]
  },
  {
   "cell_type": "code",
   "execution_count": null,
   "metadata": {
    "collapsed": false
   },
   "outputs": [],
   "source": [
    "# i=1\n",
    "# pd.DataFrame(need_run_pairs[930*i:930*(i+1)]).to_csv('pairs_'+str(i))"
   ]
  },
  {
   "cell_type": "code",
   "execution_count": null,
   "metadata": {
    "collapsed": false
   },
   "outputs": [],
   "source": [
    "# i=2\n",
    "# pd.DataFrame(need_run_pairs[930*i:930*(i+1)]).to_csv('pairs_'+str(i))"
   ]
  },
  {
   "cell_type": "code",
   "execution_count": null,
   "metadata": {
    "collapsed": false
   },
   "outputs": [],
   "source": [
    "# i=3\n",
    "# pd.DataFrame(need_run_pairs[930*i:930*(i+1)]).to_csv('pairs_'+str(i))"
   ]
  },
  {
   "cell_type": "code",
   "execution_count": null,
   "metadata": {
    "collapsed": false
   },
   "outputs": [],
   "source": [
    "# i=4\n",
    "# pd.DataFrame(need_run_pairs[930*i:]).to_csv('pairs_'+str(i))"
   ]
  },
  {
   "cell_type": "code",
   "execution_count": null,
   "metadata": {
    "collapsed": true
   },
   "outputs": [],
   "source": []
  },
  {
   "cell_type": "markdown",
   "metadata": {},
   "source": [
    "## Finally we can run the data now! Change the file name below. And let it run overnight"
   ]
  },
  {
   "cell_type": "code",
   "execution_count": null,
   "metadata": {
    "collapsed": true
   },
   "outputs": [],
   "source": [
    "df= pd.read_csv('pairs_0')## input your file\n",
    "del df['Unnamed: 0']\n",
    "for i in range(len(df)):\n",
    "#for i in range(0,1):\n",
    "    removed_master_node= [df.iloc[i,0],df.iloc[i,1]]\n",
    "    calculate_duration_remove2nodes(removed_master_node)"
   ]
  },
  {
   "cell_type": "markdown",
   "metadata": {},
   "source": [
    "## Calculate duration difference compare to the whole network by each file"
   ]
  },
  {
   "cell_type": "code",
   "execution_count": 38,
   "metadata": {
    "collapsed": false
   },
   "outputs": [],
   "source": [
    "def transform_duration_df(filename):\n",
    "    \"\"\"\n",
    "    the original file is 465 rows * 465 columns,\n",
    "    get rid of those, which O-D are the same \n",
    "    now the file would be 215760 rows * 3 columns: [from_master_id, to_master_id, duration]\n",
    "    \n",
    "    \"\"\"\n",
    "    df = pd.read_csv('remove-two-node/'+filename)\n",
    "    duration=pd.DataFrame()\n",
    "    for i in df.columns[1:]:\n",
    "        df_0 = df.loc[:,['to_master_id',i]]\n",
    "        df_0['from_master_id'] =i\n",
    "        df_0 = df_0.rename(columns={i:'duration_when_nodes_removed'})\n",
    "        duration = pd.concat([duration,df_0])\n",
    "        duration = duration[duration['to_master_id']!=duration['from_master_id']].reset_index(drop= True)\n",
    "    return duration"
   ]
  },
  {
   "cell_type": "code",
   "execution_count": 39,
   "metadata": {
    "collapsed": false
   },
   "outputs": [],
   "source": [
    "whole_network_duration =pd.read_csv('whole_network_duration_shortest_path.csv')\n",
    "whole_network_duration= whole_network_duration.rename(columns={'from_master':'from_master_id',\n",
    "                                      'to_master':'to_master_id'})\n",
    "whole_network_duration=whole_network_duration[['from_master_id','to_master_id','duration']]"
   ]
  },
  {
   "cell_type": "code",
   "execution_count": 40,
   "metadata": {
    "collapsed": true
   },
   "outputs": [],
   "source": [
    "def calculate_duration_diff(filename):\n",
    "    df = transform_duration_df(filename)\n",
    "    df= whole_network_duration.merge(df,on=['from_master_id','to_master_id'])\n",
    "    df['duration_diff'] = df['duration_when_nodes_removed']-df['duration']\n",
    "    df = df[['from_master_id','to_master_id','duration_diff']].rename(columns={'duration_diff':filename})\n",
    "    return df"
   ]
  },
  {
   "cell_type": "code",
   "execution_count": null,
   "metadata": {
    "collapsed": true
   },
   "outputs": [],
   "source": []
  },
  {
   "cell_type": "markdown",
   "metadata": {},
   "source": [
    "## duration difference of removing 2 node"
   ]
  },
  {
   "cell_type": "code",
   "execution_count": 41,
   "metadata": {
    "collapsed": false
   },
   "outputs": [],
   "source": [
    "whole_network_duration = np.array(list(csv.reader(open(\"whole_network_duration\", \"rb\"),\n",
    "                                                  delimiter=\",\")))"
   ]
  },
  {
   "cell_type": "code",
   "execution_count": 42,
   "metadata": {
    "collapsed": false
   },
   "outputs": [],
   "source": [
    "odpair=[]\n",
    "for i in itertools.product(whole_network_duration[0,1:],repeat=2):\n",
    "    odpair.append(i)"
   ]
  },
  {
   "cell_type": "code",
   "execution_count": 43,
   "metadata": {
    "collapsed": false
   },
   "outputs": [
    {
     "data": {
      "text/plain": [
       "[('Grant Av_0', 'Grant Av_0'),\n",
       " ('Grant Av_0', 'Atlantic Av - Barclays Ctr_0'),\n",
       " ('Grant Av_0', 'Richmond Valley_0'),\n",
       " ('Grant Av_0', '169 St_0'),\n",
       " ('Grant Av_0', 'Neptune Av_0')]"
      ]
     },
     "execution_count": 43,
     "metadata": {},
     "output_type": "execute_result"
    }
   ],
   "source": [
    "## x[0] is to_master_id, x[1] is from_master_id\n",
    "odpair[:5]"
   ]
  },
  {
   "cell_type": "code",
   "execution_count": 44,
   "metadata": {
    "collapsed": true
   },
   "outputs": [],
   "source": [
    "df_diff=pd.DataFrame()"
   ]
  },
  {
   "cell_type": "code",
   "execution_count": 47,
   "metadata": {
    "collapsed": false
   },
   "outputs": [
    {
     "data": {
      "text/plain": [
       "False"
      ]
     },
     "execution_count": 47,
     "metadata": {},
     "output_type": "execute_result"
    }
   ],
   "source": [
    "'.DS_Store' in os.listdir('remove-two-node')"
   ]
  },
  {
   "cell_type": "code",
   "execution_count": 50,
   "metadata": {
    "collapsed": false
   },
   "outputs": [],
   "source": [
    "for i in range(1):\n",
    "    file_name = os.listdir('remove-two-node')[i]\n",
    "    if file_name =='.DS_Store':\n",
    "        continue\n",
    "    df=np.array(list(csv.reader(open(\"remove-two-node/\"+file_name, \"rb\"), delimiter=\",\")))\n",
    "    if (whole_network_duration[:,0] == df[:,0]).all() & (whole_network_duration[0,:] == df[0,:]).all() :\n",
    "        df_0= whole_network_duration[1:,1:]\n",
    "        df_0[df_0=='']=np.nan\n",
    "        df_0 = df_0.astype('float')\n",
    "    \n",
    "        df = df[1:,1:]\n",
    "        df[df=='']=np.nan\n",
    "        df = df.astype('float')\n",
    "        difference=(df-df_0).flatten()\n",
    "        df_diff= pd.DataFrame.from_dict({file_name:dict(zip(odpair,difference))})\n",
    "        #df_diff = df_diff.join(df_diff_1)"
   ]
  },
  {
   "cell_type": "code",
   "execution_count": null,
   "metadata": {
    "collapsed": false
   },
   "outputs": [],
   "source": [
    "for file_name in os.listdir('remove-two-node')[1:]:\n",
    "    df=np.array(list(csv.reader(open(\"remove-two-node/\"+file_name, \"rb\"), delimiter=\",\")))\n",
    "    if (whole_network_duration[:,0] == df[:,0]).all() & (whole_network_duration[0,:] == df[0,:]).all() :\n",
    "        df_0= whole_network_duration[1:,1:]\n",
    "        df_0[df_0=='']=np.nan\n",
    "        df_0 = df_0.astype('float')\n",
    "    \n",
    "        df = df[1:,1:]\n",
    "        df[df=='']=np.nan\n",
    "        df = df.astype('float')\n",
    "        difference=(df-df_0).flatten()\n",
    "        df_diff_1 = pd.DataFrame.from_dict({file_name:dict(zip(odpair,difference))})\n",
    "        df_diff = df_diff.join(df_diff_1)"
   ]
  },
  {
   "cell_type": "code",
   "execution_count": 53,
   "metadata": {
    "collapsed": false
   },
   "outputs": [
    {
     "data": {
      "text/plain": [
       "Index([u'W 4 St_0,86 St_1', u'Grant Av_0,Saratoga Av_0',\n",
       "       u'47-50 Sts - Rockefeller Ctr_0,Jay St - MetroTech_0',\n",
       "       u'Kew Gardens - Union Tpke_0,14 St_0',\n",
       "       u'Kew Gardens - Union Tpke_0,Jay St - MetroTech_0',\n",
       "       u'47-50 Sts - Rockefeller Ctr_0,Rockaway Av_0', u'145 St_0,168 St_0',\n",
       "       u'Kew Gardens - Union Tpke_0,25 St_0',\n",
       "       u'Kew Gardens - Union Tpke_0,Borough Hall_0',\n",
       "       u'Nostrand Av_1,Mets - Willets Point_0',\n",
       "       ...\n",
       "       u'59 St_0,72 St_0', u'Flushing - Main St_0,75 St_0',\n",
       "       u'DeKalb Av_0,59 St_1', u'Flushing - Main St_0,Fulton St_1',\n",
       "       u'Flushing - Main St_0,Queens Plaza_0', u'Flushing - Main St_0,72 St_0',\n",
       "       u'25 St_0,125 St_2', u'Van Siclen Av_0,Union St_0',\n",
       "       u'DeKalb Av_0,7 Av_0', u'Flushing - Main St_0,Van Siclen Av_0'],\n",
       "      dtype='object', length=4661)"
      ]
     },
     "execution_count": 53,
     "metadata": {},
     "output_type": "execute_result"
    }
   ],
   "source": [
    "df_diff.columns"
   ]
  },
  {
   "cell_type": "code",
   "execution_count": 54,
   "metadata": {
    "collapsed": true
   },
   "outputs": [],
   "source": [
    "df_diff.to_csv('remove_two_nodes_duration_2.csv.gz',compression='gzip')"
   ]
  },
  {
   "cell_type": "code",
   "execution_count": 55,
   "metadata": {
    "collapsed": false
   },
   "outputs": [
    {
     "data": {
      "text/plain": [
       "169480979"
      ]
     },
     "execution_count": 55,
     "metadata": {},
     "output_type": "execute_result"
    }
   ],
   "source": [
    "#check the size of the file\n",
    "os.stat('remove_two_nodes_duration_2.csv.gz').st_size"
   ]
  },
  {
   "cell_type": "markdown",
   "metadata": {},
   "source": [
    "## MERGE TWO RUNS TOGETHER"
   ]
  },
  {
   "cell_type": "code",
   "execution_count": 72,
   "metadata": {
    "collapsed": true
   },
   "outputs": [],
   "source": [
    "df= pd.read_csv('remove_two_nodes_duration_diff.csv.gz',compression='gzip')"
   ]
  },
  {
   "cell_type": "code",
   "execution_count": 76,
   "metadata": {
    "collapsed": false
   },
   "outputs": [],
   "source": [
    "df = df.rename(columns={'Unnamed: 0':'to_master_id',\n",
    "                   'Unnamed: 1':'from_master_id'\n",
    "                  })"
   ]
  },
  {
   "cell_type": "code",
   "execution_count": 79,
   "metadata": {
    "collapsed": true
   },
   "outputs": [],
   "source": [
    "df = df[df['to_master_id']!=df['from_master_id']]"
   ]
  },
  {
   "cell_type": "code",
   "execution_count": 81,
   "metadata": {
    "collapsed": true
   },
   "outputs": [],
   "source": [
    "df_diff_agg = df_diff.merge(df,on=['to_master_id','from_master_id'])"
   ]
  },
  {
   "cell_type": "code",
   "execution_count": 85,
   "metadata": {
    "collapsed": true
   },
   "outputs": [],
   "source": [
    "df_diff=df_diff_agg"
   ]
  },
  {
   "cell_type": "code",
   "execution_count": 86,
   "metadata": {
    "collapsed": false
   },
   "outputs": [
    {
     "data": {
      "text/plain": [
       "(215760, 5888)"
      ]
     },
     "execution_count": 86,
     "metadata": {},
     "output_type": "execute_result"
    }
   ],
   "source": [
    "df_diff.shape"
   ]
  },
  {
   "cell_type": "markdown",
   "metadata": {},
   "source": [
    "## TWO NODES CRITICIALITY "
   ]
  },
  {
   "cell_type": "code",
   "execution_count": 87,
   "metadata": {
    "collapsed": false
   },
   "outputs": [],
   "source": [
    "##  NaN, means not reachable, then use 1 hour to replace, = 3600 seconds \n",
    "df_diff= df_diff.fillna(3600)\n",
    "df_diff= df_diff.reset_index().rename(columns={'level_0':'to_master_id',\n",
    "                                     'level_1':'from_master_id'})\n",
    "df_diff = df_diff[df_diff['from_master_id']!= df_diff['to_master_id']]"
   ]
  },
  {
   "cell_type": "code",
   "execution_count": 95,
   "metadata": {
    "collapsed": false
   },
   "outputs": [
    {
     "data": {
      "text/html": [
       "<div>\n",
       "<style>\n",
       "    .dataframe thead tr:only-child th {\n",
       "        text-align: right;\n",
       "    }\n",
       "\n",
       "    .dataframe thead th {\n",
       "        text-align: left;\n",
       "    }\n",
       "\n",
       "    .dataframe tbody tr th {\n",
       "        vertical-align: top;\n",
       "    }\n",
       "</style>\n",
       "<table border=\"1\" class=\"dataframe\">\n",
       "  <thead>\n",
       "    <tr style=\"text-align: right;\">\n",
       "      <th></th>\n",
       "      <th>index</th>\n",
       "      <th>to_master_id</th>\n",
       "      <th>from_master_id</th>\n",
       "      <th>W 4 St_0,86 St_1</th>\n",
       "      <th>Grant Av_0,Saratoga Av_0</th>\n",
       "      <th>47-50 Sts - Rockefeller Ctr_0,Jay St - MetroTech_0</th>\n",
       "      <th>Kew Gardens - Union Tpke_0,14 St_0</th>\n",
       "      <th>Kew Gardens - Union Tpke_0,Jay St - MetroTech_0</th>\n",
       "      <th>47-50 Sts - Rockefeller Ctr_0,Rockaway Av_0</th>\n",
       "      <th>145 St_0,168 St_0</th>\n",
       "      <th>...</th>\n",
       "      <th>14 St - Union Sq_0,168 St - Washington Hts_0</th>\n",
       "      <th>Franklin Av_1,Broadway_1</th>\n",
       "      <th>42 St - Port Authority Bus Terminal_0,86 St_4</th>\n",
       "      <th>Franklin Av_1,Church Av_0</th>\n",
       "      <th>42 St - Port Authority Bus Terminal_0,E 180 St_0</th>\n",
       "      <th>42 St - Port Authority Bus Terminal_0,88 St_0</th>\n",
       "      <th>Franklin Av_1,Whitehall St_0</th>\n",
       "      <th>Atlantic Av - Barclays Ctr_0,30 Av_0</th>\n",
       "      <th>Franklin Av_1,88 St_0</th>\n",
       "      <th>36 St_0,Euclid Av_0</th>\n",
       "    </tr>\n",
       "  </thead>\n",
       "  <tbody>\n",
       "    <tr>\n",
       "      <th>0</th>\n",
       "      <td>0</td>\n",
       "      <td>1 Av_0</td>\n",
       "      <td>103 St - Corona Plaza_0</td>\n",
       "      <td>0.00000</td>\n",
       "      <td>0.0</td>\n",
       "      <td>0.0</td>\n",
       "      <td>0.000000</td>\n",
       "      <td>0.0</td>\n",
       "      <td>0.0</td>\n",
       "      <td>0.0</td>\n",
       "      <td>...</td>\n",
       "      <td>116.565421</td>\n",
       "      <td>0.0</td>\n",
       "      <td>0.000000</td>\n",
       "      <td>0.0</td>\n",
       "      <td>0.000000</td>\n",
       "      <td>0.000000</td>\n",
       "      <td>0.0</td>\n",
       "      <td>0.0</td>\n",
       "      <td>0.0</td>\n",
       "      <td>0.0</td>\n",
       "    </tr>\n",
       "    <tr>\n",
       "      <th>1</th>\n",
       "      <td>1</td>\n",
       "      <td>1 Av_0</td>\n",
       "      <td>103 St_0</td>\n",
       "      <td>0.00000</td>\n",
       "      <td>0.0</td>\n",
       "      <td>0.0</td>\n",
       "      <td>25.120482</td>\n",
       "      <td>0.0</td>\n",
       "      <td>0.0</td>\n",
       "      <td>0.0</td>\n",
       "      <td>...</td>\n",
       "      <td>0.000000</td>\n",
       "      <td>0.0</td>\n",
       "      <td>0.000000</td>\n",
       "      <td>0.0</td>\n",
       "      <td>0.000000</td>\n",
       "      <td>0.000000</td>\n",
       "      <td>0.0</td>\n",
       "      <td>0.0</td>\n",
       "      <td>0.0</td>\n",
       "      <td>0.0</td>\n",
       "    </tr>\n",
       "    <tr>\n",
       "      <th>2</th>\n",
       "      <td>2</td>\n",
       "      <td>1 Av_0</td>\n",
       "      <td>103 St_1</td>\n",
       "      <td>1242.30179</td>\n",
       "      <td>0.0</td>\n",
       "      <td>0.0</td>\n",
       "      <td>0.000000</td>\n",
       "      <td>0.0</td>\n",
       "      <td>0.0</td>\n",
       "      <td>0.0</td>\n",
       "      <td>...</td>\n",
       "      <td>489.095745</td>\n",
       "      <td>0.0</td>\n",
       "      <td>0.000000</td>\n",
       "      <td>0.0</td>\n",
       "      <td>0.000000</td>\n",
       "      <td>0.000000</td>\n",
       "      <td>0.0</td>\n",
       "      <td>0.0</td>\n",
       "      <td>0.0</td>\n",
       "      <td>0.0</td>\n",
       "    </tr>\n",
       "    <tr>\n",
       "      <th>3</th>\n",
       "      <td>3</td>\n",
       "      <td>1 Av_0</td>\n",
       "      <td>103 St_2</td>\n",
       "      <td>0.00000</td>\n",
       "      <td>0.0</td>\n",
       "      <td>0.0</td>\n",
       "      <td>0.000000</td>\n",
       "      <td>0.0</td>\n",
       "      <td>0.0</td>\n",
       "      <td>0.0</td>\n",
       "      <td>...</td>\n",
       "      <td>0.000000</td>\n",
       "      <td>0.0</td>\n",
       "      <td>235.120482</td>\n",
       "      <td>0.0</td>\n",
       "      <td>235.120482</td>\n",
       "      <td>235.120482</td>\n",
       "      <td>0.0</td>\n",
       "      <td>0.0</td>\n",
       "      <td>0.0</td>\n",
       "      <td>0.0</td>\n",
       "    </tr>\n",
       "    <tr>\n",
       "      <th>4</th>\n",
       "      <td>4</td>\n",
       "      <td>1 Av_0</td>\n",
       "      <td>104 St_0</td>\n",
       "      <td>0.00000</td>\n",
       "      <td>3600.0</td>\n",
       "      <td>0.0</td>\n",
       "      <td>0.000000</td>\n",
       "      <td>0.0</td>\n",
       "      <td>0.0</td>\n",
       "      <td>0.0</td>\n",
       "      <td>...</td>\n",
       "      <td>0.000000</td>\n",
       "      <td>0.0</td>\n",
       "      <td>0.000000</td>\n",
       "      <td>0.0</td>\n",
       "      <td>0.000000</td>\n",
       "      <td>3600.000000</td>\n",
       "      <td>0.0</td>\n",
       "      <td>0.0</td>\n",
       "      <td>3600.0</td>\n",
       "      <td>3600.0</td>\n",
       "    </tr>\n",
       "  </tbody>\n",
       "</table>\n",
       "<p>5 rows × 5889 columns</p>\n",
       "</div>"
      ],
      "text/plain": [
       "   index to_master_id           from_master_id  W 4 St_0,86 St_1  \\\n",
       "0      0       1 Av_0  103 St - Corona Plaza_0           0.00000   \n",
       "1      1       1 Av_0                 103 St_0           0.00000   \n",
       "2      2       1 Av_0                 103 St_1        1242.30179   \n",
       "3      3       1 Av_0                 103 St_2           0.00000   \n",
       "4      4       1 Av_0                 104 St_0           0.00000   \n",
       "\n",
       "   Grant Av_0,Saratoga Av_0  \\\n",
       "0                       0.0   \n",
       "1                       0.0   \n",
       "2                       0.0   \n",
       "3                       0.0   \n",
       "4                    3600.0   \n",
       "\n",
       "   47-50 Sts - Rockefeller Ctr_0,Jay St - MetroTech_0  \\\n",
       "0                                                0.0    \n",
       "1                                                0.0    \n",
       "2                                                0.0    \n",
       "3                                                0.0    \n",
       "4                                                0.0    \n",
       "\n",
       "   Kew Gardens - Union Tpke_0,14 St_0  \\\n",
       "0                            0.000000   \n",
       "1                           25.120482   \n",
       "2                            0.000000   \n",
       "3                            0.000000   \n",
       "4                            0.000000   \n",
       "\n",
       "   Kew Gardens - Union Tpke_0,Jay St - MetroTech_0  \\\n",
       "0                                              0.0   \n",
       "1                                              0.0   \n",
       "2                                              0.0   \n",
       "3                                              0.0   \n",
       "4                                              0.0   \n",
       "\n",
       "   47-50 Sts - Rockefeller Ctr_0,Rockaway Av_0  145 St_0,168 St_0  \\\n",
       "0                                          0.0                0.0   \n",
       "1                                          0.0                0.0   \n",
       "2                                          0.0                0.0   \n",
       "3                                          0.0                0.0   \n",
       "4                                          0.0                0.0   \n",
       "\n",
       "          ...           14 St - Union Sq_0,168 St - Washington Hts_0  \\\n",
       "0         ...                                             116.565421   \n",
       "1         ...                                               0.000000   \n",
       "2         ...                                             489.095745   \n",
       "3         ...                                               0.000000   \n",
       "4         ...                                               0.000000   \n",
       "\n",
       "   Franklin Av_1,Broadway_1  42 St - Port Authority Bus Terminal_0,86 St_4  \\\n",
       "0                       0.0                                       0.000000   \n",
       "1                       0.0                                       0.000000   \n",
       "2                       0.0                                       0.000000   \n",
       "3                       0.0                                     235.120482   \n",
       "4                       0.0                                       0.000000   \n",
       "\n",
       "   Franklin Av_1,Church Av_0  \\\n",
       "0                        0.0   \n",
       "1                        0.0   \n",
       "2                        0.0   \n",
       "3                        0.0   \n",
       "4                        0.0   \n",
       "\n",
       "   42 St - Port Authority Bus Terminal_0,E 180 St_0  \\\n",
       "0                                          0.000000   \n",
       "1                                          0.000000   \n",
       "2                                          0.000000   \n",
       "3                                        235.120482   \n",
       "4                                          0.000000   \n",
       "\n",
       "   42 St - Port Authority Bus Terminal_0,88 St_0  \\\n",
       "0                                       0.000000   \n",
       "1                                       0.000000   \n",
       "2                                       0.000000   \n",
       "3                                     235.120482   \n",
       "4                                    3600.000000   \n",
       "\n",
       "   Franklin Av_1,Whitehall St_0  Atlantic Av - Barclays Ctr_0,30 Av_0  \\\n",
       "0                           0.0                                   0.0   \n",
       "1                           0.0                                   0.0   \n",
       "2                           0.0                                   0.0   \n",
       "3                           0.0                                   0.0   \n",
       "4                           0.0                                   0.0   \n",
       "\n",
       "   Franklin Av_1,88 St_0  36 St_0,Euclid Av_0  \n",
       "0                    0.0                  0.0  \n",
       "1                    0.0                  0.0  \n",
       "2                    0.0                  0.0  \n",
       "3                    0.0                  0.0  \n",
       "4                 3600.0               3600.0  \n",
       "\n",
       "[5 rows x 5889 columns]"
      ]
     },
     "execution_count": 95,
     "metadata": {},
     "output_type": "execute_result"
    }
   ],
   "source": [
    "df_diff.head()"
   ]
  },
  {
   "cell_type": "code",
   "execution_count": 96,
   "metadata": {
    "collapsed": true
   },
   "outputs": [],
   "source": [
    "demand_0 = pd.read_csv('od_demand_distribution_v2.csv',index_col=0)"
   ]
  },
  {
   "cell_type": "code",
   "execution_count": 97,
   "metadata": {
    "collapsed": false
   },
   "outputs": [
    {
     "data": {
      "text/html": [
       "<div>\n",
       "<style>\n",
       "    .dataframe thead tr:only-child th {\n",
       "        text-align: right;\n",
       "    }\n",
       "\n",
       "    .dataframe thead th {\n",
       "        text-align: left;\n",
       "    }\n",
       "\n",
       "    .dataframe tbody tr th {\n",
       "        vertical-align: top;\n",
       "    }\n",
       "</style>\n",
       "<table border=\"1\" class=\"dataframe\">\n",
       "  <thead>\n",
       "    <tr style=\"text-align: right;\">\n",
       "      <th></th>\n",
       "      <th>from_master</th>\n",
       "      <th>to_master</th>\n",
       "      <th>demand_dist</th>\n",
       "    </tr>\n",
       "  </thead>\n",
       "  <tbody>\n",
       "    <tr>\n",
       "      <th>0</th>\n",
       "      <td>1 Av_0</td>\n",
       "      <td>103 St_0</td>\n",
       "      <td>5.917962</td>\n",
       "    </tr>\n",
       "    <tr>\n",
       "      <th>1</th>\n",
       "      <td>1 Av_0</td>\n",
       "      <td>103 St_1</td>\n",
       "      <td>18.316424</td>\n",
       "    </tr>\n",
       "    <tr>\n",
       "      <th>2</th>\n",
       "      <td>1 Av_0</td>\n",
       "      <td>103 St_2</td>\n",
       "      <td>3.389157</td>\n",
       "    </tr>\n",
       "    <tr>\n",
       "      <th>3</th>\n",
       "      <td>1 Av_0</td>\n",
       "      <td>110 St_0</td>\n",
       "      <td>9.845766</td>\n",
       "    </tr>\n",
       "    <tr>\n",
       "      <th>4</th>\n",
       "      <td>1 Av_0</td>\n",
       "      <td>116 St - Columbia University_0</td>\n",
       "      <td>3.609837</td>\n",
       "    </tr>\n",
       "  </tbody>\n",
       "</table>\n",
       "</div>"
      ],
      "text/plain": [
       "  from_master                       to_master  demand_dist\n",
       "0      1 Av_0                        103 St_0     5.917962\n",
       "1      1 Av_0                        103 St_1    18.316424\n",
       "2      1 Av_0                        103 St_2     3.389157\n",
       "3      1 Av_0                        110 St_0     9.845766\n",
       "4      1 Av_0  116 St - Columbia University_0     3.609837"
      ]
     },
     "execution_count": 97,
     "metadata": {},
     "output_type": "execute_result"
    }
   ],
   "source": [
    "demand_0.head()"
   ]
  },
  {
   "cell_type": "code",
   "execution_count": 98,
   "metadata": {
    "collapsed": true
   },
   "outputs": [],
   "source": [
    "demand_0= demand_0.rename(columns={'from_master':'from_master_id','to_master':'to_master_id'})"
   ]
  },
  {
   "cell_type": "code",
   "execution_count": 99,
   "metadata": {
    "collapsed": false
   },
   "outputs": [],
   "source": [
    "df_diff_0 = df_diff.merge(demand_0,on = ['to_master_id','from_master_id'])"
   ]
  },
  {
   "cell_type": "code",
   "execution_count": 102,
   "metadata": {
    "collapsed": false
   },
   "outputs": [
    {
     "data": {
      "text/plain": [
       "array(['103 St - Corona Plaza_0', '103 St_0', '103 St_1', ...,\n",
       "       'Woodhaven Blvd_1', 'Woodlawn_0', 'York St_0'], dtype=object)"
      ]
     },
     "execution_count": 102,
     "metadata": {},
     "output_type": "execute_result"
    }
   ],
   "source": [
    "np.array(df_diff_0.loc[:,pair])"
   ]
  },
  {
   "cell_type": "code",
   "execution_count": 105,
   "metadata": {
    "collapsed": false
   },
   "outputs": [],
   "source": [
    "delay = {}\n",
    "for pair in df_diff_0.columns[3:-1]:\n",
    "    delay[pair]= sum(np.array(df_diff_0.loc[:,pair]) * np.array(df_diff_0.loc[:,'demand_dist']))\n"
   ]
  },
  {
   "cell_type": "code",
   "execution_count": 107,
   "metadata": {
    "collapsed": true
   },
   "outputs": [],
   "source": [
    "delay = pd.DataFrame(sorted(delay.items(), key=lambda x: x[1],reverse=True),columns=['station','delay'])"
   ]
  },
  {
   "cell_type": "code",
   "execution_count": 108,
   "metadata": {
    "collapsed": false
   },
   "outputs": [
    {
     "data": {
      "text/html": [
       "<div>\n",
       "<style>\n",
       "    .dataframe thead tr:only-child th {\n",
       "        text-align: right;\n",
       "    }\n",
       "\n",
       "    .dataframe thead th {\n",
       "        text-align: left;\n",
       "    }\n",
       "\n",
       "    .dataframe tbody tr th {\n",
       "        vertical-align: top;\n",
       "    }\n",
       "</style>\n",
       "<table border=\"1\" class=\"dataframe\">\n",
       "  <thead>\n",
       "    <tr style=\"text-align: right;\">\n",
       "      <th></th>\n",
       "      <th>station</th>\n",
       "      <th>delay</th>\n",
       "    </tr>\n",
       "  </thead>\n",
       "  <tbody>\n",
       "    <tr>\n",
       "      <th>0</th>\n",
       "      <td>Jackson Hts - Roosevelt Av_0,Broadway Jct_0</td>\n",
       "      <td>9.312560e+08</td>\n",
       "    </tr>\n",
       "    <tr>\n",
       "      <th>1</th>\n",
       "      <td>Jackson Hts - Roosevelt Av_0,Queensboro Plaza_0</td>\n",
       "      <td>9.195693e+08</td>\n",
       "    </tr>\n",
       "    <tr>\n",
       "      <th>2</th>\n",
       "      <td>Broadway Jct_0,Forest Hills - 71 Av_0</td>\n",
       "      <td>7.879241e+08</td>\n",
       "    </tr>\n",
       "    <tr>\n",
       "      <th>3</th>\n",
       "      <td>Broadway Jct_0,Franklin Av_1</td>\n",
       "      <td>7.250019e+08</td>\n",
       "    </tr>\n",
       "    <tr>\n",
       "      <th>4</th>\n",
       "      <td>Broadway Jct_0,Kew Gardens - Union Tpke_0</td>\n",
       "      <td>7.163132e+08</td>\n",
       "    </tr>\n",
       "  </tbody>\n",
       "</table>\n",
       "</div>"
      ],
      "text/plain": [
       "                                           station         delay\n",
       "0      Jackson Hts - Roosevelt Av_0,Broadway Jct_0  9.312560e+08\n",
       "1  Jackson Hts - Roosevelt Av_0,Queensboro Plaza_0  9.195693e+08\n",
       "2            Broadway Jct_0,Forest Hills - 71 Av_0  7.879241e+08\n",
       "3                     Broadway Jct_0,Franklin Av_1  7.250019e+08\n",
       "4        Broadway Jct_0,Kew Gardens - Union Tpke_0  7.163132e+08"
      ]
     },
     "execution_count": 108,
     "metadata": {},
     "output_type": "execute_result"
    }
   ],
   "source": [
    "delay.head()"
   ]
  },
  {
   "cell_type": "code",
   "execution_count": 109,
   "metadata": {
    "collapsed": false
   },
   "outputs": [],
   "source": [
    "delay.to_csv('duration_diff_two_nodes_removal_multiply_demand_agg.csv')"
   ]
  }
 ],
 "metadata": {
  "anaconda-cloud": {},
  "kernelspec": {
   "display_name": "JupyterKern",
   "language": "python",
   "name": "jupyterkern"
  },
  "language_info": {
   "codemirror_mode": {
    "name": "ipython",
    "version": 2
   },
   "file_extension": ".py",
   "mimetype": "text/x-python",
   "name": "python",
   "nbconvert_exporter": "python",
   "pygments_lexer": "ipython2",
   "version": "2.7.13"
  }
 },
 "nbformat": 4,
 "nbformat_minor": 1
}
