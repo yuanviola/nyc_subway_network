{
 "cells": [
  {
   "cell_type": "code",
   "execution_count": 1,
   "metadata": {
    "collapsed": true
   },
   "outputs": [],
   "source": [
    "import pandas as pd \n",
    "import numpy as np\n",
    "import itertools\n",
    "import os"
   ]
  },
  {
   "cell_type": "code",
   "execution_count": 28,
   "metadata": {
    "collapsed": true
   },
   "outputs": [],
   "source": [
    "demand_0 = pd.read_csv('od_demand_distribution_v2.csv',index_col=0)"
   ]
  },
  {
   "cell_type": "code",
   "execution_count": 31,
   "metadata": {
    "collapsed": true
   },
   "outputs": [],
   "source": [
    "demand_0= demand_0.rename(columns={'from_master':'from_master_id',\n",
    "                        'to_master':'to_master_id'})"
   ]
  },
  {
   "cell_type": "code",
   "execution_count": 32,
   "metadata": {
    "collapsed": false
   },
   "outputs": [
    {
     "data": {
      "text/html": [
       "<div>\n",
       "<style>\n",
       "    .dataframe thead tr:only-child th {\n",
       "        text-align: right;\n",
       "    }\n",
       "\n",
       "    .dataframe thead th {\n",
       "        text-align: left;\n",
       "    }\n",
       "\n",
       "    .dataframe tbody tr th {\n",
       "        vertical-align: top;\n",
       "    }\n",
       "</style>\n",
       "<table border=\"1\" class=\"dataframe\">\n",
       "  <thead>\n",
       "    <tr style=\"text-align: right;\">\n",
       "      <th></th>\n",
       "      <th>from_master_id</th>\n",
       "      <th>to_master_id</th>\n",
       "      <th>demand_dist</th>\n",
       "    </tr>\n",
       "  </thead>\n",
       "  <tbody>\n",
       "    <tr>\n",
       "      <th>0</th>\n",
       "      <td>1 Av_0</td>\n",
       "      <td>103 St_0</td>\n",
       "      <td>5.917962</td>\n",
       "    </tr>\n",
       "    <tr>\n",
       "      <th>1</th>\n",
       "      <td>1 Av_0</td>\n",
       "      <td>103 St_1</td>\n",
       "      <td>18.316424</td>\n",
       "    </tr>\n",
       "    <tr>\n",
       "      <th>2</th>\n",
       "      <td>1 Av_0</td>\n",
       "      <td>103 St_2</td>\n",
       "      <td>3.389157</td>\n",
       "    </tr>\n",
       "    <tr>\n",
       "      <th>3</th>\n",
       "      <td>1 Av_0</td>\n",
       "      <td>110 St_0</td>\n",
       "      <td>9.845766</td>\n",
       "    </tr>\n",
       "    <tr>\n",
       "      <th>4</th>\n",
       "      <td>1 Av_0</td>\n",
       "      <td>116 St - Columbia University_0</td>\n",
       "      <td>3.609837</td>\n",
       "    </tr>\n",
       "  </tbody>\n",
       "</table>\n",
       "</div>"
      ],
      "text/plain": [
       "  from_master_id                    to_master_id  demand_dist\n",
       "0         1 Av_0                        103 St_0     5.917962\n",
       "1         1 Av_0                        103 St_1    18.316424\n",
       "2         1 Av_0                        103 St_2     3.389157\n",
       "3         1 Av_0                        110 St_0     9.845766\n",
       "4         1 Av_0  116 St - Columbia University_0     3.609837"
      ]
     },
     "execution_count": 32,
     "metadata": {},
     "output_type": "execute_result"
    }
   ],
   "source": [
    "demand_0.head()"
   ]
  },
  {
   "cell_type": "code",
   "execution_count": 33,
   "metadata": {
    "collapsed": false
   },
   "outputs": [
    {
     "data": {
      "text/plain": [
       "(110959, 3)"
      ]
     },
     "execution_count": 33,
     "metadata": {},
     "output_type": "execute_result"
    }
   ],
   "source": [
    "demand_0.shape"
   ]
  },
  {
   "cell_type": "code",
   "execution_count": 5,
   "metadata": {
    "collapsed": false
   },
   "outputs": [],
   "source": [
    "duration = pd.read_csv('remove_one_node_duration_diff.csv.gz',compression='gzip')"
   ]
  },
  {
   "cell_type": "code",
   "execution_count": 7,
   "metadata": {
    "collapsed": false,
    "scrolled": true
   },
   "outputs": [],
   "source": [
    "del duration['Unnamed: 0']"
   ]
  },
  {
   "cell_type": "code",
   "execution_count": 8,
   "metadata": {
    "collapsed": false
   },
   "outputs": [],
   "source": [
    "### if none, means not reachable for 1 hour\n",
    "duration = duration.fillna(3600)"
   ]
  },
  {
   "cell_type": "code",
   "execution_count": 23,
   "metadata": {
    "collapsed": false
   },
   "outputs": [
    {
     "data": {
      "text/plain": [
       "(215760, 467)"
      ]
     },
     "execution_count": 23,
     "metadata": {},
     "output_type": "execute_result"
    }
   ],
   "source": [
    "duration.shape"
   ]
  },
  {
   "cell_type": "code",
   "execution_count": 34,
   "metadata": {
    "collapsed": false
   },
   "outputs": [],
   "source": [
    "duration_0 = duration.merge(demand_0,on = ['to_master_id','from_master_id'],how='left')"
   ]
  },
  {
   "cell_type": "code",
   "execution_count": 35,
   "metadata": {
    "collapsed": false
   },
   "outputs": [
    {
     "data": {
      "text/plain": [
       "(215760, 468)"
      ]
     },
     "execution_count": 35,
     "metadata": {},
     "output_type": "execute_result"
    }
   ],
   "source": [
    "duration_0.shape"
   ]
  },
  {
   "cell_type": "code",
   "execution_count": 43,
   "metadata": {
    "collapsed": false
   },
   "outputs": [],
   "source": [
    "duration_0['demand_dist']= duration_0['demand_dist'].fillna(0)"
   ]
  },
  {
   "cell_type": "code",
   "execution_count": 44,
   "metadata": {
    "collapsed": false
   },
   "outputs": [
    {
     "data": {
      "text/html": [
       "<div>\n",
       "<style>\n",
       "    .dataframe thead tr:only-child th {\n",
       "        text-align: right;\n",
       "    }\n",
       "\n",
       "    .dataframe thead th {\n",
       "        text-align: left;\n",
       "    }\n",
       "\n",
       "    .dataframe tbody tr th {\n",
       "        vertical-align: top;\n",
       "    }\n",
       "</style>\n",
       "<table border=\"1\" class=\"dataframe\">\n",
       "  <thead>\n",
       "    <tr style=\"text-align: right;\">\n",
       "      <th></th>\n",
       "      <th>to_master_id</th>\n",
       "      <th>from_master_id</th>\n",
       "      <th>Brighton Beach_0</th>\n",
       "      <th>Canal St_1</th>\n",
       "      <th>Canal St_0</th>\n",
       "      <th>Canal St_2</th>\n",
       "      <th>Intervale Av_0</th>\n",
       "      <th>65 St_0</th>\n",
       "      <th>Parkside Av_0</th>\n",
       "      <th>Broad Channel_0</th>\n",
       "      <th>...</th>\n",
       "      <th>59 St - Columbus Circle_0</th>\n",
       "      <th>Pelham Bay Park_0</th>\n",
       "      <th>Flatbush Av - Brooklyn College_0</th>\n",
       "      <th>Jackson Av_0</th>\n",
       "      <th>Nostrand Av_0</th>\n",
       "      <th>Nostrand Av_1</th>\n",
       "      <th>25 Av_0</th>\n",
       "      <th>Neck Rd_0</th>\n",
       "      <th>176 St_0</th>\n",
       "      <th>demand_dist</th>\n",
       "    </tr>\n",
       "  </thead>\n",
       "  <tbody>\n",
       "    <tr>\n",
       "      <th>0</th>\n",
       "      <td>1 Av_0</td>\n",
       "      <td>103 St - Corona Plaza_0</td>\n",
       "      <td>0.0</td>\n",
       "      <td>0.0</td>\n",
       "      <td>0.0</td>\n",
       "      <td>0.0</td>\n",
       "      <td>0.0</td>\n",
       "      <td>0.0</td>\n",
       "      <td>0.0</td>\n",
       "      <td>0.0</td>\n",
       "      <td>...</td>\n",
       "      <td>0.00000</td>\n",
       "      <td>0.0</td>\n",
       "      <td>0.0</td>\n",
       "      <td>0.0</td>\n",
       "      <td>0.0</td>\n",
       "      <td>0.0</td>\n",
       "      <td>0.0</td>\n",
       "      <td>0.0</td>\n",
       "      <td>0.0</td>\n",
       "      <td>36.522201</td>\n",
       "    </tr>\n",
       "    <tr>\n",
       "      <th>1</th>\n",
       "      <td>1 Av_0</td>\n",
       "      <td>103 St_0</td>\n",
       "      <td>0.0</td>\n",
       "      <td>0.0</td>\n",
       "      <td>0.0</td>\n",
       "      <td>0.0</td>\n",
       "      <td>0.0</td>\n",
       "      <td>0.0</td>\n",
       "      <td>0.0</td>\n",
       "      <td>0.0</td>\n",
       "      <td>...</td>\n",
       "      <td>0.00000</td>\n",
       "      <td>0.0</td>\n",
       "      <td>0.0</td>\n",
       "      <td>0.0</td>\n",
       "      <td>0.0</td>\n",
       "      <td>0.0</td>\n",
       "      <td>0.0</td>\n",
       "      <td>0.0</td>\n",
       "      <td>0.0</td>\n",
       "      <td>19.944083</td>\n",
       "    </tr>\n",
       "    <tr>\n",
       "      <th>2</th>\n",
       "      <td>1 Av_0</td>\n",
       "      <td>103 St_1</td>\n",
       "      <td>0.0</td>\n",
       "      <td>0.0</td>\n",
       "      <td>0.0</td>\n",
       "      <td>0.0</td>\n",
       "      <td>0.0</td>\n",
       "      <td>0.0</td>\n",
       "      <td>0.0</td>\n",
       "      <td>0.0</td>\n",
       "      <td>...</td>\n",
       "      <td>0.00000</td>\n",
       "      <td>0.0</td>\n",
       "      <td>0.0</td>\n",
       "      <td>0.0</td>\n",
       "      <td>0.0</td>\n",
       "      <td>0.0</td>\n",
       "      <td>0.0</td>\n",
       "      <td>0.0</td>\n",
       "      <td>0.0</td>\n",
       "      <td>16.857802</td>\n",
       "    </tr>\n",
       "    <tr>\n",
       "      <th>3</th>\n",
       "      <td>1 Av_0</td>\n",
       "      <td>103 St_2</td>\n",
       "      <td>0.0</td>\n",
       "      <td>0.0</td>\n",
       "      <td>0.0</td>\n",
       "      <td>0.0</td>\n",
       "      <td>0.0</td>\n",
       "      <td>0.0</td>\n",
       "      <td>0.0</td>\n",
       "      <td>0.0</td>\n",
       "      <td>...</td>\n",
       "      <td>1353.69403</td>\n",
       "      <td>0.0</td>\n",
       "      <td>0.0</td>\n",
       "      <td>0.0</td>\n",
       "      <td>0.0</td>\n",
       "      <td>0.0</td>\n",
       "      <td>0.0</td>\n",
       "      <td>0.0</td>\n",
       "      <td>0.0</td>\n",
       "      <td>7.609337</td>\n",
       "    </tr>\n",
       "    <tr>\n",
       "      <th>4</th>\n",
       "      <td>1 Av_0</td>\n",
       "      <td>104 St_0</td>\n",
       "      <td>0.0</td>\n",
       "      <td>0.0</td>\n",
       "      <td>0.0</td>\n",
       "      <td>0.0</td>\n",
       "      <td>0.0</td>\n",
       "      <td>0.0</td>\n",
       "      <td>0.0</td>\n",
       "      <td>0.0</td>\n",
       "      <td>...</td>\n",
       "      <td>0.00000</td>\n",
       "      <td>0.0</td>\n",
       "      <td>0.0</td>\n",
       "      <td>0.0</td>\n",
       "      <td>0.0</td>\n",
       "      <td>0.0</td>\n",
       "      <td>0.0</td>\n",
       "      <td>0.0</td>\n",
       "      <td>0.0</td>\n",
       "      <td>32.992983</td>\n",
       "    </tr>\n",
       "  </tbody>\n",
       "</table>\n",
       "<p>5 rows × 468 columns</p>\n",
       "</div>"
      ],
      "text/plain": [
       "  to_master_id           from_master_id  Brighton Beach_0  Canal St_1  \\\n",
       "0       1 Av_0  103 St - Corona Plaza_0               0.0         0.0   \n",
       "1       1 Av_0                 103 St_0               0.0         0.0   \n",
       "2       1 Av_0                 103 St_1               0.0         0.0   \n",
       "3       1 Av_0                 103 St_2               0.0         0.0   \n",
       "4       1 Av_0                 104 St_0               0.0         0.0   \n",
       "\n",
       "   Canal St_0  Canal St_2  Intervale Av_0  65 St_0  Parkside Av_0  \\\n",
       "0         0.0         0.0             0.0      0.0            0.0   \n",
       "1         0.0         0.0             0.0      0.0            0.0   \n",
       "2         0.0         0.0             0.0      0.0            0.0   \n",
       "3         0.0         0.0             0.0      0.0            0.0   \n",
       "4         0.0         0.0             0.0      0.0            0.0   \n",
       "\n",
       "   Broad Channel_0     ...       59 St - Columbus Circle_0  Pelham Bay Park_0  \\\n",
       "0              0.0     ...                         0.00000                0.0   \n",
       "1              0.0     ...                         0.00000                0.0   \n",
       "2              0.0     ...                         0.00000                0.0   \n",
       "3              0.0     ...                      1353.69403                0.0   \n",
       "4              0.0     ...                         0.00000                0.0   \n",
       "\n",
       "   Flatbush Av - Brooklyn College_0  Jackson Av_0  Nostrand Av_0  \\\n",
       "0                               0.0           0.0            0.0   \n",
       "1                               0.0           0.0            0.0   \n",
       "2                               0.0           0.0            0.0   \n",
       "3                               0.0           0.0            0.0   \n",
       "4                               0.0           0.0            0.0   \n",
       "\n",
       "   Nostrand Av_1  25 Av_0  Neck Rd_0  176 St_0  demand_dist  \n",
       "0            0.0      0.0        0.0       0.0    36.522201  \n",
       "1            0.0      0.0        0.0       0.0    19.944083  \n",
       "2            0.0      0.0        0.0       0.0    16.857802  \n",
       "3            0.0      0.0        0.0       0.0     7.609337  \n",
       "4            0.0      0.0        0.0       0.0    32.992983  \n",
       "\n",
       "[5 rows x 468 columns]"
      ]
     },
     "execution_count": 44,
     "metadata": {},
     "output_type": "execute_result"
    }
   ],
   "source": [
    "duration_0.head()"
   ]
  },
  {
   "cell_type": "code",
   "execution_count": 45,
   "metadata": {
    "collapsed": false
   },
   "outputs": [],
   "source": [
    "delay = {}\n",
    "for station in duration_0.columns[2:-1]:\n",
    "    delay[station]= sum(np.array(duration.loc[:,station]) *\\\n",
    "                        np.array(duration_0.loc[:,'demand_dist']))\n",
    "    "
   ]
  },
  {
   "cell_type": "code",
   "execution_count": 47,
   "metadata": {
    "collapsed": false
   },
   "outputs": [],
   "source": [
    "delay = pd.DataFrame(sorted(delay.items(), key=lambda x: x[1],reverse=True),\n",
    "                     columns=['station','delay'])"
   ]
  },
  {
   "cell_type": "code",
   "execution_count": 48,
   "metadata": {
    "collapsed": false
   },
   "outputs": [],
   "source": [
    "delay.to_csv('delay_multiply_demand_one_node_removal.csv')"
   ]
  },
  {
   "cell_type": "code",
   "execution_count": 50,
   "metadata": {
    "collapsed": false
   },
   "outputs": [],
   "source": [
    "critical = delay.head(50)['station'].values"
   ]
  },
  {
   "cell_type": "code",
   "execution_count": 51,
   "metadata": {
    "collapsed": false
   },
   "outputs": [
    {
     "data": {
      "text/plain": [
       "array(['Broadway Jct_0', 'Jackson Hts - Roosevelt Av_0',\n",
       "       'Kew Gardens - Union Tpke_0', 'Junction Blvd_0',\n",
       "       '149 St - Grand Concourse_0', '125 St_2', 'Queensboro Plaza_0',\n",
       "       'Forest Hills - 71 Av_0', '36 St_0', 'Grand Central - 42 St_0',\n",
       "       '3 Av - 149 St_0', 'Euclid Av_0', '59 St_0', 'Franklin Av_1',\n",
       "       '39 Av_0', 'Atlantic Av - Barclays Ctr_0',\n",
       "       '161 St - Yankee Stadium_0', '3 Av - 138 St_0', 'Grant Av_0',\n",
       "       '36 Av_0', 'Prospect Park_0', 'Parsons Blvd_0', '80 St_0',\n",
       "       'Church Av_1', 'Broadway_1', '86 St_1', '88 St_0',\n",
       "       'Hunts Point Av_0', 'E 180 St_0', '167 St_0',\n",
       "       'Lexington Av/63 St_0', 'Mets - Willets Point_0', 'Rockaway Blvd_0',\n",
       "       'Times Sq - 42 St_0', '14 St - Union Sq_0', 'President St_0',\n",
       "       '34 St - Herald Sq_0', '30 Av_0', 'Sterling St_0', '59 St_1',\n",
       "       'Newkirk Plaza_0', 'Myrtle - Wyckoff Avs_0',\n",
       "       '59 St - Columbus Circle_0', 'Winthrop St_0', 'Livonia Av_0',\n",
       "       '168 St - Washington Hts_0', '72 St_2', '72 St_0',\n",
       "       'Flushing - Main St_0', 'Parkchester_0'], dtype=object)"
      ]
     },
     "execution_count": 51,
     "metadata": {},
     "output_type": "execute_result"
    }
   ],
   "source": [
    "critical"
   ]
  },
  {
   "cell_type": "code",
   "execution_count": 45,
   "metadata": {
    "collapsed": false
   },
   "outputs": [],
   "source": [
    "critical = [x.replace('/','-') for x in critical]"
   ]
  },
  {
   "cell_type": "code",
   "execution_count": 46,
   "metadata": {
    "collapsed": false
   },
   "outputs": [],
   "source": [
    "critical_pairs=[]\n",
    "for i in itertools.combinations(critical,2):\n",
    "    critical_pairs.append(i)"
   ]
  },
  {
   "cell_type": "code",
   "execution_count": 48,
   "metadata": {
    "collapsed": false
   },
   "outputs": [
    {
     "data": {
      "text/plain": [
       "[('Jackson Hts - Roosevelt Av_0', '149 St - Grand Concourse_0'),\n",
       " ('Jackson Hts - Roosevelt Av_0', '125 St_2'),\n",
       " ('Jackson Hts - Roosevelt Av_0', 'Broadway Jct_0')]"
      ]
     },
     "execution_count": 48,
     "metadata": {},
     "output_type": "execute_result"
    }
   ],
   "source": [
    "critical_pairs[:3]"
   ]
  },
  {
   "cell_type": "code",
   "execution_count": 34,
   "metadata": {
    "collapsed": false
   },
   "outputs": [],
   "source": [
    "two_nodes = os.listdir('remove-two-node')"
   ]
  },
  {
   "cell_type": "code",
   "execution_count": 35,
   "metadata": {
    "collapsed": false
   },
   "outputs": [],
   "source": [
    "two_nodes = map(lambda x:tuple( x.split(',')), two_nodes)"
   ]
  }
 ],
 "metadata": {
  "anaconda-cloud": {},
  "kernelspec": {
   "display_name": "JupyterKern",
   "language": "python",
   "name": "jupyterkern"
  },
  "language_info": {
   "codemirror_mode": {
    "name": "ipython",
    "version": 2
   },
   "file_extension": ".py",
   "mimetype": "text/x-python",
   "name": "python",
   "nbconvert_exporter": "python",
   "pygments_lexer": "ipython2",
   "version": "2.7.13"
  }
 },
 "nbformat": 4,
 "nbformat_minor": 2
}
